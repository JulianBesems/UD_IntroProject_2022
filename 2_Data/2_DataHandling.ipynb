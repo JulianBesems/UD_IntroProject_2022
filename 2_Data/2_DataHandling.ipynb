{
 "cells": [
  {
   "cell_type": "markdown",
   "id": "cc0ad464",
   "metadata": {},
   "source": [
    "---\n",
    "<br/><br/>\n",
    "<br/><br/>\n",
    "<br/><br/>\n",
    "## Session 2 \n",
    "\n",
    "### Classes, Read and Write files, 2D Arrays\n",
    "\n",
    "_Julian Besems_\n",
    "<br/><br/>\n",
    "<br/><br/>\n",
    "<br/><br/>"
   ]
  },
  {
   "cell_type": "markdown",
   "id": "dbb20e5d",
   "metadata": {},
   "source": [
    "------------------\n",
    "<br/><br/>\n",
    "<br/><br/>\n",
    "<br/><br/>\n",
    "# Contents\n",
    "- _Classes_: a means to create custom data object, including attributes and functions\n",
    "- Read and write files:\n",
    "    - Text files, CSV files, Images\n",
    "- 2D and 3D arrays\n",
    "- Vectors\n",
    "<br/><br/>\n",
    "<br/><br/>\n",
    "<br/><br/>"
   ]
  },
  {
   "cell_type": "markdown",
   "id": "4c399ff1",
   "metadata": {},
   "source": [
    "---\n",
    "\n",
    "## Object Orientation\n",
    "\n",
    "\"Object-oriented programming (OOP) is a computer programming model that organizes software design around data, or objects, rather than functions and logic. An object can be defined as a data field that has unique attributes and behavior.\" - \n",
    "_A. Gillis_"
   ]
  },
  {
   "cell_type": "markdown",
   "id": "b41fab47",
   "metadata": {},
   "source": [
    "---\n",
    "<img src=\"https://l87r32c95dp1hz05tig4px11-wpengine.netdna-ssl.com/wp-content/uploads/2019/04/Pattern_Language1-768x901.jpg\" alt=\"drawing\" width=\"600\"/><br/><br/>"
   ]
  },
  {
   "cell_type": "markdown",
   "id": "fead8788",
   "metadata": {},
   "source": [
    "---\n",
    "<img src=\"https://springframework.guru/wp-content/uploads/2015/04/9780201633610.jpg\" alt=\"drawing\" width=\"500\"/><br/><br/>"
   ]
  },
  {
   "cell_type": "markdown",
   "id": "40ef8dde",
   "metadata": {},
   "source": [
    "---\n",
    "<br/><br/>\n",
    "<br/><br/>\n",
    "# Classes and Objects\n",
    "\n",
    "__In Python every object is an instance of a class. The class defines the characteristics an object can have.__\n",
    "\n",
    "<br/><br/>\n",
    "---"
   ]
  },
  {
   "cell_type": "markdown",
   "id": "c5330bfe",
   "metadata": {},
   "source": [
    "---\n",
    "<br/><br/>\n",
    "<br/><br/>\n",
    "## Real life example\n",
    "\n",
    "- Cars are one class of objects\n",
    "- a specific car is an object\n",
    "\n",
    "\n",
    "The class of cars is defined by a set of __Attributes__ and a set of __Methods__\n",
    "\n",
    "---\n",
    "### Attributes of Car\n",
    "- weight\n",
    "- colour\n",
    "- brand\n",
    "- height\n",
    "- width\n",
    "- top speed\n",
    "- etc.\n",
    "\n",
    "---\n",
    "### Methods of Car\n",
    "- drive\n",
    "- break\n",
    "- drive backwards\n",
    "- change gear\n",
    "- etc.\n",
    "\n",
    "---\n",
    "\n",
    "### Instance of car\n",
    "\n",
    "- weight = 800 kg\n",
    "- Colour = Red\n",
    "- Brand = Ford\n",
    "- Height = 1700\n",
    "- Width = 1600\n",
    "- etc.\n",
    "\n",
    "<br/><br/>\n",
    "---"
   ]
  },
  {
   "cell_type": "code",
   "execution_count": null,
   "id": "02ca81fe",
   "metadata": {},
   "outputs": [],
   "source": [
    "class Car:    \n",
    "    def __init__(self, colour):\n",
    "        self.brand = 'ford'\n",
    "        self.colour = colour\n",
    "        self.numberPlate = ['a','b','c','d','e']\n",
    "    \n",
    "    def describe(self):\n",
    "        print('this car is a ' + self.colour + ' ' + self.brand)"
   ]
  },
  {
   "cell_type": "markdown",
   "id": "f144bad9",
   "metadata": {},
   "source": [
    "```Car``` : name of the class\n",
    "\n",
    "```def __init__(self, ...) ``` : initialise function\n",
    "\n",
    "```colour``` : initialise argument\n",
    "\n",
    "```self.brand = 'ford'``` : default value variable\n",
    "\n",
    "```self.colour = colour``` : instantiated value variable \n",
    "\n",
    "```def describe ...``` : functions within the class"
   ]
  },
  {
   "cell_type": "code",
   "execution_count": null,
   "id": "ad6e6372",
   "metadata": {},
   "outputs": [],
   "source": [
    "car = Car('red')\n",
    "car.describe()"
   ]
  },
  {
   "cell_type": "code",
   "execution_count": null,
   "id": "28183677",
   "metadata": {},
   "outputs": [],
   "source": [
    "car.brand = 'BMW'"
   ]
  },
  {
   "cell_type": "code",
   "execution_count": null,
   "id": "f0c07940",
   "metadata": {},
   "outputs": [],
   "source": [
    "car.describe()"
   ]
  },
  {
   "cell_type": "markdown",
   "id": "11a3f54a",
   "metadata": {},
   "source": [
    "---\n",
    "__Pointers__\n",
    "\n",
    "__In a computer memory has addresses.__\n",
    "\n",
    "An address refers to content where a value can be stored _(usually)_. \n"
   ]
  },
  {
   "cell_type": "markdown",
   "id": "c54e5963",
   "metadata": {},
   "source": [
    "<br/><br/>\n",
    "<img src=\"https://upload.wikimedia.org/wikipedia/commons/thumb/b/b4/Pointers.svg/1920px-Pointers.svg.png\" alt=\"drawing\" width=\"200\"/>\n",
    "\n",
    "For more info:\n",
    "https://en.wikipedia.org/wiki/Pointer_(computer_programming)"
   ]
  },
  {
   "cell_type": "code",
   "execution_count": null,
   "id": "c2450a59",
   "metadata": {},
   "outputs": [],
   "source": [
    "car2 = car"
   ]
  },
  {
   "cell_type": "code",
   "execution_count": null,
   "id": "07f657f6",
   "metadata": {},
   "outputs": [],
   "source": [
    "car2.describe()"
   ]
  },
  {
   "cell_type": "code",
   "execution_count": null,
   "id": "42c44fdd",
   "metadata": {},
   "outputs": [],
   "source": [
    "car.describe()"
   ]
  },
  {
   "cell_type": "code",
   "execution_count": null,
   "id": "c8952c64",
   "metadata": {},
   "outputs": [],
   "source": [
    "car2.brand = 'VW'"
   ]
  },
  {
   "cell_type": "code",
   "execution_count": null,
   "id": "f2e70206",
   "metadata": {},
   "outputs": [],
   "source": [
    "car.describe()"
   ]
  },
  {
   "cell_type": "code",
   "execution_count": null,
   "id": "e75d6e36",
   "metadata": {},
   "outputs": [],
   "source": [
    "print(id(car))\n",
    "print(id(car2))"
   ]
  },
  {
   "cell_type": "code",
   "execution_count": null,
   "id": "170d5311",
   "metadata": {},
   "outputs": [],
   "source": [
    "import copy\n",
    "car2 = copy.copy(car)\n",
    "car2.brand = 'Audi'"
   ]
  },
  {
   "cell_type": "code",
   "execution_count": null,
   "id": "88a88580",
   "metadata": {},
   "outputs": [],
   "source": [
    "car.describe()"
   ]
  },
  {
   "cell_type": "code",
   "execution_count": null,
   "id": "7c9f01df",
   "metadata": {},
   "outputs": [],
   "source": [
    "car2.describe()"
   ]
  },
  {
   "cell_type": "code",
   "execution_count": null,
   "id": "128efb3f",
   "metadata": {},
   "outputs": [],
   "source": [
    "print(id(car))\n",
    "print(id(car2))"
   ]
  },
  {
   "cell_type": "code",
   "execution_count": null,
   "id": "215eead1",
   "metadata": {},
   "outputs": [],
   "source": [
    "car2.numberPlate[0] = 1"
   ]
  },
  {
   "cell_type": "code",
   "execution_count": null,
   "id": "5f509dcd",
   "metadata": {},
   "outputs": [],
   "source": [
    "print(car.numberPlate)"
   ]
  },
  {
   "cell_type": "code",
   "execution_count": null,
   "id": "f6b19ca0",
   "metadata": {},
   "outputs": [],
   "source": [
    "print(id(car.numberPlate))\n",
    "print(id(car2.numberPlate))"
   ]
  },
  {
   "cell_type": "code",
   "execution_count": null,
   "id": "1c8d2f7d",
   "metadata": {},
   "outputs": [],
   "source": [
    "car2 = copy.deepcopy(car)\n",
    "car2.numberPlate[0] = 8"
   ]
  },
  {
   "cell_type": "code",
   "execution_count": null,
   "id": "4857fd5d",
   "metadata": {},
   "outputs": [],
   "source": [
    "print(car.numberPlate)\n",
    "print(car2.numberPlate)"
   ]
  },
  {
   "cell_type": "code",
   "execution_count": null,
   "id": "28359ab2",
   "metadata": {
    "scrolled": true
   },
   "outputs": [],
   "source": [
    "print(id(car.numberPlate))\n",
    "print(id(car2.numberPlate))"
   ]
  },
  {
   "cell_type": "markdown",
   "id": "bc2ec4e1",
   "metadata": {},
   "source": [
    "---\n",
    "\n",
    "# Read and Write Files\n",
    "\n",
    "There are many ways of interacting with external information, we'll cover 4 basic ways here."
   ]
  },
  {
   "cell_type": "markdown",
   "id": "ea360d51",
   "metadata": {},
   "source": [
    "---\n",
    "\n",
    "### Text files"
   ]
  },
  {
   "cell_type": "code",
   "execution_count": null,
   "id": "36407418",
   "metadata": {},
   "outputs": [],
   "source": [
    "f = open(\"demo1.txt\", \"r\")\n",
    "print(f.read())"
   ]
  },
  {
   "cell_type": "markdown",
   "id": "62476d3d",
   "metadata": {},
   "source": [
    "```f```: the variable containing the file object\n",
    "\n",
    "```open()```: built in function to open a file\n",
    "\n",
    "```\"demo1.txt\"```: string containing the path to the file\n",
    "\n",
    "```\"r\"```: flag to specify the way in which the file is opened, ```\"r\"``` is the read flag\n",
    "\n",
    "```f.read()```: function of the file object to read the content of the file"
   ]
  },
  {
   "cell_type": "code",
   "execution_count": null,
   "id": "8acfdd3b",
   "metadata": {},
   "outputs": [],
   "source": [
    "f = open(\"demo1.txt\", \"r\")\n",
    "print(f.read(5))"
   ]
  },
  {
   "cell_type": "code",
   "execution_count": null,
   "id": "baa04347",
   "metadata": {},
   "outputs": [],
   "source": [
    "f = open(\"demo1.txt\", \"r\")\n",
    "print(f.readline())"
   ]
  },
  {
   "cell_type": "code",
   "execution_count": null,
   "id": "c8c14620",
   "metadata": {},
   "outputs": [],
   "source": [
    "print(f.readline())"
   ]
  },
  {
   "cell_type": "code",
   "execution_count": null,
   "id": "6093cd55",
   "metadata": {},
   "outputs": [],
   "source": [
    "print(f.readline())"
   ]
  },
  {
   "cell_type": "code",
   "execution_count": null,
   "id": "6aeb294d",
   "metadata": {},
   "outputs": [],
   "source": [
    "f = open(\"demo1.txt\", \"r\")\n",
    "for l in f:\n",
    "    print(l)"
   ]
  },
  {
   "cell_type": "markdown",
   "id": "ad384cb0",
   "metadata": {},
   "source": [
    "__Good practice to close a file once you're done:__"
   ]
  },
  {
   "cell_type": "code",
   "execution_count": null,
   "id": "f02dbbcb",
   "metadata": {},
   "outputs": [],
   "source": [
    "f.close()"
   ]
  },
  {
   "cell_type": "markdown",
   "id": "e6859499",
   "metadata": {},
   "source": [
    "__Writing to a file__\n",
    "\n",
    "Two flags:\n",
    "\n",
    "```a```: append - add to the end of an existing file, or if the file doesn't exist create a new one\n",
    "\n",
    "```w```: overwrite an existing file, or if the file doesn't exist create a new one"
   ]
  },
  {
   "cell_type": "code",
   "execution_count": null,
   "id": "858fd313",
   "metadata": {},
   "outputs": [],
   "source": [
    "f= open(\"demo1.txt\", 'a')\n",
    "f.write(\"now it has some more text\")\n",
    "f.close()"
   ]
  },
  {
   "cell_type": "code",
   "execution_count": null,
   "id": "01837f53",
   "metadata": {},
   "outputs": [],
   "source": [
    "f = open(\"demo1.txt\", \"r\")\n",
    "print(f.read())"
   ]
  },
  {
   "cell_type": "code",
   "execution_count": null,
   "id": "86bd5c5a",
   "metadata": {},
   "outputs": [],
   "source": [
    "f= open(\"demo1.txt\", 'w')\n",
    "f.write(\"now all the previous text is gone\")\n",
    "f.close()"
   ]
  },
  {
   "cell_type": "code",
   "execution_count": null,
   "id": "9bd5605d",
   "metadata": {},
   "outputs": [],
   "source": [
    "f = open(\"demo1.txt\", \"r\")\n",
    "print(f.read())"
   ]
  },
  {
   "cell_type": "code",
   "execution_count": null,
   "id": "1af50fd5",
   "metadata": {},
   "outputs": [],
   "source": [
    "f= open(\"demo2.txt\", 'w')\n",
    "f.write(\"This file didn't exist earlier\")\n",
    "f.close()"
   ]
  },
  {
   "cell_type": "code",
   "execution_count": null,
   "id": "2d0ac94e",
   "metadata": {
    "scrolled": true
   },
   "outputs": [],
   "source": [
    "f = open(\"demo2.txt\", \"r\")\n",
    "print(f.read())"
   ]
  },
  {
   "cell_type": "markdown",
   "id": "1eef7fd5",
   "metadata": {},
   "source": [
    "---\n",
    "\n",
    "### CSV files\n",
    "\n",
    "CSV: Comma Seperated Values\n",
    "\n",
    "A common file format with a specific way of reading and writing to make data parsing easier\n",
    "\n",
    "https://docs.python.org/3/library/csv.html"
   ]
  },
  {
   "cell_type": "code",
   "execution_count": null,
   "id": "4751a426",
   "metadata": {},
   "outputs": [],
   "source": [
    "import csv"
   ]
  },
  {
   "cell_type": "code",
   "execution_count": null,
   "id": "69a8d84f",
   "metadata": {},
   "outputs": [],
   "source": [
    "with open('csvDemo.csv') as csvfile:\n",
    "    reader = csv.reader(csvfile)\n",
    "    for r in reader:\n",
    "        print(r)"
   ]
  },
  {
   "cell_type": "code",
   "execution_count": null,
   "id": "a7b60eaf",
   "metadata": {},
   "outputs": [],
   "source": [
    "with open('csvDemo.csv', 'w') as csvfile:\n",
    "    writer = csv.writer(csvfile)\n",
    "    writer.writerow('spam')"
   ]
  },
  {
   "cell_type": "code",
   "execution_count": null,
   "id": "a5416357",
   "metadata": {},
   "outputs": [],
   "source": [
    "with open('csvDemo.csv', 'w') as csvfile:\n",
    "    writer = csv.writer(csvfile)\n",
    "    writer.writerow(['spam']*5)"
   ]
  },
  {
   "cell_type": "code",
   "execution_count": null,
   "id": "59ace252",
   "metadata": {},
   "outputs": [],
   "source": [
    "with open('csvDemo.csv', 'w') as csvfile:\n",
    "    writer = csv.writer(csvfile)\n",
    "    for i in range(10):\n",
    "        row = []\n",
    "        for j in range(10):\n",
    "            row.append(i*j)\n",
    "        writer.writerow(row)"
   ]
  },
  {
   "cell_type": "code",
   "execution_count": null,
   "id": "76c039aa",
   "metadata": {},
   "outputs": [],
   "source": [
    "with open('csvDemo.csv') as csvfile:\n",
    "    reader = csv.reader(csvfile)\n",
    "    for r in reader:\n",
    "        print(r)"
   ]
  },
  {
   "cell_type": "markdown",
   "id": "8a9b1abf",
   "metadata": {},
   "source": [
    "---\n",
    "\n",
    "### 2D Arrays\n"
   ]
  },
  {
   "cell_type": "code",
   "execution_count": null,
   "id": "ede6d072",
   "metadata": {},
   "outputs": [],
   "source": [
    "with open('csvDemo.csv') as csvfile:\n",
    "    reader = csv.reader(csvfile)\n",
    "    for r in reader:\n",
    "        print(r)"
   ]
  },
  {
   "cell_type": "code",
   "execution_count": null,
   "id": "2805285c",
   "metadata": {},
   "outputs": [],
   "source": [
    "numbers = []\n",
    "with open('csvDemo.csv') as csvfile:\n",
    "    reader = csv.reader(csvfile)\n",
    "    for r in reader:\n",
    "        numbers.append(r)"
   ]
  },
  {
   "cell_type": "code",
   "execution_count": null,
   "id": "adb07fe5",
   "metadata": {},
   "outputs": [],
   "source": [
    "print(numbers)"
   ]
  },
  {
   "cell_type": "code",
   "execution_count": null,
   "id": "ba24dd6f",
   "metadata": {},
   "outputs": [],
   "source": [
    "for r in numbers:\n",
    "    print(r)"
   ]
  },
  {
   "cell_type": "code",
   "execution_count": null,
   "id": "819a3c92",
   "metadata": {},
   "outputs": [],
   "source": [
    "for r in numbers:\n",
    "    for n in r:\n",
    "        print(n)"
   ]
  },
  {
   "cell_type": "code",
   "execution_count": null,
   "id": "f0896954",
   "metadata": {},
   "outputs": [],
   "source": [
    "for r in numbers:\n",
    "    for n in r:\n",
    "        n = int(n)\n",
    "print(numbers)"
   ]
  },
  {
   "cell_type": "code",
   "execution_count": null,
   "id": "2e188cb2",
   "metadata": {},
   "outputs": [],
   "source": [
    "for i in range(len(numbers)):\n",
    "    print(numbers[i])"
   ]
  },
  {
   "cell_type": "code",
   "execution_count": null,
   "id": "ae2abfda",
   "metadata": {},
   "outputs": [],
   "source": [
    "for i in range(len(numbers)):\n",
    "    for j in range(len(numbers[i])):\n",
    "        numbers[i][j] = int(numbers[i][j])\n",
    "print(numbers)"
   ]
  },
  {
   "cell_type": "markdown",
   "id": "ce57fe92",
   "metadata": {},
   "source": [
    "__We can also write Dictionaries__"
   ]
  },
  {
   "cell_type": "code",
   "execution_count": null,
   "id": "7378ee17",
   "metadata": {},
   "outputs": [],
   "source": [
    "with open('names.csv', 'w', newline='') as csvfile:\n",
    "    fieldnames = ['first_name', 'last_name']\n",
    "    writer = csv.DictWriter(csvfile, fieldnames=fieldnames)\n",
    "\n",
    "    writer.writeheader()\n",
    "    writer.writerow({'first_name': 'Baked', 'last_name': 'Beans'})\n",
    "    writer.writerow({'first_name': 'Lovely', 'last_name': 'Spam'})\n",
    "    writer.writerow({'first_name': 'Wonderful', 'last_name': 'Spam'})"
   ]
  },
  {
   "cell_type": "code",
   "execution_count": null,
   "id": "693df95f",
   "metadata": {},
   "outputs": [],
   "source": [
    "with open('names.csv') as csvfile:\n",
    "    reader = csv.reader(csvfile)\n",
    "    for r in reader:\n",
    "        print(r)"
   ]
  },
  {
   "cell_type": "code",
   "execution_count": null,
   "id": "988ec7eb",
   "metadata": {},
   "outputs": [],
   "source": [
    "with open('names.csv') as csvfile:\n",
    "    reader = csv.DictReader(csvfile)\n",
    "    for r in reader:\n",
    "        print(r)"
   ]
  },
  {
   "cell_type": "code",
   "execution_count": null,
   "id": "9c2b4e34",
   "metadata": {},
   "outputs": [],
   "source": [
    "with open('names.csv') as csvfile:\n",
    "    reader = csv.DictReader(csvfile)\n",
    "    for r in reader:\n",
    "        print(r['first_name'])"
   ]
  },
  {
   "cell_type": "code",
   "execution_count": null,
   "id": "83857698",
   "metadata": {},
   "outputs": [],
   "source": [
    "with open('names.csv') as csvfile:\n",
    "    reader = csv.DictReader(csvfile)\n",
    "    for r in reader:\n",
    "        print(r['last_name'])"
   ]
  },
  {
   "cell_type": "markdown",
   "id": "cc6730da",
   "metadata": {},
   "source": [
    "__Adding some numerical data__"
   ]
  },
  {
   "cell_type": "code",
   "execution_count": null,
   "id": "c751846e",
   "metadata": {},
   "outputs": [],
   "source": [
    "with open('names.csv', 'w', newline='') as csvfile:\n",
    "    fieldnames = ['first_name', 'last_name', 'born']\n",
    "    writer = csv.DictWriter(csvfile, fieldnames=fieldnames)\n",
    "\n",
    "    writer.writeheader()\n",
    "    writer.writerow({'first_name': 'Baked', 'last_name': 'Beans', 'born':2010})\n",
    "    writer.writerow({'first_name': 'Lovely', 'last_name': 'Spam', 'born':2011})\n",
    "    writer.writerow({'first_name': 'Wonderful', 'last_name': 'Spam', 'born':2012})"
   ]
  },
  {
   "cell_type": "code",
   "execution_count": null,
   "id": "3e6dbac1",
   "metadata": {},
   "outputs": [],
   "source": [
    "with open('names.csv') as csvfile:\n",
    "    reader = csv.DictReader(csvfile)\n",
    "    for r in reader:\n",
    "        print(r)"
   ]
  },
  {
   "cell_type": "markdown",
   "id": "ff8ce2ca",
   "metadata": {},
   "source": [
    "__Save the content to a variable__"
   ]
  },
  {
   "cell_type": "code",
   "execution_count": null,
   "id": "05b55031",
   "metadata": {},
   "outputs": [],
   "source": [
    "name_contents=[]\n",
    "with open('names.csv') as csvfile:\n",
    "    reader = csv.DictReader(csvfile)\n",
    "    for r in reader:\n",
    "        name_contents.append(r)"
   ]
  },
  {
   "cell_type": "code",
   "execution_count": null,
   "id": "62aaecf5",
   "metadata": {},
   "outputs": [],
   "source": [
    "print(name_contents)"
   ]
  },
  {
   "cell_type": "code",
   "execution_count": null,
   "id": "1a9c4c4f",
   "metadata": {},
   "outputs": [],
   "source": [
    "for n in name_contents:\n",
    "    print(n['born'])"
   ]
  },
  {
   "cell_type": "code",
   "execution_count": null,
   "id": "36fd185e",
   "metadata": {},
   "outputs": [],
   "source": [
    "for n in name_contents:\n",
    "    print(type(n['born']))"
   ]
  },
  {
   "cell_type": "code",
   "execution_count": null,
   "id": "8668e083",
   "metadata": {},
   "outputs": [],
   "source": [
    "for n in name_contents:\n",
    "    n['born'] = int(n['born'])"
   ]
  },
  {
   "cell_type": "code",
   "execution_count": null,
   "id": "b3b686bc",
   "metadata": {},
   "outputs": [],
   "source": [
    "for n in name_contents:\n",
    "    print(type(n['born']))"
   ]
  },
  {
   "cell_type": "code",
   "execution_count": null,
   "id": "0e63a015",
   "metadata": {},
   "outputs": [],
   "source": [
    "print(name_contents)"
   ]
  },
  {
   "cell_type": "markdown",
   "id": "506d7354",
   "metadata": {},
   "source": [
    "---\n",
    "\n",
    "### Example with Netflix dataset\n"
   ]
  },
  {
   "cell_type": "code",
   "execution_count": null,
   "id": "e147d51c",
   "metadata": {},
   "outputs": [],
   "source": [
    "with open('netflix_titles.csv') as csvfile:\n",
    "    reader = csv.DictReader(csvfile)\n",
    "    print(reader.__next__())"
   ]
  },
  {
   "cell_type": "code",
   "execution_count": null,
   "id": "11dbdcf7",
   "metadata": {},
   "outputs": [],
   "source": [
    "netflix_contents = []\n",
    "with open('netflix_titles.csv') as csvfile:\n",
    "    reader = csv.DictReader(csvfile)\n",
    "    for r in reader:\n",
    "        netflix_contents.append(r)"
   ]
  },
  {
   "cell_type": "code",
   "execution_count": null,
   "id": "ade2c4be",
   "metadata": {
    "scrolled": true
   },
   "outputs": [],
   "source": [
    "len(netflix_contents)"
   ]
  },
  {
   "cell_type": "code",
   "execution_count": null,
   "id": "e0f6a5b7",
   "metadata": {},
   "outputs": [],
   "source": [
    "for video in netflix_contents:\n",
    "    video['release_year'] = int(video['release_year']) "
   ]
  },
  {
   "cell_type": "code",
   "execution_count": null,
   "id": "e6ed7502",
   "metadata": {
    "scrolled": true
   },
   "outputs": [],
   "source": [
    "print(netflix_contents[0])"
   ]
  },
  {
   "cell_type": "markdown",
   "id": "020b2174",
   "metadata": {},
   "source": [
    "__Sort data on the content of an entry__"
   ]
  },
  {
   "cell_type": "code",
   "execution_count": null,
   "id": "90d4a09e",
   "metadata": {},
   "outputs": [],
   "source": [
    "netflix_contents.sort(key= lambda x : x['release_year'])"
   ]
  },
  {
   "cell_type": "code",
   "execution_count": null,
   "id": "baadb0a1",
   "metadata": {
    "scrolled": true
   },
   "outputs": [],
   "source": [
    "print(netflix_contents[0])"
   ]
  },
  {
   "cell_type": "markdown",
   "id": "2569fa04",
   "metadata": {},
   "source": [
    "__Show nr of entries that match a certain condition__"
   ]
  },
  {
   "cell_type": "code",
   "execution_count": null,
   "id": "c1e46667",
   "metadata": {
    "scrolled": true
   },
   "outputs": [],
   "source": [
    "count = 0\n",
    "for video in netflix_contents:\n",
    "    if video['type']=='Movie':\n",
    "        count+=1\n",
    "print(count)"
   ]
  },
  {
   "cell_type": "markdown",
   "id": "c73e6c9d",
   "metadata": {},
   "source": [
    "__Show all titles that match a certain condition__"
   ]
  },
  {
   "cell_type": "code",
   "execution_count": null,
   "id": "0a4ad3cf",
   "metadata": {},
   "outputs": [],
   "source": [
    "for video in netflix_contents:\n",
    "    if 'Quentin Tarantino' == video['director']:\n",
    "        print(video['title'])"
   ]
  },
  {
   "cell_type": "code",
   "execution_count": null,
   "id": "331cee77",
   "metadata": {
    "scrolled": true
   },
   "outputs": [],
   "source": [
    "for video in netflix_contents:\n",
    "    if 'Brad Pitt' in video['cast']:\n",
    "        print(video['title'])"
   ]
  },
  {
   "cell_type": "markdown",
   "id": "376e4a7a",
   "metadata": {},
   "source": [
    "__Show all titles that match multiple conditions__"
   ]
  },
  {
   "cell_type": "code",
   "execution_count": null,
   "id": "bd142721",
   "metadata": {
    "scrolled": false
   },
   "outputs": [],
   "source": [
    "for video in netflix_contents:\n",
    "    if 'Quentin Tarantino' == video['director'] and 'Brad Pitt' in video['cast']:\n",
    "        print(video['title'])"
   ]
  },
  {
   "cell_type": "markdown",
   "id": "ac3e7142",
   "metadata": {},
   "source": [
    "---\n",
    "\n",
    "### 2D arrays continued\n"
   ]
  },
  {
   "cell_type": "code",
   "execution_count": null,
   "id": "f4b9cbce",
   "metadata": {},
   "outputs": [],
   "source": [
    "grid = []\n",
    "for i in range(3):\n",
    "    row = []\n",
    "    for j in range(3):\n",
    "        row.append(i+j)\n",
    "    grid.append(row)"
   ]
  },
  {
   "cell_type": "code",
   "execution_count": null,
   "id": "c562f65a",
   "metadata": {},
   "outputs": [],
   "source": [
    "print(grid)"
   ]
  },
  {
   "cell_type": "code",
   "execution_count": null,
   "id": "7e164798",
   "metadata": {},
   "outputs": [],
   "source": [
    "for r in grid:\n",
    "    print(r)"
   ]
  },
  {
   "cell_type": "code",
   "execution_count": null,
   "id": "2c2a5db9",
   "metadata": {},
   "outputs": [],
   "source": [
    "grid[0]"
   ]
  },
  {
   "cell_type": "code",
   "execution_count": null,
   "id": "95c48f99",
   "metadata": {},
   "outputs": [],
   "source": [
    "grid[1][1]"
   ]
  },
  {
   "cell_type": "markdown",
   "id": "3dcd7a80",
   "metadata": {},
   "source": [
    "---\n",
    "\n",
    "## Read images\n"
   ]
  },
  {
   "cell_type": "code",
   "execution_count": null,
   "id": "0df2e102",
   "metadata": {},
   "outputs": [],
   "source": [
    "from PIL import Image\n",
    "#https://pillow.readthedocs.io/en/stable/"
   ]
  },
  {
   "cell_type": "code",
   "execution_count": null,
   "id": "7a0f2a96",
   "metadata": {},
   "outputs": [],
   "source": [
    "# Read image\n",
    "img = Image.open('MagrittePipe.jpg')\n",
    " \n",
    "# Output Images\n",
    "img.show()"
   ]
  },
  {
   "cell_type": "code",
   "execution_count": null,
   "id": "55394b12",
   "metadata": {},
   "outputs": [],
   "source": [
    "# in jupyter:\n",
    "display(img)"
   ]
  },
  {
   "cell_type": "code",
   "execution_count": null,
   "id": "3cf25242",
   "metadata": {},
   "outputs": [],
   "source": [
    "img.getpixel((0,0))"
   ]
  },
  {
   "cell_type": "code",
   "execution_count": null,
   "id": "08e16ab4",
   "metadata": {},
   "outputs": [],
   "source": [
    "size = img.size\n",
    "print(size)"
   ]
  },
  {
   "cell_type": "code",
   "execution_count": null,
   "id": "f0c794db",
   "metadata": {},
   "outputs": [],
   "source": [
    "for i in range(size[0]):\n",
    "    for j in range(size[1]):\n",
    "        pixel = img.getpixel((i,j))\n",
    "        tone = int((pixel[0]+pixel[1]+pixel[2])/3)\n",
    "        img.putpixel((i,j),(tone,tone,tone))\n",
    "display(img)"
   ]
  },
  {
   "cell_type": "code",
   "execution_count": null,
   "id": "c9b167b1",
   "metadata": {},
   "outputs": [],
   "source": [
    "img = img.resize((int(img.size[0]/5), int(img.size[1]/5)))\n",
    "display(img)"
   ]
  },
  {
   "cell_type": "code",
   "execution_count": null,
   "id": "35210efc",
   "metadata": {},
   "outputs": [],
   "source": [
    "size = img.size\n",
    "print(size)"
   ]
  },
  {
   "cell_type": "code",
   "execution_count": null,
   "id": "7bc4d4d8",
   "metadata": {},
   "outputs": [],
   "source": [
    "imPoints = []\n",
    "for i in range(size[1]):\n",
    "    row = ''\n",
    "    for j in range(size[0]):\n",
    "        pixel = img.getpixel((j,i))\n",
    "        tone = (pixel[0]+pixel[1]+pixel[2])/(3*255)\n",
    "        if tone < 0.3:\n",
    "            row+='+'\n",
    "        elif tone < 0.6:\n",
    "            row+='.'\n",
    "        else:\n",
    "            row+=' '\n",
    "    imPoints.append(row)\n",
    "\n",
    "for r in imPoints:\n",
    "    print(r)"
   ]
  },
  {
   "cell_type": "code",
   "execution_count": null,
   "id": "18279cb9",
   "metadata": {},
   "outputs": [],
   "source": []
  },
  {
   "cell_type": "markdown",
   "id": "edeeae51",
   "metadata": {},
   "source": [
    "---\n",
    "\n",
    "## Probability and visualising data\n"
   ]
  },
  {
   "cell_type": "code",
   "execution_count": 102,
   "id": "d980c5dd",
   "metadata": {},
   "outputs": [],
   "source": [
    "import matplotlib.pyplot as plt\n",
    "import random"
   ]
  },
  {
   "cell_type": "code",
   "execution_count": 103,
   "id": "dae0bed8",
   "metadata": {},
   "outputs": [
    {
     "data": {
      "text/plain": [
       "0"
      ]
     },
     "execution_count": 103,
     "metadata": {},
     "output_type": "execute_result"
    }
   ],
   "source": [
    "random.randint(0,1)"
   ]
  },
  {
   "cell_type": "code",
   "execution_count": 104,
   "id": "37e15e98",
   "metadata": {},
   "outputs": [],
   "source": [
    "coin_flips = []\n",
    "for i in range(1000):\n",
    "    coin_flips.append(random.randint(0,1))"
   ]
  },
  {
   "cell_type": "code",
   "execution_count": 105,
   "id": "8e0e4e6e",
   "metadata": {},
   "outputs": [
    {
     "name": "stdout",
     "output_type": "stream",
     "text": [
      "[1, 1, 1, 1, 1, 1, 0, 0, 1, 1, 1, 0, 1, 0, 1, 1, 1, 1, 0, 0, 1, 1, 1, 0, 0, 0, 0, 0, 1, 1, 1, 1, 1, 1, 1, 1, 0, 0, 1, 0, 1, 0, 0, 1, 0, 0, 0, 0, 0, 1, 0, 1, 0, 1, 0, 1, 1, 1, 0, 1, 0, 1, 1, 1, 0, 0, 0, 0, 0, 1, 1, 0, 0, 0, 1, 1, 1, 1, 1, 0, 1, 0, 1, 1, 1, 1, 0, 0, 0, 0, 1, 1, 1, 0, 0, 1, 0, 1, 1, 0, 0, 1, 1, 1, 1, 1, 1, 1, 0, 1, 0, 0, 0, 0, 1, 1, 0, 1, 0, 1, 1, 0, 0, 1, 1, 0, 1, 0, 1, 0, 0, 1, 0, 1, 0, 0, 1, 1, 0, 1, 0, 1, 0, 0, 0, 1, 0, 1, 0, 1, 1, 0, 1, 1, 0, 1, 1, 1, 1, 1, 1, 1, 1, 1, 1, 1, 1, 1, 1, 0, 1, 0, 1, 1, 0, 0, 0, 1, 0, 0, 1, 0, 1, 0, 0, 1, 0, 0, 1, 1, 0, 1, 1, 0, 0, 0, 0, 0, 0, 0, 1, 0, 1, 1, 0, 1, 0, 0, 0, 1, 0, 1, 1, 1, 1, 1, 1, 1, 0, 0, 0, 0, 1, 1, 0, 0, 0, 0, 0, 0, 0, 1, 0, 1, 1, 1, 0, 1, 1, 1, 0, 0, 1, 1, 1, 0, 1, 0, 0, 1, 0, 0, 0, 0, 0, 1, 1, 0, 1, 1, 0, 1, 0, 1, 1, 1, 0, 1, 0, 1, 1, 0, 1, 1, 0, 0, 1, 1, 0, 1, 1, 1, 1, 0, 0, 1, 1, 1, 1, 0, 0, 0, 1, 0, 0, 1, 1, 0, 1, 1, 1, 0, 1, 1, 1, 0, 1, 0, 1, 0, 1, 0, 0, 0, 0, 0, 1, 0, 0, 1, 0, 1, 0, 0, 0, 1, 1, 1, 1, 0, 0, 1, 0, 0, 0, 1, 0, 0, 1, 1, 0, 0, 1, 1, 1, 1, 1, 0, 0, 1, 0, 1, 0, 0, 0, 1, 0, 0, 1, 0, 1, 1, 0, 0, 0, 1, 0, 1, 1, 1, 1, 1, 0, 0, 0, 0, 1, 1, 1, 1, 1, 0, 1, 1, 0, 1, 0, 1, 1, 0, 0, 0, 0, 1, 1, 0, 1, 1, 0, 1, 0, 1, 1, 0, 0, 0, 0, 1, 0, 1, 1, 0, 1, 1, 1, 0, 1, 0, 0, 1, 0, 0, 0, 1, 1, 1, 1, 1, 1, 0, 1, 0, 1, 1, 1, 1, 1, 0, 1, 0, 1, 1, 1, 1, 0, 1, 0, 1, 1, 0, 0, 0, 1, 1, 1, 0, 1, 1, 0, 0, 0, 1, 1, 0, 0, 0, 1, 1, 1, 1, 1, 1, 0, 0, 1, 0, 0, 0, 0, 1, 0, 0, 0, 1, 0, 0, 1, 1, 0, 0, 0, 0, 1, 1, 1, 1, 1, 0, 1, 1, 0, 1, 1, 1, 1, 1, 1, 0, 1, 1, 1, 1, 1, 1, 1, 1, 0, 1, 0, 1, 0, 1, 0, 0, 1, 0, 0, 1, 0, 0, 1, 0, 0, 0, 1, 1, 1, 0, 0, 1, 0, 0, 1, 0, 1, 1, 1, 1, 1, 0, 0, 1, 1, 1, 0, 1, 1, 1, 1, 0, 1, 1, 0, 0, 0, 1, 1, 0, 0, 0, 1, 0, 1, 0, 0, 1, 1, 1, 1, 0, 1, 1, 1, 1, 0, 1, 1, 0, 0, 0, 0, 0, 0, 1, 0, 0, 1, 0, 0, 1, 0, 1, 1, 0, 1, 0, 1, 0, 1, 0, 0, 0, 0, 0, 0, 1, 0, 0, 1, 1, 0, 1, 0, 1, 0, 0, 0, 1, 0, 0, 0, 1, 1, 1, 0, 1, 0, 1, 0, 1, 0, 0, 1, 1, 1, 0, 0, 1, 0, 0, 0, 1, 1, 0, 0, 0, 0, 1, 0, 1, 0, 0, 1, 0, 1, 0, 0, 0, 1, 0, 1, 0, 1, 1, 0, 1, 0, 0, 0, 1, 0, 1, 0, 1, 1, 1, 1, 1, 1, 1, 1, 0, 1, 0, 1, 1, 1, 1, 1, 0, 1, 1, 1, 0, 0, 0, 1, 0, 0, 1, 0, 0, 0, 1, 1, 0, 1, 0, 0, 0, 0, 1, 1, 0, 0, 1, 0, 0, 1, 0, 0, 0, 1, 1, 0, 1, 1, 0, 0, 1, 0, 1, 1, 1, 0, 1, 1, 1, 0, 1, 1, 1, 0, 0, 1, 1, 1, 1, 0, 0, 0, 0, 0, 0, 0, 1, 1, 1, 0, 1, 1, 0, 1, 1, 1, 0, 0, 0, 1, 0, 0, 1, 1, 1, 0, 1, 1, 0, 0, 0, 0, 1, 1, 0, 1, 0, 1, 1, 0, 0, 0, 1, 1, 1, 0, 0, 1, 0, 1, 0, 0, 1, 0, 1, 0, 1, 1, 1, 0, 0, 1, 0, 0, 0, 1, 1, 1, 1, 0, 0, 1, 0, 0, 1, 0, 0, 1, 1, 1, 0, 0, 1, 0, 1, 0, 0, 0, 1, 0, 1, 0, 1, 0, 1, 1, 1, 0, 0, 0, 1, 0, 0, 0, 1, 1, 0, 0, 1, 0, 0, 1, 1, 1, 1, 1, 1, 0, 0, 0, 1, 1, 0, 0, 0, 1, 1, 1, 0, 0, 0, 1, 0, 0, 1, 0, 0, 0, 0, 1, 0, 0, 0, 0, 1, 0, 1, 1, 0, 1, 1, 0, 1, 1, 1, 0, 0, 0, 0, 0, 1, 0, 0, 1, 1, 0, 1, 0, 1, 0, 0, 0, 1, 0, 1, 1, 0, 0, 1, 0, 1, 1, 0, 1, 1, 1, 1, 1, 0, 0, 0, 1, 0, 1, 1, 1, 1, 0, 0, 0, 1, 0, 1, 0, 0, 1, 0, 0, 1, 0, 1, 1, 0, 0, 1, 0, 1, 0, 1, 0, 1, 1, 0, 0, 0, 1, 1, 0, 1, 1, 0, 0, 1, 1, 1, 0, 1, 1, 1, 0, 0]\n"
     ]
    }
   ],
   "source": [
    "print(coin_flips)"
   ]
  },
  {
   "cell_type": "code",
   "execution_count": 106,
   "id": "80329ae0",
   "metadata": {},
   "outputs": [
    {
     "data": {
      "image/png": "[encoded data removed]",
      "text/plain": [
       "<Figure size 432x288 with 1 Axes>"
      ]
     },
     "metadata": {
      "needs_background": "light"
     },
     "output_type": "display_data"
    }
   ],
   "source": [
    "fig, ax = plt.subplots()\n",
    "\n",
    "ax.plot(range(len(coin_flips)), coin_flips)\n",
    "\n",
    "plt.show()"
   ]
  },
  {
   "cell_type": "code",
   "execution_count": 107,
   "id": "54f3b4c3",
   "metadata": {},
   "outputs": [],
   "source": [
    "coin_average = []\n",
    "total = 0\n",
    "for i in range(len(coin_flips)):\n",
    "    total += coin_flips[i]\n",
    "    coin_average.append(total/(i+1))"
   ]
  },
  {
   "cell_type": "code",
   "execution_count": 111,
   "id": "84a82b4b",
   "metadata": {},
   "outputs": [
    {
     "name": "stdout",
     "output_type": "stream",
     "text": [
      "[1.0, 1.0, 1.0, 1.0, 1.0, 1.0, 0.8571428571428571, 0.75, 0.7777777777777778, 0.8, 0.8181818181818182, 0.75, 0.7692307692307693, 0.7142857142857143, 0.7333333333333333, 0.75, 0.7647058823529411, 0.7777777777777778, 0.7368421052631579, 0.7, 0.7142857142857143, 0.7272727272727273, 0.7391304347826086, 0.7083333333333334, 0.68, 0.6538461538461539, 0.6296296296296297, 0.6071428571428571, 0.6206896551724138, 0.6333333333333333, 0.6451612903225806, 0.65625, 0.6666666666666666, 0.6764705882352942, 0.6857142857142857, 0.6944444444444444, 0.6756756756756757, 0.6578947368421053, 0.6666666666666666, 0.65, 0.6585365853658537, 0.6428571428571429, 0.627906976744186, 0.6363636363636364, 0.6222222222222222, 0.6086956521739131, 0.5957446808510638, 0.5833333333333334, 0.5714285714285714, 0.58, 0.5686274509803921, 0.5769230769230769, 0.5660377358490566, 0.5740740740740741, 0.5636363636363636, 0.5714285714285714, 0.5789473684210527, 0.5862068965517241, 0.576271186440678, 0.5833333333333334, 0.5737704918032787, 0.5806451612903226, 0.5873015873015873, 0.59375, 0.5846153846153846, 0.5757575757575758, 0.5671641791044776, 0.5588235294117647, 0.5507246376811594, 0.5571428571428572, 0.5633802816901409, 0.5555555555555556, 0.547945205479452, 0.5405405405405406, 0.5466666666666666, 0.5526315789473685, 0.5584415584415584, 0.5641025641025641, 0.569620253164557, 0.5625, 0.5679012345679012, 0.5609756097560976, 0.5662650602409639, 0.5714285714285714, 0.5764705882352941, 0.5813953488372093, 0.5747126436781609, 0.5681818181818182, 0.5617977528089888, 0.5555555555555556, 0.5604395604395604, 0.5652173913043478, 0.5698924731182796, 0.5638297872340425, 0.5578947368421052, 0.5625, 0.5567010309278351, 0.5612244897959183, 0.5656565656565656, 0.56, 0.5544554455445545, 0.5588235294117647, 0.5631067961165048, 0.5673076923076923, 0.5714285714285714, 0.5754716981132075, 0.5794392523364486, 0.5833333333333334, 0.5779816513761468, 0.5818181818181818, 0.5765765765765766, 0.5714285714285714, 0.5663716814159292, 0.5614035087719298, 0.5652173913043478, 0.5689655172413793, 0.5641025641025641, 0.5677966101694916, 0.5630252100840336, 0.5666666666666667, 0.5702479338842975, 0.5655737704918032, 0.5609756097560976, 0.5645161290322581, 0.568, 0.5634920634920635, 0.5669291338582677, 0.5625, 0.5658914728682171, 0.5615384615384615, 0.5572519083969466, 0.5606060606060606, 0.556390977443609, 0.5597014925373134, 0.5555555555555556, 0.5514705882352942, 0.5547445255474452, 0.5579710144927537, 0.5539568345323741, 0.5571428571428572, 0.5531914893617021, 0.5563380281690141, 0.5524475524475524, 0.5486111111111112, 0.5448275862068965, 0.547945205479452, 0.54421768707483, 0.5472972972972973, 0.5436241610738255, 0.5466666666666666, 0.5496688741721855, 0.5460526315789473, 0.5490196078431373, 0.551948051948052, 0.5483870967741935, 0.5512820512820513, 0.554140127388535, 0.5569620253164557, 0.559748427672956, 0.5625, 0.5652173913043478, 0.5679012345679012, 0.5705521472392638, 0.573170731707317, 0.5757575757575758, 0.5783132530120482, 0.5808383233532934, 0.5833333333333334, 0.5857988165680473, 0.5823529411764706, 0.5847953216374269, 0.5813953488372093, 0.5838150289017341, 0.5862068965517241, 0.5828571428571429, 0.5795454545454546, 0.576271186440678, 0.5786516853932584, 0.5754189944134078, 0.5722222222222222, 0.574585635359116, 0.5714285714285714, 0.5737704918032787, 0.5706521739130435, 0.5675675675675675, 0.5698924731182796, 0.5668449197860963, 0.5638297872340425, 0.5661375661375662, 0.5684210526315789, 0.5654450261780105, 0.5677083333333334, 0.5699481865284974, 0.5670103092783505, 0.5641025641025641, 0.5612244897959183, 0.5583756345177665, 0.5555555555555556, 0.5527638190954773, 0.55, 0.5522388059701493, 0.5495049504950495, 0.5517241379310345, 0.553921568627451, 0.551219512195122, 0.5533980582524272, 0.5507246376811594, 0.5480769230769231, 0.5454545454545454, 0.5476190476190477, 0.5450236966824644, 0.5471698113207547, 0.5492957746478874, 0.5514018691588785, 0.5534883720930233, 0.5555555555555556, 0.5576036866359447, 0.5596330275229358, 0.5570776255707762, 0.5545454545454546, 0.5520361990950227, 0.5495495495495496, 0.5515695067264574, 0.5535714285714286, 0.5511111111111111, 0.5486725663716814, 0.5462555066079295, 0.543859649122807, 0.5414847161572053, 0.5391304347826087, 0.5367965367965368, 0.5387931034482759, 0.5364806866952789, 0.5384615384615384, 0.5404255319148936, 0.5423728813559322, 0.540084388185654, 0.542016806722689, 0.5439330543933054, 0.5458333333333333, 0.5435684647302904, 0.5413223140495868, 0.5432098765432098, 0.5450819672131147, 0.5469387755102041, 0.5447154471544715, 0.5465587044534413, 0.5443548387096774, 0.5421686746987951, 0.544, 0.5418326693227091, 0.5396825396825397, 0.5375494071146245, 0.5354330708661418, 0.5333333333333333, 0.53515625, 0.5369649805447471, 0.5348837209302325, 0.5366795366795367, 0.5384615384615384, 0.5363984674329502, 0.5381679389312977, 0.5361216730038023, 0.5378787878787878, 0.539622641509434, 0.5413533834586466, 0.5393258426966292, 0.5410447761194029, 0.5390334572490706, 0.5407407407407407, 0.5424354243542435, 0.5404411764705882, 0.5421245421245421, 0.5437956204379562, 0.5418181818181819, 0.5398550724637681, 0.5415162454873647, 0.5431654676258992, 0.5412186379928315, 0.5428571428571428, 0.5444839857651246, 0.5460992907801419, 0.5477031802120141, 0.545774647887324, 0.543859649122807, 0.5454545454545454, 0.5470383275261324, 0.5486111111111112, 0.5501730103806228, 0.5482758620689655, 0.5463917525773195, 0.5445205479452054, 0.5460750853242321, 0.54421768707483, 0.5423728813559322, 0.543918918918919, 0.5454545454545454, 0.5436241610738255, 0.5451505016722408, 0.5466666666666666, 0.5481727574750831, 0.5463576158940397, 0.5478547854785478, 0.5493421052631579, 0.5508196721311476, 0.5490196078431373, 0.5504885993485342, 0.5487012987012987, 0.5501618122977346, 0.5483870967741935, 0.5498392282958199, 0.5480769230769231, 0.5463258785942492, 0.5445859872611465, 0.5428571428571428, 0.5411392405063291, 0.5425867507886435, 0.5408805031446541, 0.5391849529780565, 0.540625, 0.5389408099688473, 0.5403726708074534, 0.5386996904024768, 0.5370370370370371, 0.5353846153846153, 0.5368098159509203, 0.5382262996941896, 0.5396341463414634, 0.541033434650456, 0.5393939393939394, 0.5377643504531722, 0.5391566265060241, 0.5375375375375375, 0.5359281437125748, 0.5343283582089552, 0.5357142857142857, 0.5341246290801187, 0.5325443786982249, 0.5339233038348082, 0.5352941176470588, 0.533724340175953, 0.5321637426900585, 0.5335276967930029, 0.5348837209302325, 0.5362318840579711, 0.5375722543352601, 0.5389048991354467, 0.5373563218390804, 0.5358166189111748, 0.5371428571428571, 0.5356125356125356, 0.5369318181818182, 0.5354107648725213, 0.5338983050847458, 0.532394366197183, 0.5337078651685393, 0.5322128851540616, 0.5307262569832403, 0.532033426183844, 0.5305555555555556, 0.5318559556786704, 0.5331491712707183, 0.5316804407713499, 0.5302197802197802, 0.5287671232876713, 0.5300546448087432, 0.5286103542234333, 0.529891304347826, 0.5311653116531165, 0.5324324324324324, 0.5336927223719676, 0.5349462365591398, 0.5335120643431636, 0.5320855614973262, 0.5306666666666666, 0.5292553191489362, 0.5305039787798409, 0.5317460317460317, 0.5329815303430079, 0.5342105263157895, 0.5354330708661418, 0.5340314136125655, 0.5352480417754569, 0.5364583333333334, 0.535064935064935, 0.5362694300518135, 0.5348837209302325, 0.5360824742268041, 0.5372750642673522, 0.5358974358974359, 0.5345268542199488, 0.5331632653061225, 0.5318066157760815, 0.5329949238578681, 0.5341772151898734, 0.5328282828282829, 0.5340050377833753, 0.535175879396985, 0.5338345864661654, 0.535, 0.5336658354114713, 0.5348258706467661, 0.5359801488833746, 0.5346534653465347, 0.5333333333333333, 0.5320197044334976, 0.5307125307125307, 0.5318627450980392, 0.530562347188264, 0.5317073170731708, 0.5328467153284672, 0.5315533980582524, 0.5326876513317191, 0.533816425120773, 0.5349397590361445, 0.5336538461538461, 0.5347721822541966, 0.5334928229665071, 0.5322195704057279, 0.5333333333333333, 0.5320665083135392, 0.5308056872037915, 0.5295508274231678, 0.5306603773584906, 0.5317647058823529, 0.5328638497652582, 0.5339578454332553, 0.5350467289719626, 0.5361305361305362, 0.5348837209302325, 0.5359628770301624, 0.5347222222222222, 0.535796766743649, 0.5368663594470046, 0.5379310344827586, 0.5389908256880734, 0.540045766590389, 0.5388127853881278, 0.5398633257403189, 0.5386363636363637, 0.5396825396825397, 0.5407239819004525, 0.5417607223476298, 0.5427927927927928, 0.5415730337078651, 0.5426008968609866, 0.5413870246085011, 0.5424107142857143, 0.5434298440979956, 0.5422222222222223, 0.541019955654102, 0.5398230088495575, 0.5408388520971302, 0.5418502202643172, 0.5428571428571428, 0.5416666666666666, 0.5426695842450766, 0.5436681222707423, 0.5424836601307189, 0.5413043478260869, 0.5401301518438177, 0.5411255411255411, 0.5421166306695464, 0.540948275862069, 0.5397849462365591, 0.5386266094420601, 0.5396145610278372, 0.5405982905982906, 0.5415778251599147, 0.5425531914893617, 0.5435244161358811, 0.5444915254237288, 0.5433403805496829, 0.5421940928270043, 0.5431578947368421, 0.542016806722689, 0.5408805031446541, 0.5397489539748954, 0.5386221294363257, 0.5395833333333333, 0.5384615384615384, 0.5373443983402489, 0.5362318840579711, 0.5371900826446281, 0.5360824742268041, 0.5349794238683128, 0.5359342915811088, 0.5368852459016393, 0.5357873210633947, 0.5346938775510204, 0.5336048879837068, 0.532520325203252, 0.5334685598377282, 0.5344129554655871, 0.5353535353535354, 0.5362903225806451, 0.5372233400402414, 0.536144578313253, 0.5370741482965932, 0.538, 0.5369261477045908, 0.5378486055776892, 0.5387673956262425, 0.5396825396825397, 0.5405940594059406, 0.541501976284585, 0.5424063116370809, 0.5413385826771654, 0.5422396856581533, 0.5431372549019607, 0.5440313111545988, 0.544921875, 0.5458089668615984, 0.546692607003891, 0.5475728155339806, 0.5484496124031008, 0.5473887814313346, 0.5482625482625483, 0.5472061657032755, 0.5480769230769231, 0.5470249520153551, 0.5478927203065134, 0.5468451242829828, 0.5458015267175572, 0.5466666666666666, 0.5456273764258555, 0.5445920303605313, 0.5454545454545454, 0.5444234404536862, 0.5433962264150943, 0.544256120527307, 0.543233082706767, 0.5422138836772983, 0.5411985018726592, 0.5420560747663551, 0.542910447761194, 0.5437616387337058, 0.5427509293680297, 0.5417439703153989, 0.5425925925925926, 0.5415896487985212, 0.540590405904059, 0.5414364640883977, 0.5404411764705882, 0.5412844036697247, 0.5421245421245421, 0.5429616087751371, 0.5437956204379562, 0.5446265938069217, 0.5436363636363636, 0.542649727767695, 0.5434782608695652, 0.5443037974683544, 0.5451263537906137, 0.5441441441441441, 0.5449640287769785, 0.5457809694793537, 0.546594982078853, 0.5474060822898033, 0.5464285714285714, 0.5472370766488414, 0.5480427046263345, 0.5470692717584369, 0.5460992907801419, 0.5451327433628319, 0.5459363957597173, 0.54673721340388, 0.545774647887324, 0.5448154657293497, 0.543859649122807, 0.5446584938704028, 0.5437062937062938, 0.5445026178010471, 0.5435540069686411, 0.542608695652174, 0.5434027777777778, 0.5441941074523396, 0.5449826989619377, 0.5457685664939551, 0.5448275862068965, 0.5456110154905336, 0.5463917525773195, 0.5471698113207547, 0.547945205479452, 0.5470085470085471, 0.5477815699658704, 0.5485519591141397, 0.5476190476190477, 0.5466893039049237, 0.5457627118644067, 0.544839255499154, 0.543918918918919, 0.5430016863406408, 0.5437710437710438, 0.5428571428571428, 0.5419463087248322, 0.542713567839196, 0.5418060200668896, 0.5409015025041736, 0.5416666666666666, 0.540765391014975, 0.5415282392026578, 0.5422885572139303, 0.5413907284768212, 0.5421487603305785, 0.5412541254125413, 0.5420098846787479, 0.5411184210526315, 0.541871921182266, 0.5409836065573771, 0.5400981996726678, 0.5392156862745098, 0.5383360522022839, 0.5374592833876222, 0.5365853658536586, 0.5373376623376623, 0.5364667747163695, 0.5355987055016181, 0.5363489499192245, 0.5370967741935484, 0.5362318840579711, 0.5369774919614148, 0.536115569823435, 0.5368589743589743, 0.536, 0.5351437699680511, 0.5342902711323764, 0.535031847133758, 0.534181240063593, 0.5333333333333333, 0.5324881141045958, 0.5332278481012658, 0.5339652448657188, 0.5347003154574133, 0.5338582677165354, 0.5345911949685535, 0.533751962323391, 0.5344827586206896, 0.5336463223787168, 0.534375, 0.5335413416536662, 0.5327102803738317, 0.5334370139968896, 0.5341614906832298, 0.5348837209302325, 0.5340557275541795, 0.5332302936630603, 0.5339506172839507, 0.5331278890600925, 0.5323076923076923, 0.5314900153609831, 0.5322085889570553, 0.5329249617151608, 0.5321100917431193, 0.5312977099236641, 0.5304878048780488, 0.5296803652968036, 0.5303951367781155, 0.5295902883156297, 0.5303030303030303, 0.529500756429652, 0.5287009063444109, 0.5294117647058824, 0.5286144578313253, 0.5293233082706766, 0.5285285285285285, 0.527736131934033, 0.5269461077844312, 0.5276532137518685, 0.5268656716417911, 0.5275707898658718, 0.5267857142857143, 0.5274888558692422, 0.5281899109792285, 0.5274074074074074, 0.5281065088757396, 0.5273264401772526, 0.5265486725663717, 0.5257731958762887, 0.5264705882352941, 0.5256975036710719, 0.5263929618768328, 0.5256222547584187, 0.5263157894736842, 0.527007299270073, 0.5276967930029155, 0.5283842794759825, 0.5290697674418605, 0.5297532656023222, 0.5304347826086957, 0.5311143270622286, 0.5303468208092486, 0.5310245310245311, 0.5302593659942363, 0.5309352517985612, 0.5316091954022989, 0.5322812051649928, 0.5329512893982808, 0.5336194563662375, 0.5328571428571428, 0.5335235378031383, 0.5341880341880342, 0.534850640113798, 0.5340909090909091, 0.5333333333333333, 0.5325779036827195, 0.5332390381895332, 0.5324858757062146, 0.5317348377997179, 0.532394366197183, 0.5316455696202531, 0.5308988764044944, 0.5301542776998598, 0.530812324929972, 0.5314685314685315, 0.5307262569832403, 0.5313807531380753, 0.5306406685236769, 0.5299026425591099, 0.5291666666666667, 0.5284327323162274, 0.5290858725761773, 0.5297372060857538, 0.5290055248618785, 0.5282758620689655, 0.5289256198347108, 0.5281980742778541, 0.5274725274725275, 0.5281207133058985, 0.5273972602739726, 0.5266757865937073, 0.5259562841530054, 0.5266030013642565, 0.5272479564032697, 0.5265306122448979, 0.5271739130434783, 0.5278154681139756, 0.5271002710027101, 0.5263870094722598, 0.527027027027027, 0.5263157894736842, 0.5269541778975741, 0.5275908479138627, 0.5282258064516129, 0.5275167785234899, 0.5281501340482574, 0.5287817938420348, 0.5294117647058824, 0.5287049399198932, 0.5293333333333333, 0.5299600532623169, 0.5305851063829787, 0.5298804780876494, 0.5291777188328912, 0.5298013245033113, 0.5304232804232805, 0.5310435931307794, 0.5316622691292876, 0.530961791831357, 0.5302631578947369, 0.5295663600525624, 0.5288713910761155, 0.528178243774574, 0.5274869109947644, 0.526797385620915, 0.5274151436031331, 0.5280312907431551, 0.5286458333333334, 0.5279583875162549, 0.5285714285714286, 0.5291828793774319, 0.5284974093264249, 0.5291073738680466, 0.5297157622739018, 0.5303225806451612, 0.529639175257732, 0.528957528957529, 0.5282776349614395, 0.5288831835686778, 0.5282051282051282, 0.5275288092189501, 0.5281329923273658, 0.5287356321839081, 0.5293367346938775, 0.5286624203821656, 0.5292620865139949, 0.5298602287166455, 0.5291878172588832, 0.5285171102661597, 0.5278481012658228, 0.527180783817952, 0.5277777777777778, 0.5283732660781841, 0.5277078085642317, 0.5283018867924528, 0.5276381909547738, 0.5282308657465495, 0.5288220551378446, 0.5281602002503129, 0.5275, 0.5268414481897628, 0.527431421446384, 0.5280199252801993, 0.5286069651741293, 0.5279503105590062, 0.5272952853598015, 0.5278810408921933, 0.5272277227722773, 0.5278121137206427, 0.5271604938271605, 0.5265104808877928, 0.5270935960591133, 0.5264452644526445, 0.527027027027027, 0.5263803680981595, 0.5269607843137255, 0.5275397796817626, 0.5281173594132029, 0.5274725274725275, 0.526829268292683, 0.5274056029232643, 0.5267639902676399, 0.5261239368165249, 0.5254854368932039, 0.526060606060606, 0.5266343825665859, 0.5272067714631197, 0.5277777777777778, 0.5271411338962606, 0.5265060240963856, 0.5270758122743683, 0.5264423076923077, 0.5258103241296519, 0.526378896882494, 0.525748502994012, 0.5251196172248804, 0.5256869772998806, 0.5262529832935561, 0.5268176400476758, 0.5261904761904762, 0.525564803804994, 0.5261282660332541, 0.5255041518386714, 0.5260663507109005, 0.5254437869822485, 0.524822695035461, 0.5242030696576151, 0.5247641509433962, 0.5241460541813898, 0.5247058823529411, 0.5240893066980024, 0.5246478873239436, 0.5240328253223916, 0.5245901639344263, 0.5251461988304094, 0.5257009345794392, 0.5250875145857643, 0.5244755244755245, 0.5238649592549476, 0.5244186046511627, 0.5238095238095238, 0.5232018561484919, 0.522595596755504, 0.5231481481481481, 0.5236994219653179, 0.523094688221709, 0.5224913494809689, 0.5230414746543779, 0.522439585730725, 0.5218390804597701, 0.5223880597014925, 0.5229357798165137, 0.5234822451317297, 0.5240274599542334, 0.5245714285714286, 0.5251141552511416, 0.5245153933865451, 0.5239179954441914, 0.5233219567690558, 0.5238636363636363, 0.5244040862656073, 0.5238095238095238, 0.5232163080407701, 0.5226244343891403, 0.5231638418079096, 0.5237020316027088, 0.52423900789177, 0.5236486486486487, 0.5230596175478065, 0.5224719101123596, 0.5230078563411896, 0.5224215246636771, 0.5218365061590146, 0.5223713646532439, 0.5217877094972067, 0.5212053571428571, 0.5206243032329989, 0.5200445434298441, 0.5205784204671857, 0.52, 0.5194228634850167, 0.5188470066518847, 0.5182724252491694, 0.5188053097345132, 0.518232044198895, 0.5187637969094923, 0.5192943770672547, 0.5187224669603524, 0.5192519251925193, 0.5197802197802198, 0.5192096597145993, 0.5197368421052632, 0.52026286966046, 0.5207877461706784, 0.5202185792349727, 0.519650655021834, 0.5190839694656488, 0.5185185185185185, 0.5179542981501633, 0.5184782608695652, 0.5179153094462541, 0.517353579175705, 0.5178764897074756, 0.5183982683982684, 0.5178378378378379, 0.5183585313174947, 0.517799352750809, 0.5183189655172413, 0.5177610333692142, 0.5172043010752688, 0.5166487647690655, 0.5171673819742489, 0.5166130760986066, 0.5171306209850107, 0.5176470588235295, 0.5170940170940171, 0.5165421558164355, 0.5170575692963753, 0.516506922257721, 0.5170212765957447, 0.5175345377258236, 0.5169851380042463, 0.5174973488865323, 0.5180084745762712, 0.5185185185185185, 0.5190274841437632, 0.5195353748680043, 0.5189873417721519, 0.5184404636459431, 0.5178947368421053, 0.5184016824395373, 0.5178571428571429, 0.5183630640083945, 0.5188679245283019, 0.5193717277486911, 0.5198744769874477, 0.5193312434691745, 0.5187891440501043, 0.5182481751824818, 0.51875, 0.518210197710718, 0.5187110187110187, 0.5181723779854621, 0.5176348547717843, 0.5181347150259067, 0.5175983436853002, 0.5170630816959669, 0.5175619834710744, 0.5170278637770898, 0.5175257731958763, 0.518022657054583, 0.5174897119341564, 0.5169578622816033, 0.5174537987679672, 0.5169230769230769, 0.5174180327868853, 0.5168884339815762, 0.5173824130879345, 0.5168539325842697, 0.5173469387755102, 0.5178389398572885, 0.5173116089613035, 0.5167853509664293, 0.516260162601626, 0.516751269035533, 0.5172413793103449, 0.5167173252279635, 0.5172064777327935, 0.5176946410515673, 0.5171717171717172, 0.5166498486377397, 0.5171370967741935, 0.5176233635448136, 0.5181086519114688, 0.5175879396984925, 0.5180722891566265, 0.518555667001003, 0.5190380761523046, 0.5185185185185185, 0.518]\n"
     ]
    }
   ],
   "source": [
    "print(coin_average)"
   ]
  },
  {
   "cell_type": "code",
   "execution_count": 110,
   "id": "00459cc8",
   "metadata": {},
   "outputs": [
    {
     "data": {
      "image/png": "[encoded data removed]",
      "text/plain": [
       "<Figure size 432x288 with 1 Axes>"
      ]
     },
     "metadata": {
      "needs_background": "light"
     },
     "output_type": "display_data"
    }
   ],
   "source": [
    "fig, ax = plt.subplots()\n",
    "\n",
    "ax.plot(range(len(coin_average)), coin_average)\n",
    "\n",
    "ax.set(ylim=(0, 1))\n",
    "\n",
    "plt.show()"
   ]
  },
  {
   "cell_type": "code",
   "execution_count": 163,
   "id": "0d7bb666",
   "metadata": {},
   "outputs": [
    {
     "data": {
      "text/plain": [
       "1"
      ]
     },
     "execution_count": 163,
     "metadata": {},
     "output_type": "execute_result"
    }
   ],
   "source": [
    "random.randint(0,5)"
   ]
  },
  {
   "cell_type": "code",
   "execution_count": 167,
   "id": "e24a4f4e",
   "metadata": {},
   "outputs": [],
   "source": [
    "dice_average = []\n",
    "for i in range(12):\n",
    "    dice_average.append(0)\n",
    "    \n",
    "for i in range(10000):\n",
    "    d1 = random.randint(0,5)\n",
    "    d2 = random.randint(0,5)\n",
    "    t = d1+d2\n",
    "    dice_average[t] += 1"
   ]
  },
  {
   "cell_type": "code",
   "execution_count": 168,
   "id": "c0797f5a",
   "metadata": {},
   "outputs": [
    {
     "name": "stdout",
     "output_type": "stream",
     "text": [
      "[276, 583, 840, 1059, 1366, 1633, 1404, 1127, 841, 577, 294, 0]\n"
     ]
    }
   ],
   "source": [
    "print(dice_average)"
   ]
  },
  {
   "cell_type": "code",
   "execution_count": 169,
   "id": "2afd6488",
   "metadata": {},
   "outputs": [
    {
     "data": {
      "image/png": "[encoded data removed]",
      "text/plain": [
       "<Figure size 432x288 with 1 Axes>"
      ]
     },
     "metadata": {
      "needs_background": "light"
     },
     "output_type": "display_data"
    }
   ],
   "source": [
    "fig, ax = plt.subplots()\n",
    "\n",
    "ax.bar(range(len(dice_average)),dice_average)\n",
    "\n",
    "plt.show()"
   ]
  },
  {
   "cell_type": "code",
   "execution_count": null,
   "id": "75054e5e",
   "metadata": {},
   "outputs": [],
   "source": []
  }
 ],
 "metadata": {
  "kernelspec": {
   "display_name": "Python 3 (ipykernel)",
   "language": "python",
   "name": "python3"
  },
  "language_info": {
   "codemirror_mode": {
    "name": "ipython",
    "version": 3
   },
   "file_extension": ".py",
   "mimetype": "text/x-python",
   "name": "python",
   "nbconvert_exporter": "python",
   "pygments_lexer": "ipython3",
   "version": "3.8.13"
  }
 },
 "nbformat": 4,
 "nbformat_minor": 5
}
