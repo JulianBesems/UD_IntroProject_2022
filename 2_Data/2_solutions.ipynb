{
 "cells": [
  {
   "cell_type": "markdown",
   "metadata": {},
   "source": [
    "## Exercise 1: Arrays\n",
    "\n",
    "a. Write a code that creates a 2-dimensional array of 3 rows and 5 columns where each element of the array is the row index to the power of the column index."
   ]
  },
  {
   "cell_type": "code",
   "execution_count": 2,
   "metadata": {},
   "outputs": [
    {
     "data": {
      "text/plain": [
       "[[1, 1, 1, 1, 1], [0, 1, 2, 3, 4], [0, 1, 4, 9, 16]]"
      ]
     },
     "execution_count": 2,
     "metadata": {},
     "output_type": "execute_result"
    }
   ],
   "source": [
    "dimArray = []\n",
    "for i in range(3):\n",
    "    row = []\n",
    "    for j in range(5):\n",
    "        row.append(j**i)\n",
    "    dimArray.append(row)\n",
    "dimArray"
   ]
  },
  {
   "cell_type": "code",
   "execution_count": 7,
   "metadata": {},
   "outputs": [
    {
     "data": {
      "text/plain": [
       "[[1, 1, 1, 1, 1], [0, 1, 2, 3, 4], [0, 1, 4, 9, 16]]"
      ]
     },
     "execution_count": 7,
     "metadata": {},
     "output_type": "execute_result"
    }
   ],
   "source": [
    "[[j**i for j in range(5)] for i in range(3)]"
   ]
  },
  {
   "cell_type": "markdown",
   "metadata": {},
   "source": [
    "b. Write a code which takes two digits m (row) and n (column) as input and generates a two-dimensional array. Each element value should be the row index multiplied by the respective column index. "
   ]
  },
  {
   "cell_type": "code",
   "execution_count": 10,
   "metadata": {},
   "outputs": [
    {
     "data": {
      "text/plain": [
       "[[0, 0, 0, 0, 0, 0],\n",
       " [0, 1, 2, 3, 4, 5],\n",
       " [0, 2, 4, 6, 8, 10],\n",
       " [0, 3, 6, 9, 12, 15],\n",
       " [0, 4, 8, 12, 16, 20]]"
      ]
     },
     "execution_count": 10,
     "metadata": {},
     "output_type": "execute_result"
    }
   ],
   "source": [
    "def createArray(m,n):\n",
    "    dimArray = []\n",
    "    for i in range(m):\n",
    "        row = []\n",
    "        for j in range(n):\n",
    "            row.append(i*j)\n",
    "        dimArray.append(row)\n",
    "    return dimArray\n",
    "\n",
    "createArray(5,6)"
   ]
  },
  {
   "cell_type": "code",
   "execution_count": 22,
   "metadata": {},
   "outputs": [
    {
     "data": {
      "text/plain": [
       "[[0, 0, 0, 0, 0, 0],\n",
       " [0, 1, 2, 3, 4, 5],\n",
       " [0, 2, 4, 6, 8, 10],\n",
       " [0, 3, 6, 9, 12, 15],\n",
       " [0, 4, 8, 12, 16, 20]]"
      ]
     },
     "execution_count": 22,
     "metadata": {},
     "output_type": "execute_result"
    }
   ],
   "source": [
    "def createArray(m,n):\n",
    "    a = [[j*i for j in range(n)] for i in range(m)]\n",
    "    return a\n",
    "\n",
    "createArray(5,6)"
   ]
  },
  {
   "cell_type": "markdown",
   "metadata": {},
   "source": [
    "c. Chess game:  \n",
    "\n",
    "Consider a 2-dimensional array that represents a chessboard, where 0 corresponds to an empty square and 1 a square with a rook \n",
    "(remember that rooks can only move on straight lines).\n",
    "```\n",
    "[(1,0,0),\n",
    "(0,1,0),\n",
    "(1,0,0)]\n",
    "```\n",
    "\n",
    "__Define a function that returns__\n",
    "```True``` if none of the rooks can attack each other\n",
    "```False``` if there is at least one pair of rooks that can attack each other."
   ]
  },
  {
   "cell_type": "code",
   "execution_count": 24,
   "metadata": {},
   "outputs": [],
   "source": [
    "def rooks_are_safe(chessboard):\n",
    "    for r in chessboard:\n",
    "        s = sum(r)\n",
    "        if s>1:\n",
    "            return False\n",
    "    for i in range(len(chessboard[0])):\n",
    "        s = sum([r[i] for r in chessboard])\n",
    "        if s>1:\n",
    "            return False\n",
    "    return True"
   ]
  },
  {
   "cell_type": "markdown",
   "metadata": {},
   "source": [
    "__Test your code:__"
   ]
  },
  {
   "cell_type": "code",
   "execution_count": 35,
   "metadata": {},
   "outputs": [
    {
     "name": "stdout",
     "output_type": "stream",
     "text": [
      "True\n"
     ]
    }
   ],
   "source": [
    "print (rooks_are_safe\n",
    "([(1,0,0),\n",
    "(0,1,0),\n",
    "(0,0,1)]))"
   ]
  },
  {
   "cell_type": "code",
   "execution_count": 32,
   "metadata": {},
   "outputs": [],
   "source": [
    "import numpy as np\n",
    "\n",
    "def rooks_are_safe_np(chessboard):\n",
    "    cb = np.array(chessboard)\n",
    "    for r in cb:\n",
    "        s = sum(r)\n",
    "        if s>1:\n",
    "            return False\n",
    "    for c in cb.T:\n",
    "        s = sum(c)\n",
    "        if s>1:\n",
    "            return False\n",
    "    return True"
   ]
  },
  {
   "cell_type": "code",
   "execution_count": 35,
   "metadata": {},
   "outputs": [
    {
     "name": "stdout",
     "output_type": "stream",
     "text": [
      "True\n"
     ]
    }
   ],
   "source": [
    "print (rooks_are_safe_np\n",
    "([(1,0,0),\n",
    "(0,1,0),\n",
    "(0,0,1)]))"
   ]
  },
  {
   "cell_type": "markdown",
   "metadata": {},
   "source": [
    "## Exercise 2 : Dictionaries\n",
    "\n",
    "Create a csv file describing 5 fruits, their color, weight and price.\n",
    "\n",
    "Read the csv file into a dictionary.\n",
    "\n",
    "a. Write a code to print all row values.\n",
    "\n",
    "b. Write a code to print only the fruit names.\n",
    "\n",
    "c. Write a code to check if value 2 pounds exists in the dictionary. Print (\"This fruit costs 2 pounds\" or \"No fruit costs 2 pounds\")\n",
    "\n",
    "d. Write a code to check which fruit has the highest price and print it.\n"
   ]
  },
  {
   "cell_type": "code",
   "execution_count": 1,
   "metadata": {},
   "outputs": [],
   "source": [
    "import csv\n",
    "fruits = []\n",
    "with open('solutions_fruit.csv') as csvfile:\n",
    "    reader = csv.DictReader(csvfile)\n",
    "    for r in reader:\n",
    "        fruits.append(r)"
   ]
  },
  {
   "cell_type": "code",
   "execution_count": 2,
   "metadata": {},
   "outputs": [
    {
     "name": "stdout",
     "output_type": "stream",
     "text": [
      "{'name': 'apple', 'colour': 'red', 'weight': '100', 'price': '0.5'}\n",
      "{'name': 'banana', 'colour': 'yellow', 'weight': '200', 'price': '0.25'}\n",
      "{'name': 'mango', 'colour': 'yellow', 'weight': '300', 'price': '2'}\n",
      "{'name': 'pear', 'colour': 'green', 'weight': '100', 'price': '0.5'}\n",
      "{'name': 'plum', 'colour': 'purple', 'weight': '50', 'price': '0.1'}\n"
     ]
    }
   ],
   "source": [
    "for f in fruits:\n",
    "    print(f)"
   ]
  },
  {
   "cell_type": "code",
   "execution_count": 3,
   "metadata": {},
   "outputs": [
    {
     "name": "stdout",
     "output_type": "stream",
     "text": [
      "apple\n",
      "banana\n",
      "mango\n",
      "pear\n",
      "plum\n"
     ]
    }
   ],
   "source": [
    "for f in fruits:\n",
    "    print(f['name'])"
   ]
  },
  {
   "cell_type": "code",
   "execution_count": 11,
   "metadata": {},
   "outputs": [],
   "source": [
    "def checkPrice(d,p):\n",
    "    foundFruit = []\n",
    "    for f in d:\n",
    "        if float(f['price'])==p:\n",
    "            foundFruit.append(f['name'])\n",
    "    if foundFruit:\n",
    "        for f in foundFruit:\n",
    "            print(f\"{f} costs {p} pounds\")\n",
    "    else:\n",
    "        print(f\"No fruit costs {p} pounds\")"
   ]
  },
  {
   "cell_type": "code",
   "execution_count": 12,
   "metadata": {},
   "outputs": [
    {
     "name": "stdout",
     "output_type": "stream",
     "text": [
      "apple costs 0.5 pounds\n",
      "pear costs 0.5 pounds\n"
     ]
    }
   ],
   "source": [
    "checkPrice(fruits,0.5)"
   ]
  },
  {
   "cell_type": "code",
   "execution_count": 14,
   "metadata": {},
   "outputs": [
    {
     "name": "stdout",
     "output_type": "stream",
     "text": [
      "('mango', 2.0)\n"
     ]
    }
   ],
   "source": [
    "highestValue = (None,0)\n",
    "for f in fruits:\n",
    "    value = float(f['price'])\n",
    "    if value > highestValue[1]:\n",
    "        highestValue = (f['name'],value)\n",
    "print(highestValue)"
   ]
  },
  {
   "cell_type": "markdown",
   "metadata": {},
   "source": [
    "## Exercise 3: Classes\n",
    "\n",
    "Create a Pokemon class, with attributes:\n",
    "- Name\n",
    "- HP\n",
    "- Power\n",
    "- Alive\n",
    "\n",
    "and two functions:\n",
    "\n",
    "- attack: which as argument receives another pokemon, and reduces that pokemons HP by the power of the pokemon that attacks, up to 0, if the HP reaches 0 the alive boolean should be set to False. \n",
    "\n",
    "- a description function which prints the name and status of the pokemon. \n",
    "    "
   ]
  },
  {
   "cell_type": "code",
   "execution_count": 28,
   "metadata": {},
   "outputs": [],
   "source": [
    "class Pokemon:\n",
    "    def __init__(self,Name,HP,Power):\n",
    "        self.Name = Name\n",
    "        self.HP = HP\n",
    "        self.Power = Power\n",
    "        self.Alive = True\n",
    "    \n",
    "    def attack(self,enemy):\n",
    "        enemy.HP -= self.Power\n",
    "        if enemy.HP<=0:\n",
    "            enemy.HP = 0\n",
    "            enemy.Alive = False\n",
    "    \n",
    "    def describe(self):\n",
    "        if self.Alive:\n",
    "            print(f\"{self.Name} has {self.HP} HP left\")\n",
    "        else:\n",
    "            print(f\"{self.Name} has fainted\")"
   ]
  },
  {
   "cell_type": "code",
   "execution_count": 29,
   "metadata": {},
   "outputs": [],
   "source": [
    "pikachu = Pokemon(\"Pikachu\",70,10)\n",
    "snorlax = Pokemon(\"Snorlax\",200,5)"
   ]
  },
  {
   "cell_type": "code",
   "execution_count": 30,
   "metadata": {},
   "outputs": [
    {
     "name": "stdout",
     "output_type": "stream",
     "text": [
      "Pikachu has 65 HP left\n",
      "Snorlax has 190 HP left\n",
      "------\n",
      "Pikachu has 60 HP left\n",
      "Snorlax has 180 HP left\n",
      "------\n",
      "Pikachu has 55 HP left\n",
      "Snorlax has 170 HP left\n",
      "------\n",
      "Pikachu has 50 HP left\n",
      "Snorlax has 160 HP left\n",
      "------\n",
      "Pikachu has 45 HP left\n",
      "Snorlax has 150 HP left\n",
      "------\n",
      "Pikachu has 40 HP left\n",
      "Snorlax has 140 HP left\n",
      "------\n",
      "Pikachu has 35 HP left\n",
      "Snorlax has 130 HP left\n",
      "------\n",
      "Pikachu has 30 HP left\n",
      "Snorlax has 120 HP left\n",
      "------\n",
      "Pikachu has 25 HP left\n",
      "Snorlax has 110 HP left\n",
      "------\n",
      "Pikachu has 20 HP left\n",
      "Snorlax has 100 HP left\n",
      "------\n",
      "Pikachu has 15 HP left\n",
      "Snorlax has 90 HP left\n",
      "------\n",
      "Pikachu has 10 HP left\n",
      "Snorlax has 80 HP left\n",
      "------\n",
      "Pikachu has 5 HP left\n",
      "Snorlax has 70 HP left\n",
      "------\n",
      "Pikachu has fainted\n",
      "Snorlax has 60 HP left\n",
      "------\n"
     ]
    }
   ],
   "source": [
    "while pikachu.Alive and snorlax.Alive:\n",
    "    pikachu.attack(snorlax)\n",
    "    snorlax.attack(pikachu)\n",
    "    pikachu.describe()\n",
    "    snorlax.describe()\n",
    "    print(\"------\")"
   ]
  },
  {
   "cell_type": "markdown",
   "metadata": {},
   "source": [
    "## Exercise 4 : Datasets\n",
    "\n",
    "Open and read the file 2015DeprivationScore.csv .\n",
    "\n",
    "a. Write a code to print the length of the dataset.\n",
    "\n",
    "b. Write a code to sort the content based on Income Rank. Print top 5.\n",
    "\n",
    "c. Write a code to show the number of LSOA that have a Living Environment Score > 15.\n",
    "\n",
    "d. Write a code that prints the LSOA that have Index of Deprivation Score > 85.\n",
    "\n",
    "d. Write a code that prints the Index of Deprivation Score for Islington.\n",
    "\n"
   ]
  },
  {
   "cell_type": "code",
   "execution_count": 31,
   "metadata": {},
   "outputs": [],
   "source": [
    "import csv\n",
    "deprivation = []\n",
    "with open('2015DeprivationScore.csv') as csvfile:\n",
    "    reader = csv.DictReader(csvfile)\n",
    "    for r in reader:\n",
    "        deprivation.append(r)"
   ]
  },
  {
   "cell_type": "code",
   "execution_count": 32,
   "metadata": {},
   "outputs": [
    {
     "name": "stdout",
     "output_type": "stream",
     "text": [
      "32844\n"
     ]
    }
   ],
   "source": [
    "print(len(deprivation))"
   ]
  },
  {
   "cell_type": "code",
   "execution_count": 41,
   "metadata": {},
   "outputs": [
    {
     "name": "stdout",
     "output_type": "stream",
     "text": [
      "LSOA code (2011)\n",
      "LSOA name (2011)\n",
      "Local Authority District code (2013)\n",
      "Local Authority District name (2013)\n",
      "Index of Multiple Deprivation (IMD) Score\n",
      "Index of Multiple Deprivation (IMD) Rank (where 1 is most deprived)\n",
      "Index of Multiple Deprivation (IMD) Decile (where 1 is most deprived 10% of LSOAs)\n",
      "Income Score (rate)\n",
      "Income Rank (where 1 is most deprived)\n",
      "Income Decile (where 1 is most deprived 10% of LSOAs)\n",
      "Employment Score (rate)\n",
      "Employment Rank (where 1 is most deprived)\n",
      "Employment Decile (where 1 is most deprived 10% of LSOAs)\n",
      "Education, Skills and Training Score\n",
      "Education, Skills and Training Rank (where 1 is most deprived)\n",
      "Education, Skills and Training Decile (where 1 is most deprived 10% of LSOAs)\n",
      "Health Deprivation and Disability Score\n",
      "Health Deprivation and Disability Rank (where 1 is most deprived)\n",
      "Health Deprivation and Disability Decile (where 1 is most deprived 10% of LSOAs)\n",
      "Crime Score\n",
      "Crime Rank (where 1 is most deprived)\n",
      "Crime Decile (where 1 is most deprived 10% of LSOAs)\n",
      "Barriers to Housing and Services Score\n",
      "Barriers to Housing and Services Rank (where 1 is most deprived)\n",
      "Barriers to Housing and Services Decile (where 1 is most deprived 10% of LSOAs)\n",
      "Living Environment Score\n",
      "Living Environment Rank (where 1 is most deprived)\n",
      "Living Environment Decile (where 1 is most deprived 10% of LSOAs)\n",
      "Income Deprivation Affecting Children Index (IDACI) Score (rate)\n",
      "Income Deprivation Affecting Children Index (IDACI) Rank (where 1 is most deprived)\n",
      "Income Deprivation Affecting Children Index (IDACI) Decile (where 1 is most deprived 10% of LSOAs)\n",
      "Income Deprivation Affecting Older People (IDAOPI) Score (rate)\n",
      "Income Deprivation Affecting Older People (IDAOPI) Rank (where 1 is most deprived)\n",
      "Income Deprivation Affecting Older People (IDAOPI) Decile (where 1 is most deprived 10% of LSOAs)\n",
      "Children and Young People Sub-domain Score\n",
      "Children and Young People Sub-domain Rank (where 1 is most deprived)\n",
      "Children and Young People Sub-domain Decile (where 1 is most deprived 10% of LSOAs)\n",
      "Adult Skills Sub-domain Score\n",
      "Adult Skills Sub-domain Rank (where 1 is most deprived)\n",
      "Adult Skills Sub-domain Decile (where 1 is most deprived 10% of LSOAs)\n",
      "Geographical Barriers Sub-domain Score\n",
      "Geographical Barriers Sub-domain Rank (where 1 is most deprived)\n",
      "Geographical Barriers Sub-domain Decile (where 1 is most deprived 10% of LSOAs)\n",
      "Wider Barriers Sub-domain Score\n",
      "Wider Barriers Sub-domain Rank (where 1 is most deprived)\n",
      "Wider Barriers Sub-domain Decile (where 1 is most deprived 10% of LSOAs)\n",
      "Indoors Sub-domain Score\n",
      "Indoors Sub-domain Rank (where 1 is most deprived)\n",
      "Indoors Sub-domain Decile (where 1 is most deprived 10% of LSOAs)\n",
      "Outdoors Sub-domain Score\n",
      "Outdoors Sub-domain Rank (where 1 is most deprived)\n",
      "Outdoors Sub-domain Decile (where 1 is most deprived 10% of LSOAs)\n",
      "Total population: mid 2012 (excluding prisoners)\n",
      "Dependent Children aged 0-15: mid 2012 (excluding prisoners)\n",
      "Population aged 16-59: mid 2012 (excluding prisoners)\n",
      "Older population aged 60 and over: mid 2012 (excluding prisoners)\n",
      "Working age population 18-59/64: for use with Employment Deprivation Domain (excluding prisoners) \n"
     ]
    }
   ],
   "source": [
    "for k in deprivation[0].keys():\n",
    "    print(k)"
   ]
  },
  {
   "cell_type": "code",
   "execution_count": 45,
   "metadata": {},
   "outputs": [
    {
     "name": "stdout",
     "output_type": "stream",
     "text": [
      "32844\n",
      "32843\n",
      "32842\n",
      "32841\n",
      "32840\n"
     ]
    }
   ],
   "source": [
    "deprivation.sort(key = lambda x:float(x[\"Income Rank (where 1 is most deprived)\"]), reverse = True)\n",
    "for d in deprivation[0:5]:\n",
    "    print(d[\"Income Rank (where 1 is most deprived)\"])"
   ]
  },
  {
   "cell_type": "code",
   "execution_count": 46,
   "metadata": {},
   "outputs": [
    {
     "name": "stdout",
     "output_type": "stream",
     "text": [
      "18545\n"
     ]
    }
   ],
   "source": [
    "threshold = 15\n",
    "nr = 0\n",
    "for d in deprivation:\n",
    "    if float(d['Living Environment Score']) > threshold:\n",
    "        nr+=1\n",
    "print(nr)"
   ]
  },
  {
   "cell_type": "code",
   "execution_count": 47,
   "metadata": {},
   "outputs": [
    {
     "name": "stdout",
     "output_type": "stream",
     "text": [
      "['Blackpool 013A', 'Blackpool 006A', 'Blackpool 013D', 'Tendring 016B', 'Thanet 001A', 'Tendring 018A', 'Coventry 007E', 'Blackpool 010A']\n"
     ]
    }
   ],
   "source": [
    "threshold = 85\n",
    "names = []\n",
    "for d in deprivation:\n",
    "    if float(d['Index of Multiple Deprivation (IMD) Score']) > threshold:\n",
    "        names.append(d['LSOA name (2011)'])\n",
    "print(names)"
   ]
  },
  {
   "cell_type": "code",
   "execution_count": 50,
   "metadata": {},
   "outputs": [
    {
     "name": "stdout",
     "output_type": "stream",
     "text": [
      "Islington 006F 10.311\n",
      "Islington 022G 18.343\n",
      "Islington 022D 15.907\n",
      "Islington 017D 16.647\n",
      "Islington 017C 17.597\n",
      "Islington 011F 13.988\n",
      "Islington 008D 15.857\n",
      "Islington 011I 27.143\n",
      "Islington 013B 20.242\n",
      "Islington 020C 21.154\n",
      "Islington 016E 20.395\n",
      "Islington 008A 20.213\n",
      "Islington 006G 18.575\n",
      "Islington 006A 16.348\n",
      "Islington 017E 22.303\n",
      "Islington 014B 24.429\n",
      "Islington 006B 14.846\n",
      "Islington 013A 19.571\n",
      "Islington 022H 24.102\n",
      "Islington 016B 22.606\n",
      "Islington 008B 23.674\n",
      "Islington 020A 25.872\n",
      "Islington 008C 22.429\n",
      "Islington 020D 25.812\n",
      "Islington 013C 19.232\n",
      "Islington 007C 21.322\n",
      "Islington 020B 23.085\n",
      "Islington 011C 25.126\n",
      "Islington 012C 22.428\n",
      "Islington 021D 27.932\n",
      "Islington 009D 22.99\n",
      "Islington 002B 22.632\n",
      "Islington 017A 21.844\n",
      "Islington 014D 24.151\n",
      "Islington 002D 22.425\n",
      "Islington 007B 32.364\n",
      "Islington 017B 23.848\n",
      "Islington 016A 24.922\n",
      "Islington 021B 27.899\n",
      "Islington 009C 24.708\n",
      "Islington 018C 21.583\n",
      "Islington 004B 32.085\n",
      "Islington 021A 28.816\n",
      "Islington 021C 27.412\n",
      "Islington 013E 26.891\n",
      "Islington 009A 29.304\n",
      "Islington 015B 39.409\n",
      "Islington 003B 28.435\n",
      "Islington 020E 27.138\n",
      "Islington 022B 27.996\n",
      "Islington 001B 29.934\n",
      "Islington 012A 31.522\n",
      "Islington 002F 32.372\n",
      "Islington 013D 31.394\n",
      "Islington 004E 35.323\n",
      "Islington 006D 29.092\n",
      "Islington 007A 36.177\n",
      "Islington 022F 28.903\n",
      "Islington 014C 32.282\n",
      "Islington 023E 30.56\n",
      "Islington 004C 28.129\n",
      "Islington 014F 31.286\n",
      "Islington 003C 29.074\n",
      "Islington 023D 26.648\n",
      "Islington 007D 39.149\n",
      "Islington 003D 30.174\n",
      "Islington 009E 27.342\n",
      "Islington 004A 32.162\n",
      "Islington 014E 34.386\n",
      "Islington 022E 33.361\n",
      "Islington 002C 28.672\n",
      "Islington 002A 32.299\n",
      "Islington 019B 34.985\n",
      "Islington 011H 37.725\n",
      "Islington 015A 35.021\n",
      "Islington 023A 33.405\n",
      "Islington 010E 38.422\n",
      "Islington 011G 37.964\n",
      "Islington 003E 35.934\n",
      "Islington 021E 35.403\n",
      "Islington 010A 37.509\n",
      "Islington 018B 38.641\n",
      "Islington 022C 34.23\n",
      "Islington 003A 37.773\n",
      "Islington 012D 30.114\n",
      "Islington 015D 38.848\n",
      "Islington 015E 42.006\n",
      "Islington 011E 40.234\n",
      "Islington 023B 38.017\n",
      "Islington 011D 40.981\n",
      "Islington 019D 36.58\n",
      "Islington 018D 35.889\n",
      "Islington 014A 36.011\n",
      "Islington 003F 38.597\n",
      "Islington 018A 40.865\n",
      "Islington 019C 38.805\n",
      "Islington 016F 41.649\n",
      "Islington 001F 38.812\n",
      "Islington 001E 41.611\n",
      "Islington 010C 40.162\n",
      "Islington 010D 41.459\n",
      "Islington 010B 51.901\n",
      "Islington 001D 40.018\n",
      "Islington 006C 46.912\n",
      "Islington 016D 47.327\n",
      "Islington 023C 42.227\n",
      "Islington 005D 40.259\n",
      "Islington 009B 41.544\n",
      "Islington 015C 48.379\n",
      "Islington 019E 45.245\n",
      "Islington 012B 51.218\n",
      "Islington 002E 47.739\n",
      "Islington 001A 44.951\n",
      "Islington 018E 52.596\n",
      "Islington 012E 47.078\n",
      "Islington 016C 45.296\n",
      "Islington 001C 49.45\n",
      "Islington 005C 49.589\n",
      "Islington 005E 47.769\n",
      "Islington 004D 59.522\n",
      "Islington 019A 53.267\n",
      "Islington 005A 56.881\n",
      "Islington 005B 63.963\n",
      "Islington average deprivation is 32.645243902439006\n"
     ]
    }
   ],
   "source": [
    "total = []\n",
    "for d in deprivation:\n",
    "    if 'Islington' in d['LSOA name (2011)']:\n",
    "        print(d['LSOA name (2011)'], d['Index of Multiple Deprivation (IMD) Score'])\n",
    "        total.append(float(d['Index of Multiple Deprivation (IMD) Score']))\n",
    "\n",
    "average = sum(total)/len(total)\n",
    "print(f\"Islington average deprivation is {average}\")"
   ]
  },
  {
   "cell_type": "markdown",
   "metadata": {},
   "source": [
    "## Exercise 5 : Data visualisation\n",
    "\n",
    "Visualise your dataset. Import matplotlib library to assist you for the creation of the diagrams. Data visualisation can assist to the understanding of data values and their correlation.\n",
    "\n",
    "Use the datasets from the exercise above and create at least 3 diagrams. It is advised to explore the basic scatterplot and bar functions.\n",
    "Define the size of the figure, labels, color and title. \n",
    "\n",
    "(Note:https://matplotlib.org/stable/plot_types/basic/index.html)"
   ]
  },
  {
   "cell_type": "code",
   "execution_count": null,
   "metadata": {},
   "outputs": [],
   "source": []
  },
  {
   "cell_type": "markdown",
   "metadata": {},
   "source": [
    "## Exercise 6 : Image manipulation\n",
    "\n",
    "Read an image of your selection. It is advised to select an image and figure out how to use the course knowledge for reading that image from your desktop/folder.\n",
    "\n",
    "a. Write a code to show the image and print its size.\n",
    "\n",
    "b. Following the course material, create an alternative visualisation of your selected image. Be creative!"
   ]
  },
  {
   "cell_type": "code",
   "execution_count": null,
   "metadata": {},
   "outputs": [],
   "source": []
  }
 ],
 "metadata": {
  "kernelspec": {
   "display_name": "Python 3 (ipykernel)",
   "language": "python",
   "name": "python3"
  },
  "language_info": {
   "codemirror_mode": {
    "name": "ipython",
    "version": 3
   },
   "file_extension": ".py",
   "mimetype": "text/x-python",
   "name": "python",
   "nbconvert_exporter": "python",
   "pygments_lexer": "ipython3",
   "version": "3.8.13"
  }
 },
 "nbformat": 4,
 "nbformat_minor": 4
}
