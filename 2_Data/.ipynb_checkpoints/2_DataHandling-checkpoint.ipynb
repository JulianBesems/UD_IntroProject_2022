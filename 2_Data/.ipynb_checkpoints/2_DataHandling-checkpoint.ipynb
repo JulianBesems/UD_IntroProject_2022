{
 "cells": [
  {
   "cell_type": "markdown",
   "id": "cc0ad464",
   "metadata": {},
   "source": [
    "---\n",
    "<br/><br/>\n",
    "<br/><br/>\n",
    "<br/><br/>\n",
    "## Session 2 \n",
    "\n",
    "### Classes, Read and Write files, 2D Arrays\n",
    "\n",
    "_Julian Besems_\n",
    "<br/><br/>\n",
    "<br/><br/>\n",
    "<br/><br/>"
   ]
  },
  {
   "cell_type": "markdown",
   "id": "dbb20e5d",
   "metadata": {},
   "source": [
    "------------------\n",
    "<br/><br/>\n",
    "<br/><br/>\n",
    "<br/><br/>\n",
    "# Contents\n",
    "- _Classes_: a means to create custom data object, including attributes and functions\n",
    "- Read and write files:\n",
    "    - Text files, CSV files, Images\n",
    "- 2D\n",
    "<br/><br/>\n",
    "<br/><br/>\n",
    "<br/><br/>"
   ]
  },
  {
   "cell_type": "markdown",
   "id": "4c399ff1",
   "metadata": {},
   "source": [
    "---\n",
    "\n",
    "## Object Orientation\n",
    "\n",
    "\"Object-oriented programming (OOP) is a computer programming model that organizes software design around data, or objects, rather than functions and logic. An object can be defined as a data field that has unique attributes and behavior.\" - \n",
    "_A. Gillis_"
   ]
  },
  {
   "cell_type": "markdown",
   "id": "b41fab47",
   "metadata": {},
   "source": [
    "---\n",
    "<img src=\"https://l87r32c95dp1hz05tig4px11-wpengine.netdna-ssl.com/wp-content/uploads/2019/04/Pattern_Language1-768x901.jpg\" alt=\"drawing\" width=\"600\"/><br/><br/>"
   ]
  },
  {
   "cell_type": "markdown",
   "id": "fead8788",
   "metadata": {},
   "source": [
    "---\n",
    "<img src=\"https://springframework.guru/wp-content/uploads/2015/04/9780201633610.jpg\" alt=\"drawing\" width=\"500\"/><br/><br/>"
   ]
  },
  {
   "cell_type": "markdown",
   "id": "40ef8dde",
   "metadata": {},
   "source": [
    "---\n",
    "<br/><br/>\n",
    "<br/><br/>\n",
    "# Classes and Objects\n",
    "\n",
    "__In Python every object is an instance of a class. The class defines the characteristics an object can have.__\n",
    "\n",
    "<br/><br/>\n",
    "---"
   ]
  },
  {
   "cell_type": "markdown",
   "id": "c5330bfe",
   "metadata": {},
   "source": [
    "---\n",
    "<br/><br/>\n",
    "<br/><br/>\n",
    "## Real life example\n",
    "\n",
    "- Cars are one class of objects\n",
    "- a specific car is an object\n",
    "\n",
    "\n",
    "The class of cars is defined by a set of __Attributes__ and a set of __Methods__\n",
    "\n",
    "---\n",
    "### Attributes of Car\n",
    "- weight\n",
    "- colour\n",
    "- brand\n",
    "- height\n",
    "- width\n",
    "- top speed\n",
    "- etc.\n",
    "\n",
    "---\n",
    "### Methods of Car\n",
    "- drive\n",
    "- break\n",
    "- drive backwards\n",
    "- change gear\n",
    "- etc.\n",
    "\n",
    "---\n",
    "\n",
    "### Instance of car\n",
    "\n",
    "- weight = 800 kg\n",
    "- Colour = Red\n",
    "- Brand = Ford\n",
    "- Height = 1700\n",
    "- Width = 1600\n",
    "- etc.\n",
    "\n",
    "<br/><br/>\n",
    "---"
   ]
  },
  {
   "cell_type": "code",
   "execution_count": 1,
   "id": "02ca81fe",
   "metadata": {},
   "outputs": [],
   "source": [
    "class Car:    \n",
    "    def __init__(self, colour):\n",
    "        self.brand = 'ford'\n",
    "        self.colour = colour\n",
    "        self.numberPlate = ['a','b','c','d','e']\n",
    "    \n",
    "    def describe(self):\n",
    "        print('this car is a ' + self.colour + ' ' + self.brand)"
   ]
  },
  {
   "cell_type": "markdown",
   "id": "f144bad9",
   "metadata": {},
   "source": [
    "```Car``` : name of the class\n",
    "\n",
    "```def __init__(self, ...) ``` : initialise function\n",
    "\n",
    "```colour``` : initialise argument\n",
    "\n",
    "```self.brand = 'ford'``` : default value variable\n",
    "\n",
    "```self.colour = colour``` : instantiated value variable \n",
    "\n",
    "```def describe ...``` : functions within the class"
   ]
  },
  {
   "cell_type": "code",
   "execution_count": 3,
   "id": "ad6e6372",
   "metadata": {},
   "outputs": [
    {
     "name": "stdout",
     "output_type": "stream",
     "text": [
      "this car is a blue ford\n"
     ]
    }
   ],
   "source": [
    "car = Car('blue')\n",
    "car.describe()"
   ]
  },
  {
   "cell_type": "code",
   "execution_count": 6,
   "id": "5b29795e",
   "metadata": {},
   "outputs": [
    {
     "data": {
      "text/plain": [
       "['a', 'b', 'c', 'd', 'e']"
      ]
     },
     "execution_count": 6,
     "metadata": {},
     "output_type": "execute_result"
    }
   ],
   "source": [
    "car.numberPlate"
   ]
  },
  {
   "cell_type": "code",
   "execution_count": 7,
   "id": "28183677",
   "metadata": {},
   "outputs": [],
   "source": [
    "car.brand = 'BMW'"
   ]
  },
  {
   "cell_type": "code",
   "execution_count": 8,
   "id": "f0c07940",
   "metadata": {},
   "outputs": [
    {
     "name": "stdout",
     "output_type": "stream",
     "text": [
      "this car is a blue BMW\n"
     ]
    }
   ],
   "source": [
    "car.describe()"
   ]
  },
  {
   "cell_type": "code",
   "execution_count": 9,
   "id": "7077e780",
   "metadata": {},
   "outputs": [],
   "source": [
    "v = 10"
   ]
  },
  {
   "cell_type": "markdown",
   "id": "11a3f54a",
   "metadata": {},
   "source": [
    "---\n",
    "__Pointers__\n",
    "\n",
    "__In a computer memory has addresses.__\n",
    "\n",
    "An address refers to content where a value can be stored _(usually)_. \n"
   ]
  },
  {
   "cell_type": "markdown",
   "id": "c54e5963",
   "metadata": {},
   "source": [
    "<br/><br/>\n",
    "<img src=\"https://upload.wikimedia.org/wikipedia/commons/thumb/b/b4/Pointers.svg/1920px-Pointers.svg.png\" alt=\"drawing\" width=\"200\"/>\n",
    "\n",
    "For more info:\n",
    "https://en.wikipedia.org/wiki/Pointer_(computer_programming)"
   ]
  },
  {
   "cell_type": "code",
   "execution_count": 10,
   "id": "c2450a59",
   "metadata": {},
   "outputs": [],
   "source": [
    "car2 = car"
   ]
  },
  {
   "cell_type": "code",
   "execution_count": 11,
   "id": "07f657f6",
   "metadata": {},
   "outputs": [
    {
     "name": "stdout",
     "output_type": "stream",
     "text": [
      "this car is a blue BMW\n"
     ]
    }
   ],
   "source": [
    "car2.describe()"
   ]
  },
  {
   "cell_type": "code",
   "execution_count": 12,
   "id": "42c44fdd",
   "metadata": {},
   "outputs": [
    {
     "name": "stdout",
     "output_type": "stream",
     "text": [
      "this car is a blue BMW\n"
     ]
    }
   ],
   "source": [
    "car.describe()"
   ]
  },
  {
   "cell_type": "code",
   "execution_count": 13,
   "id": "c8952c64",
   "metadata": {},
   "outputs": [],
   "source": [
    "car2.brand = 'VW'"
   ]
  },
  {
   "cell_type": "code",
   "execution_count": 14,
   "id": "f2e70206",
   "metadata": {},
   "outputs": [
    {
     "name": "stdout",
     "output_type": "stream",
     "text": [
      "this car is a blue VW\n"
     ]
    }
   ],
   "source": [
    "car.describe()"
   ]
  },
  {
   "cell_type": "code",
   "execution_count": 15,
   "id": "e75d6e36",
   "metadata": {},
   "outputs": [
    {
     "name": "stdout",
     "output_type": "stream",
     "text": [
      "4703477424\n",
      "4703477424\n"
     ]
    }
   ],
   "source": [
    "print(id(car))\n",
    "print(id(car2))"
   ]
  },
  {
   "cell_type": "code",
   "execution_count": 16,
   "id": "170d5311",
   "metadata": {},
   "outputs": [],
   "source": [
    "import copy\n",
    "car2 = copy.copy(car)\n",
    "car2.brand = 'Audi'"
   ]
  },
  {
   "cell_type": "code",
   "execution_count": 17,
   "id": "88a88580",
   "metadata": {},
   "outputs": [
    {
     "name": "stdout",
     "output_type": "stream",
     "text": [
      "this car is a blue VW\n"
     ]
    }
   ],
   "source": [
    "car.describe()"
   ]
  },
  {
   "cell_type": "code",
   "execution_count": 18,
   "id": "7c9f01df",
   "metadata": {},
   "outputs": [
    {
     "name": "stdout",
     "output_type": "stream",
     "text": [
      "this car is a blue Audi\n"
     ]
    }
   ],
   "source": [
    "car2.describe()"
   ]
  },
  {
   "cell_type": "code",
   "execution_count": 19,
   "id": "128efb3f",
   "metadata": {},
   "outputs": [
    {
     "name": "stdout",
     "output_type": "stream",
     "text": [
      "4703477424\n",
      "4703474400\n"
     ]
    }
   ],
   "source": [
    "print(id(car))\n",
    "print(id(car2))"
   ]
  },
  {
   "cell_type": "code",
   "execution_count": 21,
   "id": "47e10b2b",
   "metadata": {},
   "outputs": [
    {
     "name": "stdout",
     "output_type": "stream",
     "text": [
      "['a', 'b', 'c', 'd', 'e']\n",
      "['a', 'b', 'c', 'd', 'e']\n"
     ]
    }
   ],
   "source": [
    "print(car.numberPlate)\n",
    "print(car2.numberPlate)"
   ]
  },
  {
   "cell_type": "code",
   "execution_count": 22,
   "id": "215eead1",
   "metadata": {},
   "outputs": [],
   "source": [
    "car2.numberPlate[0] = 1"
   ]
  },
  {
   "cell_type": "code",
   "execution_count": 23,
   "id": "5f509dcd",
   "metadata": {},
   "outputs": [
    {
     "name": "stdout",
     "output_type": "stream",
     "text": [
      "[1, 'b', 'c', 'd', 'e']\n"
     ]
    }
   ],
   "source": [
    "print(car.numberPlate)"
   ]
  },
  {
   "cell_type": "code",
   "execution_count": 24,
   "id": "f6b19ca0",
   "metadata": {},
   "outputs": [
    {
     "name": "stdout",
     "output_type": "stream",
     "text": [
      "4703707840\n",
      "4703707840\n"
     ]
    }
   ],
   "source": [
    "print(id(car.numberPlate))\n",
    "print(id(car2.numberPlate))"
   ]
  },
  {
   "cell_type": "code",
   "execution_count": 25,
   "id": "1c8d2f7d",
   "metadata": {},
   "outputs": [],
   "source": [
    "car2 = copy.deepcopy(car)\n",
    "car2.numberPlate[0] = 8"
   ]
  },
  {
   "cell_type": "code",
   "execution_count": 26,
   "id": "4857fd5d",
   "metadata": {},
   "outputs": [
    {
     "name": "stdout",
     "output_type": "stream",
     "text": [
      "[1, 'b', 'c', 'd', 'e']\n",
      "[8, 'b', 'c', 'd', 'e']\n"
     ]
    }
   ],
   "source": [
    "print(car.numberPlate)\n",
    "print(car2.numberPlate)"
   ]
  },
  {
   "cell_type": "code",
   "execution_count": 27,
   "id": "28359ab2",
   "metadata": {
    "scrolled": true
   },
   "outputs": [
    {
     "name": "stdout",
     "output_type": "stream",
     "text": [
      "4703707840\n",
      "4703703488\n"
     ]
    }
   ],
   "source": [
    "print(id(car.numberPlate))\n",
    "print(id(car2.numberPlate))"
   ]
  },
  {
   "cell_type": "markdown",
   "id": "bc2ec4e1",
   "metadata": {},
   "source": [
    "---\n",
    "\n",
    "# Read and Write Files\n",
    "\n",
    "There are many ways of interacting with external information, we'll cover 3 basic ways here."
   ]
  },
  {
   "cell_type": "markdown",
   "id": "ea360d51",
   "metadata": {},
   "source": [
    "---\n",
    "\n",
    "### Text files"
   ]
  },
  {
   "cell_type": "code",
   "execution_count": 28,
   "id": "36407418",
   "metadata": {},
   "outputs": [
    {
     "name": "stdout",
     "output_type": "stream",
     "text": [
      "Some text in a text file\n",
      "on multiple\n",
      "lines\n",
      "\n"
     ]
    }
   ],
   "source": [
    "f = open(\"demo1.txt\", \"r\")\n",
    "print(f.read())"
   ]
  },
  {
   "cell_type": "markdown",
   "id": "62476d3d",
   "metadata": {},
   "source": [
    "```f```: the variable containing the file object\n",
    "\n",
    "```open()```: built in function to open a file\n",
    "\n",
    "```\"demo1.txt\"```: string containing the path to the file\n",
    "\n",
    "```\"r\"```: flag to specify the way in which the file is opened, ```\"r\"``` is the read flag\n",
    "\n",
    "```f.read()```: function of the file object to read the content of the file"
   ]
  },
  {
   "cell_type": "code",
   "execution_count": 29,
   "id": "8acfdd3b",
   "metadata": {},
   "outputs": [
    {
     "name": "stdout",
     "output_type": "stream",
     "text": [
      "Some \n"
     ]
    }
   ],
   "source": [
    "f = open(\"demo1.txt\", \"r\")\n",
    "print(f.read(5))"
   ]
  },
  {
   "cell_type": "code",
   "execution_count": 30,
   "id": "baa04347",
   "metadata": {},
   "outputs": [
    {
     "name": "stdout",
     "output_type": "stream",
     "text": [
      "Some text in a text file\n",
      "\n"
     ]
    }
   ],
   "source": [
    "f = open(\"demo1.txt\", \"r\")\n",
    "print(f.readline())"
   ]
  },
  {
   "cell_type": "code",
   "execution_count": 31,
   "id": "c8c14620",
   "metadata": {},
   "outputs": [
    {
     "name": "stdout",
     "output_type": "stream",
     "text": [
      "on multiple\n",
      "\n"
     ]
    }
   ],
   "source": [
    "print(f.readline())"
   ]
  },
  {
   "cell_type": "code",
   "execution_count": 32,
   "id": "6093cd55",
   "metadata": {},
   "outputs": [
    {
     "name": "stdout",
     "output_type": "stream",
     "text": [
      "lines\n",
      "\n"
     ]
    }
   ],
   "source": [
    "print(f.readline())"
   ]
  },
  {
   "cell_type": "code",
   "execution_count": 33,
   "id": "6aeb294d",
   "metadata": {},
   "outputs": [
    {
     "name": "stdout",
     "output_type": "stream",
     "text": [
      "Some text in a text file\n",
      "\n",
      "on multiple\n",
      "\n",
      "lines\n",
      "\n"
     ]
    }
   ],
   "source": [
    "f = open(\"demo1.txt\", \"r\")\n",
    "for l in f:\n",
    "    print(l)"
   ]
  },
  {
   "cell_type": "markdown",
   "id": "ad384cb0",
   "metadata": {},
   "source": [
    "__Good practice to close a file once you're done:__"
   ]
  },
  {
   "cell_type": "code",
   "execution_count": 34,
   "id": "f02dbbcb",
   "metadata": {},
   "outputs": [],
   "source": [
    "f.close()"
   ]
  },
  {
   "cell_type": "markdown",
   "id": "e6859499",
   "metadata": {},
   "source": [
    "__Writing to a file__\n",
    "\n",
    "Two flags:\n",
    "\n",
    "```a```: append - add to the end of an existing file, or if the file doesn't exist create a new one\n",
    "\n",
    "```w```: overwrite an existing file, or if the file doesn't exist create a new one"
   ]
  },
  {
   "cell_type": "code",
   "execution_count": 35,
   "id": "858fd313",
   "metadata": {},
   "outputs": [],
   "source": [
    "f= open(\"demo1.txt\", 'a')\n",
    "f.write(\"now it has some more text\")\n",
    "f.close()"
   ]
  },
  {
   "cell_type": "code",
   "execution_count": 36,
   "id": "01837f53",
   "metadata": {},
   "outputs": [
    {
     "name": "stdout",
     "output_type": "stream",
     "text": [
      "Some text in a text file\n",
      "on multiple\n",
      "lines\n",
      "now it has some more text\n"
     ]
    }
   ],
   "source": [
    "f = open(\"demo1.txt\", \"r\")\n",
    "print(f.read())"
   ]
  },
  {
   "cell_type": "code",
   "execution_count": 45,
   "id": "86bd5c5a",
   "metadata": {},
   "outputs": [],
   "source": [
    "f= open(\"demo1.txt\", 'w')\n",
    "f.write(\"now all the previous text is gone\\n\")\n",
    "f.close()"
   ]
  },
  {
   "cell_type": "code",
   "execution_count": 38,
   "id": "9bd5605d",
   "metadata": {},
   "outputs": [
    {
     "name": "stdout",
     "output_type": "stream",
     "text": [
      "now all the previous text is gone\n"
     ]
    }
   ],
   "source": [
    "f = open(\"demo1.txt\", \"r\")\n",
    "print(f.read())"
   ]
  },
  {
   "cell_type": "code",
   "execution_count": 39,
   "id": "1af50fd5",
   "metadata": {},
   "outputs": [],
   "source": [
    "f= open(\"demo2.txt\", 'w')\n",
    "f.write(\"This file didn't exist earlier\")\n",
    "f.close()"
   ]
  },
  {
   "cell_type": "code",
   "execution_count": 40,
   "id": "2d0ac94e",
   "metadata": {
    "scrolled": true
   },
   "outputs": [
    {
     "name": "stdout",
     "output_type": "stream",
     "text": [
      "This file didn't exist earlier\n"
     ]
    }
   ],
   "source": [
    "f = open(\"demo2.txt\", \"r\")\n",
    "print(f.read())"
   ]
  },
  {
   "cell_type": "code",
   "execution_count": 46,
   "id": "0bf579c0",
   "metadata": {},
   "outputs": [],
   "source": [
    "f= open(\"demo1.txt\", 'a')\n",
    "f.write(\"now it has some more text\")\n",
    "f.close()"
   ]
  },
  {
   "cell_type": "code",
   "execution_count": 47,
   "id": "7a2cad3f",
   "metadata": {},
   "outputs": [
    {
     "name": "stdout",
     "output_type": "stream",
     "text": [
      "now all the previous text is gone\n",
      "now it has some more text\n"
     ]
    }
   ],
   "source": [
    "f = open(\"demo1.txt\", \"r\")\n",
    "print(f.read())"
   ]
  },
  {
   "cell_type": "code",
   "execution_count": 48,
   "id": "24a08bae",
   "metadata": {},
   "outputs": [],
   "source": [
    "listLines = []\n",
    "f = open(\"demo1.txt\", \"r\")\n",
    "for l in f:\n",
    "    listLines.append(l)\n",
    "f.close()\n",
    "listLines.insert(1,'some text in between')"
   ]
  },
  {
   "cell_type": "code",
   "execution_count": 49,
   "id": "0b13d820",
   "metadata": {},
   "outputs": [
    {
     "data": {
      "text/plain": [
       "['now all the previous text is gone\\n',\n",
       " 'some text in between',\n",
       " 'now it has some more text']"
      ]
     },
     "execution_count": 49,
     "metadata": {},
     "output_type": "execute_result"
    }
   ],
   "source": [
    "listLines"
   ]
  },
  {
   "cell_type": "code",
   "execution_count": 51,
   "id": "95682d7d",
   "metadata": {},
   "outputs": [],
   "source": [
    "listLines[1]+='\\n'"
   ]
  },
  {
   "cell_type": "code",
   "execution_count": 52,
   "id": "6a59c23f",
   "metadata": {},
   "outputs": [],
   "source": [
    "stringLines = \"\"\n",
    "for l in listLines:\n",
    "    stringLines+=l"
   ]
  },
  {
   "cell_type": "code",
   "execution_count": 53,
   "id": "9de4b671",
   "metadata": {},
   "outputs": [],
   "source": [
    "f= open(\"demo1.txt\", 'w')\n",
    "f.write(stringLines)\n",
    "f.close()"
   ]
  },
  {
   "cell_type": "markdown",
   "id": "1eef7fd5",
   "metadata": {},
   "source": [
    "---\n",
    "\n",
    "### CSV files\n",
    "\n",
    "CSV: Comma Seperated Values\n",
    "\n",
    "A common file format with a specific way of reading and writing to make data parsing easier\n",
    "\n",
    "https://docs.python.org/3/library/csv.html"
   ]
  },
  {
   "cell_type": "code",
   "execution_count": 54,
   "id": "4751a426",
   "metadata": {},
   "outputs": [],
   "source": [
    "import csv"
   ]
  },
  {
   "cell_type": "code",
   "execution_count": 55,
   "id": "69a8d84f",
   "metadata": {},
   "outputs": [
    {
     "name": "stdout",
     "output_type": "stream",
     "text": [
      "['some', 'values', 'separated', 'by', 'commas']\n",
      "['on', 'multiple', 'lines']\n"
     ]
    }
   ],
   "source": [
    "with open('csvDemo.csv') as csvfile:\n",
    "    reader = csv.reader(csvfile)\n",
    "    for r in reader:\n",
    "        print(r)\n",
    "        "
   ]
  },
  {
   "cell_type": "code",
   "execution_count": 56,
   "id": "a7b60eaf",
   "metadata": {},
   "outputs": [],
   "source": [
    "with open('csvDemo.csv', 'w') as csvfile:\n",
    "    writer = csv.writer(csvfile)\n",
    "    writer.writerow('spam')"
   ]
  },
  {
   "cell_type": "code",
   "execution_count": 57,
   "id": "30cda285",
   "metadata": {},
   "outputs": [
    {
     "data": {
      "text/plain": [
       "['spam', 'spam', 'spam', 'spam', 'spam']"
      ]
     },
     "execution_count": 57,
     "metadata": {},
     "output_type": "execute_result"
    }
   ],
   "source": [
    "['spam']*5"
   ]
  },
  {
   "cell_type": "code",
   "execution_count": 58,
   "id": "a5416357",
   "metadata": {},
   "outputs": [],
   "source": [
    "with open('csvDemo.csv', 'w') as csvfile:\n",
    "    writer = csv.writer(csvfile)\n",
    "    writer.writerow(['spam']*5)"
   ]
  },
  {
   "cell_type": "code",
   "execution_count": 59,
   "id": "59ace252",
   "metadata": {},
   "outputs": [],
   "source": [
    "with open('csvDemo.csv', 'w') as csvfile:\n",
    "    writer = csv.writer(csvfile)\n",
    "    for i in range(10):\n",
    "        row = []\n",
    "        for j in range(10):\n",
    "            row.append(i*j)\n",
    "        writer.writerow(row)"
   ]
  },
  {
   "cell_type": "code",
   "execution_count": 60,
   "id": "76c039aa",
   "metadata": {},
   "outputs": [
    {
     "name": "stdout",
     "output_type": "stream",
     "text": [
      "['0', '0', '0', '0', '0', '0', '0', '0', '0', '0']\n",
      "['0', '1', '2', '3', '4', '5', '6', '7', '8', '9']\n",
      "['0', '2', '4', '6', '8', '10', '12', '14', '16', '18']\n",
      "['0', '3', '6', '9', '12', '15', '18', '21', '24', '27']\n",
      "['0', '4', '8', '12', '16', '20', '24', '28', '32', '36']\n",
      "['0', '5', '10', '15', '20', '25', '30', '35', '40', '45']\n",
      "['0', '6', '12', '18', '24', '30', '36', '42', '48', '54']\n",
      "['0', '7', '14', '21', '28', '35', '42', '49', '56', '63']\n",
      "['0', '8', '16', '24', '32', '40', '48', '56', '64', '72']\n",
      "['0', '9', '18', '27', '36', '45', '54', '63', '72', '81']\n"
     ]
    }
   ],
   "source": [
    "with open('csvDemo.csv') as csvfile:\n",
    "    reader = csv.reader(csvfile)\n",
    "    for r in reader:\n",
    "        print(r)"
   ]
  },
  {
   "cell_type": "markdown",
   "id": "8a9b1abf",
   "metadata": {},
   "source": [
    "---\n",
    "\n",
    "### 2D Arrays\n"
   ]
  },
  {
   "cell_type": "code",
   "execution_count": 61,
   "id": "ede6d072",
   "metadata": {},
   "outputs": [
    {
     "name": "stdout",
     "output_type": "stream",
     "text": [
      "['0', '0', '0', '0', '0', '0', '0', '0', '0', '0']\n",
      "['0', '1', '2', '3', '4', '5', '6', '7', '8', '9']\n",
      "['0', '2', '4', '6', '8', '10', '12', '14', '16', '18']\n",
      "['0', '3', '6', '9', '12', '15', '18', '21', '24', '27']\n",
      "['0', '4', '8', '12', '16', '20', '24', '28', '32', '36']\n",
      "['0', '5', '10', '15', '20', '25', '30', '35', '40', '45']\n",
      "['0', '6', '12', '18', '24', '30', '36', '42', '48', '54']\n",
      "['0', '7', '14', '21', '28', '35', '42', '49', '56', '63']\n",
      "['0', '8', '16', '24', '32', '40', '48', '56', '64', '72']\n",
      "['0', '9', '18', '27', '36', '45', '54', '63', '72', '81']\n"
     ]
    }
   ],
   "source": [
    "with open('csvDemo.csv') as csvfile:\n",
    "    reader = csv.reader(csvfile)\n",
    "    for r in reader:\n",
    "        print(r)"
   ]
  },
  {
   "cell_type": "code",
   "execution_count": 62,
   "id": "2805285c",
   "metadata": {},
   "outputs": [],
   "source": [
    "numbers = []\n",
    "with open('csvDemo.csv') as csvfile:\n",
    "    reader = csv.reader(csvfile)\n",
    "    for r in reader:\n",
    "        numbers.append(r)"
   ]
  },
  {
   "cell_type": "code",
   "execution_count": 63,
   "id": "adb07fe5",
   "metadata": {},
   "outputs": [
    {
     "name": "stdout",
     "output_type": "stream",
     "text": [
      "[['0', '0', '0', '0', '0', '0', '0', '0', '0', '0'], ['0', '1', '2', '3', '4', '5', '6', '7', '8', '9'], ['0', '2', '4', '6', '8', '10', '12', '14', '16', '18'], ['0', '3', '6', '9', '12', '15', '18', '21', '24', '27'], ['0', '4', '8', '12', '16', '20', '24', '28', '32', '36'], ['0', '5', '10', '15', '20', '25', '30', '35', '40', '45'], ['0', '6', '12', '18', '24', '30', '36', '42', '48', '54'], ['0', '7', '14', '21', '28', '35', '42', '49', '56', '63'], ['0', '8', '16', '24', '32', '40', '48', '56', '64', '72'], ['0', '9', '18', '27', '36', '45', '54', '63', '72', '81']]\n"
     ]
    }
   ],
   "source": [
    "print(numbers)"
   ]
  },
  {
   "cell_type": "code",
   "execution_count": 64,
   "id": "ba24dd6f",
   "metadata": {},
   "outputs": [
    {
     "name": "stdout",
     "output_type": "stream",
     "text": [
      "['0', '0', '0', '0', '0', '0', '0', '0', '0', '0']\n",
      "['0', '1', '2', '3', '4', '5', '6', '7', '8', '9']\n",
      "['0', '2', '4', '6', '8', '10', '12', '14', '16', '18']\n",
      "['0', '3', '6', '9', '12', '15', '18', '21', '24', '27']\n",
      "['0', '4', '8', '12', '16', '20', '24', '28', '32', '36']\n",
      "['0', '5', '10', '15', '20', '25', '30', '35', '40', '45']\n",
      "['0', '6', '12', '18', '24', '30', '36', '42', '48', '54']\n",
      "['0', '7', '14', '21', '28', '35', '42', '49', '56', '63']\n",
      "['0', '8', '16', '24', '32', '40', '48', '56', '64', '72']\n",
      "['0', '9', '18', '27', '36', '45', '54', '63', '72', '81']\n"
     ]
    }
   ],
   "source": [
    "for r in numbers:\n",
    "    print(r)"
   ]
  },
  {
   "cell_type": "code",
   "execution_count": 65,
   "id": "819a3c92",
   "metadata": {},
   "outputs": [
    {
     "name": "stdout",
     "output_type": "stream",
     "text": [
      "0\n",
      "0\n",
      "0\n",
      "0\n",
      "0\n",
      "0\n",
      "0\n",
      "0\n",
      "0\n",
      "0\n",
      "0\n",
      "1\n",
      "2\n",
      "3\n",
      "4\n",
      "5\n",
      "6\n",
      "7\n",
      "8\n",
      "9\n",
      "0\n",
      "2\n",
      "4\n",
      "6\n",
      "8\n",
      "10\n",
      "12\n",
      "14\n",
      "16\n",
      "18\n",
      "0\n",
      "3\n",
      "6\n",
      "9\n",
      "12\n",
      "15\n",
      "18\n",
      "21\n",
      "24\n",
      "27\n",
      "0\n",
      "4\n",
      "8\n",
      "12\n",
      "16\n",
      "20\n",
      "24\n",
      "28\n",
      "32\n",
      "36\n",
      "0\n",
      "5\n",
      "10\n",
      "15\n",
      "20\n",
      "25\n",
      "30\n",
      "35\n",
      "40\n",
      "45\n",
      "0\n",
      "6\n",
      "12\n",
      "18\n",
      "24\n",
      "30\n",
      "36\n",
      "42\n",
      "48\n",
      "54\n",
      "0\n",
      "7\n",
      "14\n",
      "21\n",
      "28\n",
      "35\n",
      "42\n",
      "49\n",
      "56\n",
      "63\n",
      "0\n",
      "8\n",
      "16\n",
      "24\n",
      "32\n",
      "40\n",
      "48\n",
      "56\n",
      "64\n",
      "72\n",
      "0\n",
      "9\n",
      "18\n",
      "27\n",
      "36\n",
      "45\n",
      "54\n",
      "63\n",
      "72\n",
      "81\n"
     ]
    }
   ],
   "source": [
    "for r in numbers:\n",
    "    for n in r:\n",
    "        print(n)"
   ]
  },
  {
   "cell_type": "code",
   "execution_count": 68,
   "id": "f0896954",
   "metadata": {},
   "outputs": [
    {
     "name": "stdout",
     "output_type": "stream",
     "text": [
      "[[0, 0, 0, 0, 0, 0, 0, 0, 0, 0], [0, 1, 2, 3, 4, 5, 6, 7, 8, 9], [0, 2, 4, 6, 8, 10, 12, 14, 16, 18], [0, 3, 6, 9, 12, 15, 18, 21, 24, 27], [0, 4, 8, 12, 16, 20, 24, 28, 32, 36], [0, 5, 10, 15, 20, 25, 30, 35, 40, 45], [0, 6, 12, 18, 24, 30, 36, 42, 48, 54], [0, 7, 14, 21, 28, 35, 42, 49, 56, 63], [0, 8, 16, 24, 32, 40, 48, 56, 64, 72], [0, 9, 18, 27, 36, 45, 54, 63, 72, 81]]\n"
     ]
    }
   ],
   "source": [
    "for r in numbers:\n",
    "    for n in r:\n",
    "        n = int(n)\n",
    "print(numbers)"
   ]
  },
  {
   "cell_type": "code",
   "execution_count": 69,
   "id": "2e188cb2",
   "metadata": {},
   "outputs": [
    {
     "name": "stdout",
     "output_type": "stream",
     "text": [
      "['0', '0', '0', '0', '0', '0', '0', '0', '0', '0']\n",
      "['0', '1', '2', '3', '4', '5', '6', '7', '8', '9']\n",
      "['0', '2', '4', '6', '8', '10', '12', '14', '16', '18']\n",
      "['0', '3', '6', '9', '12', '15', '18', '21', '24', '27']\n",
      "['0', '4', '8', '12', '16', '20', '24', '28', '32', '36']\n",
      "['0', '5', '10', '15', '20', '25', '30', '35', '40', '45']\n",
      "['0', '6', '12', '18', '24', '30', '36', '42', '48', '54']\n",
      "['0', '7', '14', '21', '28', '35', '42', '49', '56', '63']\n",
      "['0', '8', '16', '24', '32', '40', '48', '56', '64', '72']\n",
      "['0', '9', '18', '27', '36', '45', '54', '63', '72', '81']\n"
     ]
    }
   ],
   "source": [
    "for i in range(len(numbers)):\n",
    "    print(numbers[i])"
   ]
  },
  {
   "cell_type": "code",
   "execution_count": 70,
   "id": "ae2abfda",
   "metadata": {},
   "outputs": [
    {
     "name": "stdout",
     "output_type": "stream",
     "text": [
      "[[0, 0, 0, 0, 0, 0, 0, 0, 0, 0], [0, 1, 2, 3, 4, 5, 6, 7, 8, 9], [0, 2, 4, 6, 8, 10, 12, 14, 16, 18], [0, 3, 6, 9, 12, 15, 18, 21, 24, 27], [0, 4, 8, 12, 16, 20, 24, 28, 32, 36], [0, 5, 10, 15, 20, 25, 30, 35, 40, 45], [0, 6, 12, 18, 24, 30, 36, 42, 48, 54], [0, 7, 14, 21, 28, 35, 42, 49, 56, 63], [0, 8, 16, 24, 32, 40, 48, 56, 64, 72], [0, 9, 18, 27, 36, 45, 54, 63, 72, 81]]\n"
     ]
    }
   ],
   "source": [
    "for i in range(len(numbers)):\n",
    "    for j in range(len(numbers[i])):\n",
    "        numbers[i][j] = int(numbers[i][j])\n",
    "print(numbers)"
   ]
  },
  {
   "cell_type": "markdown",
   "id": "ce57fe92",
   "metadata": {},
   "source": [
    "__We can also write Dictionaries__"
   ]
  },
  {
   "cell_type": "code",
   "execution_count": 71,
   "id": "7378ee17",
   "metadata": {},
   "outputs": [],
   "source": [
    "with open('names.csv', 'w', newline='') as csvfile:\n",
    "    fn = ['first_name', 'last_name']\n",
    "    writer = csv.DictWriter(csvfile, fieldnames=fn)\n",
    "\n",
    "    writer.writeheader()\n",
    "    writer.writerow({'first_name': 'Baked', 'last_name': 'Beans'})\n",
    "    writer.writerow({'first_name': 'Lovely', 'last_name': 'Spam'})\n",
    "    writer.writerow({'first_name': 'Wonderful', 'last_name': 'Spam'})"
   ]
  },
  {
   "cell_type": "code",
   "execution_count": 72,
   "id": "693df95f",
   "metadata": {},
   "outputs": [
    {
     "name": "stdout",
     "output_type": "stream",
     "text": [
      "['first_name', 'last_name']\n",
      "['Baked', 'Beans']\n",
      "['Lovely', 'Spam']\n",
      "['Wonderful', 'Spam']\n"
     ]
    }
   ],
   "source": [
    "with open('names.csv') as csvfile:\n",
    "    reader = csv.reader(csvfile)\n",
    "    for r in reader:\n",
    "        print(r)"
   ]
  },
  {
   "cell_type": "code",
   "execution_count": 73,
   "id": "988ec7eb",
   "metadata": {},
   "outputs": [
    {
     "name": "stdout",
     "output_type": "stream",
     "text": [
      "{'first_name': 'Baked', 'last_name': 'Beans'}\n",
      "{'first_name': 'Lovely', 'last_name': 'Spam'}\n",
      "{'first_name': 'Wonderful', 'last_name': 'Spam'}\n"
     ]
    }
   ],
   "source": [
    "with open('names.csv') as csvfile:\n",
    "    reader = csv.DictReader(csvfile)\n",
    "    for r in reader:\n",
    "        print(r)"
   ]
  },
  {
   "cell_type": "code",
   "execution_count": 74,
   "id": "9c2b4e34",
   "metadata": {},
   "outputs": [
    {
     "name": "stdout",
     "output_type": "stream",
     "text": [
      "Baked\n",
      "Lovely\n",
      "Wonderful\n"
     ]
    }
   ],
   "source": [
    "with open('names.csv') as csvfile:\n",
    "    reader = csv.DictReader(csvfile)\n",
    "    for r in reader:\n",
    "        print(r['first_name'])"
   ]
  },
  {
   "cell_type": "code",
   "execution_count": 75,
   "id": "83857698",
   "metadata": {},
   "outputs": [
    {
     "name": "stdout",
     "output_type": "stream",
     "text": [
      "Beans\n",
      "Spam\n",
      "Spam\n"
     ]
    }
   ],
   "source": [
    "with open('names.csv') as csvfile:\n",
    "    reader = csv.DictReader(csvfile)\n",
    "    for r in reader:\n",
    "        print(r['last_name'])"
   ]
  },
  {
   "cell_type": "markdown",
   "id": "cc6730da",
   "metadata": {},
   "source": [
    "__Adding some numerical data__"
   ]
  },
  {
   "cell_type": "code",
   "execution_count": 76,
   "id": "c751846e",
   "metadata": {},
   "outputs": [],
   "source": [
    "with open('names.csv', 'w', newline='') as csvfile:\n",
    "    fieldnames = ['first_name', 'last_name', 'born']\n",
    "    writer = csv.DictWriter(csvfile, fieldnames=fieldnames)\n",
    "\n",
    "    writer.writeheader()\n",
    "    writer.writerow({'first_name': 'Baked', 'last_name': 'Beans', 'born':2010})\n",
    "    writer.writerow({'first_name': 'Lovely', 'last_name': 'Spam', 'born':2011})\n",
    "    writer.writerow({'first_name': 'Wonderful', 'last_name': 'Spam', 'born':2012})"
   ]
  },
  {
   "cell_type": "code",
   "execution_count": 77,
   "id": "3e6dbac1",
   "metadata": {},
   "outputs": [
    {
     "name": "stdout",
     "output_type": "stream",
     "text": [
      "{'first_name': 'Baked', 'last_name': 'Beans', 'born': '2010'}\n",
      "{'first_name': 'Lovely', 'last_name': 'Spam', 'born': '2011'}\n",
      "{'first_name': 'Wonderful', 'last_name': 'Spam', 'born': '2012'}\n"
     ]
    }
   ],
   "source": [
    "with open('names.csv') as csvfile:\n",
    "    reader = csv.DictReader(csvfile)\n",
    "    for r in reader:\n",
    "        print(r)"
   ]
  },
  {
   "cell_type": "markdown",
   "id": "ff8ce2ca",
   "metadata": {},
   "source": [
    "__Save the content to a variable__"
   ]
  },
  {
   "cell_type": "code",
   "execution_count": 78,
   "id": "05b55031",
   "metadata": {},
   "outputs": [],
   "source": [
    "name_contents=[]\n",
    "with open('names.csv') as csvfile:\n",
    "    reader = csv.DictReader(csvfile)\n",
    "    for r in reader:\n",
    "        name_contents.append(r)"
   ]
  },
  {
   "cell_type": "code",
   "execution_count": 79,
   "id": "62aaecf5",
   "metadata": {},
   "outputs": [
    {
     "name": "stdout",
     "output_type": "stream",
     "text": [
      "[{'first_name': 'Baked', 'last_name': 'Beans', 'born': '2010'}, {'first_name': 'Lovely', 'last_name': 'Spam', 'born': '2011'}, {'first_name': 'Wonderful', 'last_name': 'Spam', 'born': '2012'}]\n"
     ]
    }
   ],
   "source": [
    "print(name_contents)"
   ]
  },
  {
   "cell_type": "code",
   "execution_count": 80,
   "id": "1a9c4c4f",
   "metadata": {},
   "outputs": [
    {
     "name": "stdout",
     "output_type": "stream",
     "text": [
      "2010\n",
      "2011\n",
      "2012\n"
     ]
    }
   ],
   "source": [
    "for n in name_contents:\n",
    "    print(n['born'])"
   ]
  },
  {
   "cell_type": "code",
   "execution_count": 81,
   "id": "36fd185e",
   "metadata": {},
   "outputs": [
    {
     "name": "stdout",
     "output_type": "stream",
     "text": [
      "<class 'str'>\n",
      "<class 'str'>\n",
      "<class 'str'>\n"
     ]
    }
   ],
   "source": [
    "for n in name_contents:\n",
    "    print(type(n['born']))"
   ]
  },
  {
   "cell_type": "code",
   "execution_count": 82,
   "id": "8668e083",
   "metadata": {},
   "outputs": [],
   "source": [
    "for n in name_contents:\n",
    "    n['born'] = int(n['born'])"
   ]
  },
  {
   "cell_type": "code",
   "execution_count": 83,
   "id": "b3b686bc",
   "metadata": {},
   "outputs": [
    {
     "name": "stdout",
     "output_type": "stream",
     "text": [
      "<class 'int'>\n",
      "<class 'int'>\n",
      "<class 'int'>\n"
     ]
    }
   ],
   "source": [
    "for n in name_contents:\n",
    "    print(type(n['born']))"
   ]
  },
  {
   "cell_type": "code",
   "execution_count": 84,
   "id": "0e63a015",
   "metadata": {},
   "outputs": [
    {
     "name": "stdout",
     "output_type": "stream",
     "text": [
      "[{'first_name': 'Baked', 'last_name': 'Beans', 'born': 2010}, {'first_name': 'Lovely', 'last_name': 'Spam', 'born': 2011}, {'first_name': 'Wonderful', 'last_name': 'Spam', 'born': 2012}]\n"
     ]
    }
   ],
   "source": [
    "print(name_contents)"
   ]
  },
  {
   "cell_type": "markdown",
   "id": "506d7354",
   "metadata": {},
   "source": [
    "---\n",
    "\n",
    "### Example with Netflix dataset\n"
   ]
  },
  {
   "cell_type": "code",
   "execution_count": 90,
   "id": "e147d51c",
   "metadata": {},
   "outputs": [
    {
     "name": "stdout",
     "output_type": "stream",
     "text": [
      "{'show_id': '81145628', 'type': 'Movie', 'title': 'Norm of the North: King Sized Adventure', 'director': 'Richard Finn, Tim Maltby', 'cast': 'Alan Marriott, Andrew Toth, Brian Dobson, Cole Howard, Jennifer Cameron, Jonathan Holmes, Lee Tockar, Lisa Durupt, Maya Kay, Michael Dobson', 'country': 'United States, India, South Korea, China', 'date_added': 'September 9, 2019', 'release_year': '2019', 'rating': 'TV-PG', 'duration': '90 min', 'listed_in': 'Children & Family Movies, Comedies', 'description': 'Before planning an awesome wedding for his grandfather, a polar bear king must take back a stolen artifact from an evil archaeologist first.'}\n"
     ]
    }
   ],
   "source": [
    "with open('netflix_titles.csv') as csvfile:\n",
    "    reader = csv.DictReader(csvfile)\n",
    "    print(reader.__next__())"
   ]
  },
  {
   "cell_type": "code",
   "execution_count": 91,
   "id": "11dbdcf7",
   "metadata": {},
   "outputs": [],
   "source": [
    "netflix_contents = []\n",
    "with open('netflix_titles.csv') as csvfile:\n",
    "    reader = csv.DictReader(csvfile)\n",
    "    for r in reader:\n",
    "        netflix_contents.append(r)"
   ]
  },
  {
   "cell_type": "code",
   "execution_count": 92,
   "id": "ade2c4be",
   "metadata": {
    "scrolled": true
   },
   "outputs": [
    {
     "data": {
      "text/plain": [
       "6234"
      ]
     },
     "execution_count": 92,
     "metadata": {},
     "output_type": "execute_result"
    }
   ],
   "source": [
    "len(netflix_contents)"
   ]
  },
  {
   "cell_type": "code",
   "execution_count": 93,
   "id": "e0f6a5b7",
   "metadata": {},
   "outputs": [],
   "source": [
    "for video in netflix_contents:\n",
    "    video['release_year'] = int(video['release_year']) "
   ]
  },
  {
   "cell_type": "code",
   "execution_count": 94,
   "id": "e6ed7502",
   "metadata": {
    "scrolled": true
   },
   "outputs": [
    {
     "name": "stdout",
     "output_type": "stream",
     "text": [
      "{'show_id': '81145628', 'type': 'Movie', 'title': 'Norm of the North: King Sized Adventure', 'director': 'Richard Finn, Tim Maltby', 'cast': 'Alan Marriott, Andrew Toth, Brian Dobson, Cole Howard, Jennifer Cameron, Jonathan Holmes, Lee Tockar, Lisa Durupt, Maya Kay, Michael Dobson', 'country': 'United States, India, South Korea, China', 'date_added': 'September 9, 2019', 'release_year': 2019, 'rating': 'TV-PG', 'duration': '90 min', 'listed_in': 'Children & Family Movies, Comedies', 'description': 'Before planning an awesome wedding for his grandfather, a polar bear king must take back a stolen artifact from an evil archaeologist first.'}\n"
     ]
    }
   ],
   "source": [
    "print(netflix_contents[0])"
   ]
  },
  {
   "cell_type": "markdown",
   "id": "020b2174",
   "metadata": {},
   "source": [
    "__Sort data on the content of an entry__"
   ]
  },
  {
   "cell_type": "code",
   "execution_count": 95,
   "id": "90d4a09e",
   "metadata": {},
   "outputs": [],
   "source": [
    "netflix_contents.sort(key= lambda x : x['release_year'])"
   ]
  },
  {
   "cell_type": "code",
   "execution_count": 96,
   "id": "baadb0a1",
   "metadata": {
    "scrolled": true
   },
   "outputs": [
    {
     "name": "stdout",
     "output_type": "stream",
     "text": [
      "{'show_id': '81030762', 'type': 'TV Show', 'title': 'Pioneers: First Women Filmmakers*', 'director': '', 'cast': '', 'country': '', 'date_added': 'December 30, 2018', 'release_year': 1925, 'rating': 'TV-PG', 'duration': '1 Season', 'listed_in': 'TV Shows', 'description': 'This collection restores films from women who tackled hot-button issues, transcended norms, and left a mark on the history of cinema and the industry.'}\n"
     ]
    }
   ],
   "source": [
    "print(netflix_contents[0])"
   ]
  },
  {
   "cell_type": "code",
   "execution_count": 97,
   "id": "744c21ab",
   "metadata": {},
   "outputs": [
    {
     "name": "stdout",
     "output_type": "stream",
     "text": [
      "{'show_id': '81044551', 'type': 'TV Show', 'title': 'The Circle', 'director': '', 'cast': 'Michelle Buteau', 'country': '', 'date_added': 'January 1, 2020', 'release_year': 2020, 'rating': 'TV-MA', 'duration': '1 Season', 'listed_in': 'Reality TV', 'description': 'Status and strategy collide in this social experiment and competition show where online players flirt, befriend and catfish their way toward $100,000.'}\n"
     ]
    }
   ],
   "source": [
    "print(netflix_contents[-1])"
   ]
  },
  {
   "cell_type": "markdown",
   "id": "2569fa04",
   "metadata": {},
   "source": [
    "__Show nr of entries that match a certain condition__"
   ]
  },
  {
   "cell_type": "code",
   "execution_count": 98,
   "id": "c1e46667",
   "metadata": {
    "scrolled": true
   },
   "outputs": [
    {
     "name": "stdout",
     "output_type": "stream",
     "text": [
      "4265\n"
     ]
    }
   ],
   "source": [
    "count = 0\n",
    "for video in netflix_contents:\n",
    "    if video['type']=='Movie':\n",
    "        count+=1\n",
    "print(count)"
   ]
  },
  {
   "cell_type": "markdown",
   "id": "c73e6c9d",
   "metadata": {},
   "source": [
    "__Show all titles that match a certain condition__"
   ]
  },
  {
   "cell_type": "code",
   "execution_count": 99,
   "id": "0a4ad3cf",
   "metadata": {},
   "outputs": [
    {
     "name": "stdout",
     "output_type": "stream",
     "text": [
      "Pulp Fiction\n",
      "Jackie Brown\n",
      "Kill Bill: Vol. 1\n",
      "Kill Bill: Vol. 2\n",
      "Inglourious Basterds\n",
      "The Hateful Eight\n",
      "The Hateful Eight: Extended Version\n"
     ]
    }
   ],
   "source": [
    "for video in netflix_contents:\n",
    "    if 'Quentin Tarantino' == video['director']:\n",
    "        print(video['title'])"
   ]
  },
  {
   "cell_type": "code",
   "execution_count": 100,
   "id": "331cee77",
   "metadata": {
    "scrolled": true
   },
   "outputs": [
    {
     "name": "stdout",
     "output_type": "stream",
     "text": [
      "A Stoning in Fulham County\n",
      "Ocean's Twelve\n",
      "Troy\n",
      "Babel\n",
      "Ocean's Thirteen\n",
      "Inglourious Basterds\n",
      "War Machine\n"
     ]
    }
   ],
   "source": [
    "for video in netflix_contents:\n",
    "    if 'Brad Pitt' in video['cast']:\n",
    "        print(video['title'])"
   ]
  },
  {
   "cell_type": "markdown",
   "id": "376e4a7a",
   "metadata": {},
   "source": [
    "__Show all titles that match multiple conditions__"
   ]
  },
  {
   "cell_type": "code",
   "execution_count": 101,
   "id": "bd142721",
   "metadata": {
    "scrolled": false
   },
   "outputs": [
    {
     "name": "stdout",
     "output_type": "stream",
     "text": [
      "Inglourious Basterds\n"
     ]
    }
   ],
   "source": [
    "for video in netflix_contents:\n",
    "    if 'Quentin Tarantino' == video['director'] and 'Brad Pitt' in video['cast']:\n",
    "        print(video['title'])"
   ]
  },
  {
   "cell_type": "markdown",
   "id": "ac3e7142",
   "metadata": {},
   "source": [
    "---\n",
    "\n",
    "### 2D arrays continued\n"
   ]
  },
  {
   "cell_type": "code",
   "execution_count": 104,
   "id": "f4b9cbce",
   "metadata": {},
   "outputs": [],
   "source": [
    "grid = []\n",
    "for i in range(3):\n",
    "    row = []\n",
    "    for j in range(3):\n",
    "        column = []\n",
    "        for k in range(3):\n",
    "            column.append(i+j+k)\n",
    "        row.append(column)\n",
    "    grid.append(row)"
   ]
  },
  {
   "cell_type": "code",
   "execution_count": 105,
   "id": "c562f65a",
   "metadata": {},
   "outputs": [
    {
     "name": "stdout",
     "output_type": "stream",
     "text": [
      "[[[0, 1, 2], [1, 2, 3], [2, 3, 4]], [[1, 2, 3], [2, 3, 4], [3, 4, 5]], [[2, 3, 4], [3, 4, 5], [4, 5, 6]]]\n"
     ]
    }
   ],
   "source": [
    "print(grid)"
   ]
  },
  {
   "cell_type": "code",
   "execution_count": 106,
   "id": "7e164798",
   "metadata": {},
   "outputs": [
    {
     "name": "stdout",
     "output_type": "stream",
     "text": [
      "[[0, 1, 2], [1, 2, 3], [2, 3, 4]]\n",
      "[[1, 2, 3], [2, 3, 4], [3, 4, 5]]\n",
      "[[2, 3, 4], [3, 4, 5], [4, 5, 6]]\n"
     ]
    }
   ],
   "source": [
    "for r in grid:\n",
    "    print(r)"
   ]
  },
  {
   "cell_type": "code",
   "execution_count": 107,
   "id": "2c2a5db9",
   "metadata": {},
   "outputs": [
    {
     "data": {
      "text/plain": [
       "[[0, 1, 2], [1, 2, 3], [2, 3, 4]]"
      ]
     },
     "execution_count": 107,
     "metadata": {},
     "output_type": "execute_result"
    }
   ],
   "source": [
    "grid[0]"
   ]
  },
  {
   "cell_type": "code",
   "execution_count": 112,
   "id": "95c48f99",
   "metadata": {},
   "outputs": [
    {
     "data": {
      "text/plain": [
       "[2, 3, 4]"
      ]
     },
     "execution_count": 112,
     "metadata": {},
     "output_type": "execute_result"
    }
   ],
   "source": [
    "grid[1][1]"
   ]
  },
  {
   "cell_type": "markdown",
   "id": "3dcd7a80",
   "metadata": {},
   "source": [
    "---\n",
    "\n",
    "## Read images\n"
   ]
  },
  {
   "cell_type": "code",
   "execution_count": 3,
   "id": "0df2e102",
   "metadata": {},
   "outputs": [],
   "source": [
    "from PIL import Image\n",
    "#https://pillow.readthedocs.io"
   ]
  },
  {
   "cell_type": "code",
   "execution_count": 4,
   "id": "7a0f2a96",
   "metadata": {},
   "outputs": [],
   "source": [
    "# Read image\n",
    "img = Image.open('MagrittePipe.jpg')\n",
    "\n",
    "# Output Images\n",
    "img.show()"
   ]
  },
  {
   "cell_type": "code",
   "execution_count": 5,
   "id": "55394b12",
   "metadata": {},
   "outputs": [
    {
     "data": {
      "image/png": "[encoded data removed]",
      "text/plain": [
       "<PIL.JpegImagePlugin.JpegImageFile image mode=RGB size=378x264>"
      ]
     },
     "metadata": {},
     "output_type": "display_data"
    }
   ],
   "source": [
    "# in jupyter:\n",
    "display(img)"
   ]
  },
  {
   "cell_type": "code",
   "execution_count": 6,
   "id": "3cf25242",
   "metadata": {},
   "outputs": [
    {
     "data": {
      "text/plain": [
       "(239, 220, 177)"
      ]
     },
     "execution_count": 6,
     "metadata": {},
     "output_type": "execute_result"
    }
   ],
   "source": [
    "img.getpixel((0,0))"
   ]
  },
  {
   "cell_type": "code",
   "execution_count": 7,
   "id": "08e16ab4",
   "metadata": {},
   "outputs": [
    {
     "name": "stdout",
     "output_type": "stream",
     "text": [
      "(378, 264)\n"
     ]
    }
   ],
   "source": [
    "size = img.size\n",
    "print(size)"
   ]
  },
  {
   "cell_type": "code",
   "execution_count": 8,
   "id": "f0c794db",
   "metadata": {},
   "outputs": [
    {
     "data": {
      "image/png": "[encoded data removed]",
      "text/plain": [
       "<PIL.JpegImagePlugin.JpegImageFile image mode=RGB size=378x264>"
      ]
     },
     "metadata": {},
     "output_type": "display_data"
    }
   ],
   "source": [
    "for i in range(size[0]):\n",
    "    for j in range(size[1]):\n",
    "        pixel = img.getpixel((i,j))\n",
    "        tone = int((pixel[0]+pixel[1]+pixel[2])/3)\n",
    "        img.putpixel((i,j),(tone,tone,tone))\n",
    "display(img)"
   ]
  },
  {
   "cell_type": "code",
   "execution_count": 9,
   "id": "c9b167b1",
   "metadata": {},
   "outputs": [
    {
     "data": {
      "image/png": "[encoded data removed]",
      "text/plain": [
       "<PIL.Image.Image image mode=RGB size=75x52>"
      ]
     },
     "metadata": {},
     "output_type": "display_data"
    }
   ],
   "source": [
    "img = img.resize((int(img.size[0]/5), int(img.size[1]/5)))\n",
    "display(img)"
   ]
  },
  {
   "cell_type": "code",
   "execution_count": 10,
   "id": "35210efc",
   "metadata": {},
   "outputs": [
    {
     "name": "stdout",
     "output_type": "stream",
     "text": [
      "(75, 52)\n"
     ]
    }
   ],
   "source": [
    "size = img.size\n",
    "print(size)"
   ]
  },
  {
   "cell_type": "code",
   "execution_count": 11,
   "id": "7bc4d4d8",
   "metadata": {},
   "outputs": [
    {
     "name": "stdout",
     "output_type": "stream",
     "text": [
      "                                                                           \n",
      "                                                                           \n",
      "                                                                           \n",
      "                                                                           \n",
      "                                                                           \n",
      "                                                                           \n",
      "                                                                           \n",
      "           ...........                                                     \n",
      "          ..............                                   ............    \n",
      "       ...  .........+++.                            ..++++++++++++++++    \n",
      "       ..   ..+++++++++++                         .++.............+++++.   \n",
      "       +.   ..+++++++++++                       .+..   ..+++++++.......    \n",
      "       +.   ..+++++++++++                     .+.   .+++++++.              \n",
      "      .+.   ..+++++++++++                   .+.   .++++++.                 \n",
      "      .+.   ..+++++++++++                  .+.  .++++++.                   \n",
      "      .+.  ...+++++++++++.               ..    .+++++.                     \n",
      "      .+.  ...+++++++++++.              ...   ++++++.                      \n",
      "      .+.  ...+++++++++++.             ..   ..+++++                        \n",
      "      .+.  ...+++++++++++.           ...   ...++++                         \n",
      "      .+.  ...+++++++++++.          ...  ..++++++                          \n",
      "      .+.  ...+++++++++++         ....  ..++++++                           \n",
      "       +.   ..+++++++++++        ....  ..++++++                            \n",
      "       +.   ..+++++++++++      ....   ..++++++                             \n",
      "       +..  ..+++++++++++    ....    .+++++++                              \n",
      "       ...  ..++++++++++++......   ..+++++++                               \n",
      "       .+.....++++++++++++....   ...+++++++                                \n",
      "       .+.....++++++++++++..   ...++++++++                                 \n",
      "        +.....++++++++++++......+++++++++                                  \n",
      "        ++...+++++++++++++++++++++++++++                                   \n",
      "        .+++++++++++++++++++++++++++++.                                    \n",
      "         .+++++++++++++++++++++++++++.                                     \n",
      "          ++++++++++++++++++++++++++.                                      \n",
      "          .+++++++++++++++++++++++.                                        \n",
      "           .++++++++++++++++++++.                                          \n",
      "             .++++++++++++++++.                                            \n",
      "               ..++++++++++.                                               \n",
      "                                                                           \n",
      "                                                                           \n",
      "                                                                           \n",
      "                                                                           \n",
      "                                                                           \n",
      "                                                                           \n",
      "                                                                           \n",
      "                                                                           \n",
      "           .                    .   .           ..     .    .              \n",
      "              ..       .   .. ..   . . .  .     .  .     ...   .           \n",
      "          .. ...  .        .  ..     . .      .            .               \n",
      "                                                                           \n",
      "                                                                           \n",
      "                                                                           \n",
      "                                                                           \n",
      "                                                                           \n"
     ]
    }
   ],
   "source": [
    "imPoints = []\n",
    "for i in range(size[1]):\n",
    "    row = ''\n",
    "    for j in range(size[0]):\n",
    "        pixel = img.getpixel((j,i))\n",
    "        tone = pixel[0]/255\n",
    "        if tone < 0.3:\n",
    "            row+='+'\n",
    "        elif tone < 0.6:\n",
    "            row+='.'\n",
    "        else:\n",
    "            row+=' '\n",
    "    imPoints.append(row)\n",
    "\n",
    "for r in imPoints:\n",
    "    print(r)"
   ]
  },
  {
   "cell_type": "markdown",
   "id": "edeeae51",
   "metadata": {},
   "source": [
    "---\n",
    "\n",
    "## Probability and visualising data\n"
   ]
  },
  {
   "cell_type": "code",
   "execution_count": 12,
   "id": "d980c5dd",
   "metadata": {},
   "outputs": [],
   "source": [
    "import matplotlib.pyplot as plt\n",
    "import random"
   ]
  },
  {
   "cell_type": "code",
   "execution_count": 14,
   "id": "dae0bed8",
   "metadata": {},
   "outputs": [
    {
     "data": {
      "text/plain": [
       "0"
      ]
     },
     "execution_count": 14,
     "metadata": {},
     "output_type": "execute_result"
    }
   ],
   "source": [
    "random.randint(0,1)"
   ]
  },
  {
   "cell_type": "code",
   "execution_count": 21,
   "id": "37e15e98",
   "metadata": {},
   "outputs": [],
   "source": [
    "coin_flips = []\n",
    "for i in range(1000):\n",
    "    coin_flips.append(random.randint(0,1))"
   ]
  },
  {
   "cell_type": "code",
   "execution_count": 22,
   "id": "8e0e4e6e",
   "metadata": {},
   "outputs": [
    {
     "name": "stdout",
     "output_type": "stream",
     "text": [
      "[1, 1, 0, 1, 1, 0, 0, 1, 1, 1, 0, 1, 0, 1, 0, 0, 0, 1, 0, 0, 1, 1, 1, 1, 0, 0, 1, 0, 0, 0, 0, 1, 1, 0, 0, 0, 1, 1, 1, 0, 1, 0, 1, 0, 0, 0, 0, 1, 1, 0, 0, 0, 0, 0, 0, 1, 1, 1, 1, 0, 0, 0, 1, 0, 0, 1, 0, 1, 0, 1, 1, 0, 0, 0, 0, 0, 1, 1, 1, 0, 1, 0, 1, 1, 0, 0, 0, 0, 1, 0, 1, 0, 1, 1, 1, 1, 0, 0, 0, 0, 1, 1, 0, 1, 0, 0, 0, 1, 1, 1, 1, 0, 1, 0, 1, 1, 1, 1, 1, 1, 0, 0, 0, 0, 1, 1, 0, 0, 1, 1, 1, 1, 0, 0, 1, 1, 1, 0, 1, 1, 0, 1, 1, 0, 1, 1, 1, 1, 0, 1, 1, 0, 0, 1, 0, 1, 1, 0, 1, 0, 1, 0, 0, 1, 1, 0, 1, 0, 1, 1, 1, 1, 1, 0, 0, 0, 1, 1, 1, 0, 0, 1, 0, 1, 0, 1, 0, 1, 1, 1, 0, 0, 1, 1, 1, 1, 0, 0, 1, 1, 0, 1, 1, 0, 1, 0, 1, 1, 0, 0, 0, 1, 0, 0, 1, 0, 0, 1, 1, 0, 1, 1, 1, 1, 1, 1, 0, 1, 1, 0, 0, 1, 0, 0, 1, 0, 0, 1, 0, 0, 1, 0, 1, 0, 0, 0, 0, 1, 0, 1, 1, 0, 1, 0, 1, 1, 0, 0, 0, 1, 1, 0, 1, 1, 1, 1, 1, 1, 1, 1, 1, 1, 0, 1, 1, 1, 1, 1, 0, 1, 1, 1, 1, 0, 0, 0, 0, 1, 0, 1, 1, 0, 1, 1, 1, 1, 1, 0, 0, 1, 0, 0, 0, 1, 1, 0, 1, 1, 0, 0, 0, 0, 0, 0, 0, 1, 0, 1, 1, 0, 0, 0, 0, 0, 0, 0, 1, 1, 0, 1, 1, 1, 0, 0, 1, 0, 0, 0, 0, 0, 0, 0, 0, 0, 0, 1, 0, 1, 0, 0, 1, 1, 0, 0, 1, 0, 1, 1, 0, 1, 0, 1, 1, 0, 1, 1, 1, 0, 1, 0, 1, 1, 1, 1, 0, 1, 0, 1, 1, 0, 1, 1, 1, 1, 1, 0, 0, 1, 0, 0, 0, 0, 0, 0, 1, 1, 1, 1, 1, 0, 0, 0, 0, 0, 1, 1, 0, 0, 1, 0, 0, 1, 0, 1, 1, 1, 1, 1, 0, 0, 0, 1, 1, 0, 1, 0, 1, 0, 1, 0, 0, 1, 0, 0, 1, 1, 0, 0, 0, 1, 0, 0, 1, 1, 0, 1, 0, 1, 0, 0, 1, 1, 0, 1, 1, 1, 0, 0, 0, 0, 0, 0, 0, 1, 0, 1, 1, 0, 0, 0, 1, 1, 1, 1, 1, 0, 1, 1, 1, 1, 1, 1, 0, 1, 0, 1, 0, 0, 0, 0, 1, 0, 1, 0, 0, 0, 1, 0, 0, 1, 0, 1, 0, 1, 0, 0, 0, 0, 1, 1, 1, 0, 0, 0, 0, 1, 1, 1, 0, 0, 0, 1, 1, 0, 0, 0, 1, 0, 0, 0, 0, 1, 1, 1, 0, 1, 1, 1, 1, 0, 1, 0, 0, 0, 1, 1, 0, 1, 0, 0, 1, 0, 0, 0, 1, 1, 0, 0, 0, 1, 1, 0, 1, 0, 1, 1, 1, 0, 1, 1, 0, 0, 1, 1, 0, 1, 0, 0, 0, 1, 0, 0, 0, 0, 0, 0, 0, 0, 1, 1, 1, 0, 1, 0, 1, 0, 1, 0, 0, 0, 0, 1, 0, 0, 0, 0, 1, 1, 0, 0, 1, 0, 0, 1, 0, 0, 0, 0, 0, 1, 0, 1, 0, 1, 1, 0, 0, 1, 1, 1, 0, 0, 1, 0, 0, 1, 1, 0, 1, 0, 1, 0, 0, 1, 1, 0, 1, 0, 0, 1, 1, 1, 0, 0, 1, 1, 1, 1, 1, 0, 0, 0, 0, 0, 1, 1, 1, 1, 0, 1, 0, 0, 1, 0, 0, 0, 1, 1, 0, 0, 0, 1, 1, 0, 0, 0, 0, 1, 0, 0, 0, 0, 1, 0, 0, 0, 1, 1, 0, 1, 0, 1, 0, 1, 0, 0, 0, 0, 1, 0, 1, 1, 1, 0, 0, 0, 0, 0, 0, 1, 0, 0, 0, 0, 0, 0, 1, 0, 0, 1, 0, 1, 1, 0, 1, 0, 0, 0, 0, 0, 1, 1, 1, 1, 1, 1, 1, 0, 0, 1, 0, 1, 0, 1, 0, 1, 0, 0, 1, 0, 0, 1, 0, 1, 1, 1, 1, 1, 0, 0, 0, 0, 1, 0, 0, 1, 1, 0, 0, 0, 1, 0, 0, 1, 0, 1, 1, 1, 1, 0, 1, 0, 1, 0, 0, 1, 0, 0, 1, 1, 0, 0, 0, 0, 0, 1, 1, 0, 1, 1, 0, 1, 1, 0, 1, 1, 0, 0, 1, 1, 1, 1, 0, 1, 1, 1, 1, 1, 0, 1, 1, 0, 0, 1, 1, 1, 0, 0, 1, 0, 0, 0, 1, 0, 1, 0, 1, 1, 0, 0, 1, 1, 1, 0, 0, 1, 1, 0, 1, 1, 1, 0, 1, 0, 1, 1, 0, 1, 0, 0, 0, 0, 0, 0, 1, 1, 0, 1, 0, 0, 0, 1, 0, 1, 1, 1, 0, 0, 1, 1, 1, 1, 0, 1, 0, 0, 1, 0, 1, 0, 0, 1, 0, 0, 0, 1, 0, 0, 0, 0, 0, 1, 0, 1, 1, 0, 1, 1, 1, 1, 0, 1, 1, 1, 1, 1, 0, 1, 1, 1, 0, 1, 1, 1, 1, 0, 0, 0, 1, 0, 1, 1, 0, 1, 1, 0, 0, 1, 0, 0, 0, 1, 1, 1, 0, 0, 1, 0, 0, 0, 0, 1, 0, 0, 1, 1, 1, 1, 1, 1, 1, 1, 1, 1, 1, 0, 0, 0, 1, 0, 0, 1, 0, 0, 0, 0, 0, 1, 0, 0, 0, 1, 0, 0, 1, 0, 1, 1, 0, 0]\n"
     ]
    }
   ],
   "source": [
    "print(coin_flips)"
   ]
  },
  {
   "cell_type": "code",
   "execution_count": 23,
   "id": "80329ae0",
   "metadata": {},
   "outputs": [
    {
     "data": {
      "image/png": "[encoded data removed]",
      "text/plain": [
       "<Figure size 432x288 with 1 Axes>"
      ]
     },
     "metadata": {
      "needs_background": "light"
     },
     "output_type": "display_data"
    }
   ],
   "source": [
    "fig, ax = plt.subplots()\n",
    "\n",
    "ax.plot(range(len(coin_flips)), coin_flips)\n",
    "\n",
    "plt.show()"
   ]
  },
  {
   "cell_type": "code",
   "execution_count": 24,
   "id": "54f3b4c3",
   "metadata": {},
   "outputs": [],
   "source": [
    "coin_average = []\n",
    "total = 0\n",
    "for i in range(len(coin_flips)):\n",
    "    total += coin_flips[i]\n",
    "    coin_average.append(total/(i+1))"
   ]
  },
  {
   "cell_type": "code",
   "execution_count": 25,
   "id": "84a82b4b",
   "metadata": {},
   "outputs": [
    {
     "name": "stdout",
     "output_type": "stream",
     "text": [
      "[1.0, 1.0, 0.6666666666666666, 0.75, 0.8, 0.6666666666666666, 0.5714285714285714, 0.625, 0.6666666666666666, 0.7, 0.6363636363636364, 0.6666666666666666, 0.6153846153846154, 0.6428571428571429, 0.6, 0.5625, 0.5294117647058824, 0.5555555555555556, 0.5263157894736842, 0.5, 0.5238095238095238, 0.5454545454545454, 0.5652173913043478, 0.5833333333333334, 0.56, 0.5384615384615384, 0.5555555555555556, 0.5357142857142857, 0.5172413793103449, 0.5, 0.4838709677419355, 0.5, 0.5151515151515151, 0.5, 0.4857142857142857, 0.4722222222222222, 0.4864864864864865, 0.5, 0.5128205128205128, 0.5, 0.5121951219512195, 0.5, 0.5116279069767442, 0.5, 0.4888888888888889, 0.4782608695652174, 0.46808510638297873, 0.4791666666666667, 0.4897959183673469, 0.48, 0.47058823529411764, 0.46153846153846156, 0.4528301886792453, 0.4444444444444444, 0.43636363636363634, 0.44642857142857145, 0.45614035087719296, 0.46551724137931033, 0.4745762711864407, 0.4666666666666667, 0.45901639344262296, 0.45161290322580644, 0.4603174603174603, 0.453125, 0.4461538461538462, 0.45454545454545453, 0.44776119402985076, 0.45588235294117646, 0.4492753623188406, 0.45714285714285713, 0.4647887323943662, 0.4583333333333333, 0.4520547945205479, 0.44594594594594594, 0.44, 0.4342105263157895, 0.44155844155844154, 0.44871794871794873, 0.45569620253164556, 0.45, 0.4567901234567901, 0.45121951219512196, 0.4578313253012048, 0.4642857142857143, 0.4588235294117647, 0.45348837209302323, 0.4482758620689655, 0.4431818181818182, 0.449438202247191, 0.4444444444444444, 0.45054945054945056, 0.44565217391304346, 0.45161290322580644, 0.4574468085106383, 0.4631578947368421, 0.46875, 0.4639175257731959, 0.45918367346938777, 0.45454545454545453, 0.45, 0.45544554455445546, 0.46078431372549017, 0.4563106796116505, 0.46153846153846156, 0.45714285714285713, 0.4528301886792453, 0.4485981308411215, 0.4537037037037037, 0.45871559633027525, 0.4636363636363636, 0.46846846846846846, 0.4642857142857143, 0.4690265486725664, 0.4649122807017544, 0.46956521739130436, 0.47413793103448276, 0.47863247863247865, 0.4830508474576271, 0.48739495798319327, 0.49166666666666664, 0.48760330578512395, 0.48360655737704916, 0.4796747967479675, 0.47580645161290325, 0.48, 0.48412698412698413, 0.48031496062992124, 0.4765625, 0.4806201550387597, 0.4846153846153846, 0.48854961832061067, 0.49242424242424243, 0.48872180451127817, 0.48507462686567165, 0.4888888888888889, 0.49264705882352944, 0.49635036496350365, 0.4927536231884058, 0.49640287769784175, 0.5, 0.49645390070921985, 0.5, 0.5034965034965035, 0.5, 0.503448275862069, 0.5068493150684932, 0.5102040816326531, 0.5135135135135135, 0.5100671140939598, 0.5133333333333333, 0.5165562913907285, 0.5131578947368421, 0.5098039215686274, 0.512987012987013, 0.5096774193548387, 0.5128205128205128, 0.5159235668789809, 0.5126582278481012, 0.5157232704402516, 0.5125, 0.515527950310559, 0.5123456790123457, 0.50920245398773, 0.5121951219512195, 0.5151515151515151, 0.5120481927710844, 0.5149700598802395, 0.5119047619047619, 0.514792899408284, 0.5176470588235295, 0.52046783625731, 0.5232558139534884, 0.5260115606936416, 0.5229885057471264, 0.52, 0.5170454545454546, 0.519774011299435, 0.5224719101123596, 0.5251396648044693, 0.5222222222222223, 0.5193370165745856, 0.521978021978022, 0.5191256830601093, 0.5217391304347826, 0.518918918918919, 0.521505376344086, 0.5187165775401069, 0.5212765957446809, 0.5238095238095238, 0.5263157894736842, 0.5235602094240838, 0.5208333333333334, 0.5233160621761658, 0.5257731958762887, 0.5282051282051282, 0.5306122448979592, 0.5279187817258884, 0.5252525252525253, 0.5276381909547738, 0.53, 0.527363184079602, 0.5297029702970297, 0.5320197044334976, 0.5294117647058824, 0.5317073170731708, 0.529126213592233, 0.5314009661835749, 0.5336538461538461, 0.5311004784688995, 0.5285714285714286, 0.5260663507109005, 0.5283018867924528, 0.5258215962441315, 0.5233644859813084, 0.5255813953488372, 0.5231481481481481, 0.5207373271889401, 0.5229357798165137, 0.5251141552511416, 0.5227272727272727, 0.5248868778280543, 0.527027027027027, 0.5291479820627802, 0.53125, 0.5333333333333333, 0.5353982300884956, 0.5330396475770925, 0.5350877192982456, 0.537117903930131, 0.5347826086956522, 0.5324675324675324, 0.5344827586206896, 0.5321888412017167, 0.5299145299145299, 0.5319148936170213, 0.5296610169491526, 0.5274261603375527, 0.5294117647058824, 0.5271966527196653, 0.525, 0.5269709543568465, 0.5247933884297521, 0.5267489711934157, 0.5245901639344263, 0.5224489795918368, 0.5203252032520326, 0.5182186234817814, 0.5201612903225806, 0.5180722891566265, 0.52, 0.5219123505976095, 0.5198412698412699, 0.5217391304347826, 0.5196850393700787, 0.5215686274509804, 0.5234375, 0.5214007782101168, 0.5193798449612403, 0.5173745173745173, 0.5192307692307693, 0.5210727969348659, 0.5190839694656488, 0.5209125475285171, 0.5227272727272727, 0.5245283018867924, 0.5263157894736842, 0.5280898876404494, 0.5298507462686567, 0.5315985130111525, 0.5333333333333333, 0.5350553505535055, 0.5367647058823529, 0.5347985347985348, 0.5364963503649635, 0.5381818181818182, 0.5398550724637681, 0.5415162454873647, 0.5431654676258992, 0.5412186379928315, 0.5428571428571428, 0.5444839857651246, 0.5460992907801419, 0.5477031802120141, 0.545774647887324, 0.543859649122807, 0.541958041958042, 0.5400696864111498, 0.5416666666666666, 0.5397923875432526, 0.5413793103448276, 0.5429553264604811, 0.541095890410959, 0.5426621160409556, 0.54421768707483, 0.5457627118644067, 0.5472972972972973, 0.5488215488215489, 0.5469798657718121, 0.5451505016722408, 0.5466666666666666, 0.5448504983388704, 0.543046357615894, 0.5412541254125413, 0.5427631578947368, 0.5442622950819672, 0.5424836601307189, 0.5439739413680782, 0.5454545454545454, 0.5436893203883495, 0.5419354838709678, 0.5401929260450161, 0.5384615384615384, 0.536741214057508, 0.535031847133758, 0.5333333333333333, 0.5348101265822784, 0.5331230283911672, 0.5345911949685535, 0.5360501567398119, 0.534375, 0.5327102803738317, 0.531055900621118, 0.5294117647058824, 0.5277777777777778, 0.5261538461538462, 0.5245398773006135, 0.5259938837920489, 0.5274390243902439, 0.5258358662613982, 0.5272727272727272, 0.5287009063444109, 0.5301204819277109, 0.5285285285285285, 0.5269461077844312, 0.5283582089552239, 0.5267857142857143, 0.5252225519287834, 0.5236686390532544, 0.5221238938053098, 0.5205882352941177, 0.5190615835777126, 0.5175438596491229, 0.5160349854227405, 0.5145348837209303, 0.5130434782608696, 0.5144508670520231, 0.5129682997118156, 0.514367816091954, 0.5128939828080229, 0.5114285714285715, 0.5128205128205128, 0.5142045454545454, 0.5127478753541076, 0.5112994350282486, 0.5126760563380282, 0.5112359550561798, 0.5126050420168067, 0.5139664804469274, 0.5125348189415042, 0.5138888888888888, 0.5124653739612188, 0.5138121546961326, 0.5151515151515151, 0.5137362637362637, 0.5150684931506849, 0.5163934426229508, 0.5177111716621253, 0.5163043478260869, 0.5176151761517616, 0.5162162162162162, 0.5175202156334232, 0.5188172043010753, 0.5201072386058981, 0.5213903743315508, 0.52, 0.5212765957446809, 0.519893899204244, 0.5211640211640212, 0.5224274406332454, 0.5210526315789473, 0.5223097112860893, 0.5235602094240838, 0.5248041775456919, 0.5260416666666666, 0.5272727272727272, 0.5259067357512953, 0.524547803617571, 0.5257731958762887, 0.5244215938303342, 0.5230769230769231, 0.5217391304347826, 0.5204081632653061, 0.5190839694656488, 0.5177664974619289, 0.5189873417721519, 0.5202020202020202, 0.5214105793450882, 0.5226130653266332, 0.5238095238095238, 0.5225, 0.5211970074812967, 0.5199004975124378, 0.5186104218362283, 0.5173267326732673, 0.5185185185185185, 0.5197044334975369, 0.5184275184275184, 0.5171568627450981, 0.5183374083129584, 0.5170731707317073, 0.5158150851581509, 0.5169902912621359, 0.5157384987893463, 0.5169082125603864, 0.5180722891566265, 0.5192307692307693, 0.5203836930455635, 0.5215311004784688, 0.5202863961813843, 0.5190476190476191, 0.517814726840855, 0.518957345971564, 0.5200945626477541, 0.5188679245283019, 0.52, 0.5187793427230047, 0.5199063231850117, 0.5186915887850467, 0.5198135198135199, 0.5186046511627908, 0.5174013921113689, 0.5185185185185185, 0.5173210161662818, 0.5161290322580645, 0.5172413793103449, 0.518348623853211, 0.517162471395881, 0.5159817351598174, 0.5148063781321185, 0.5159090909090909, 0.5147392290249433, 0.5135746606334841, 0.5146726862302483, 0.5157657657657657, 0.5146067415730337, 0.515695067264574, 0.5145413870246085, 0.515625, 0.5144766146993318, 0.5133333333333333, 0.5144124168514412, 0.5154867256637168, 0.5143487858719646, 0.5154185022026432, 0.5164835164835165, 0.5175438596491229, 0.5164113785557987, 0.5152838427947598, 0.514161220043573, 0.5130434782608696, 0.5119305856832972, 0.5108225108225108, 0.509719222462203, 0.5107758620689655, 0.5096774193548387, 0.5107296137339056, 0.5117773019271948, 0.5106837606837606, 0.509594882729211, 0.5085106382978724, 0.5095541401273885, 0.510593220338983, 0.5116279069767442, 0.5126582278481012, 0.5136842105263157, 0.5126050420168067, 0.5136268343815513, 0.5146443514644351, 0.5156576200417536, 0.5166666666666667, 0.5176715176715176, 0.5186721991701245, 0.5175983436853002, 0.518595041322314, 0.5175257731958763, 0.5185185185185185, 0.5174537987679672, 0.5163934426229508, 0.5153374233128835, 0.5142857142857142, 0.515274949083503, 0.5142276422764228, 0.5152129817444219, 0.5141700404858299, 0.5131313131313131, 0.5120967741935484, 0.5130784708249497, 0.5120481927710844, 0.5110220440881763, 0.512, 0.5109780439121756, 0.5119521912350598, 0.510934393638171, 0.5119047619047619, 0.5108910891089109, 0.5098814229249012, 0.5088757396449705, 0.5078740157480315, 0.5088408644400786, 0.5098039215686274, 0.5107632093933464, 0.509765625, 0.5087719298245614, 0.5077821011673151, 0.5067961165048543, 0.5077519379844961, 0.5087040618955513, 0.5096525096525096, 0.5086705202312138, 0.5076923076923077, 0.5067178502879078, 0.5076628352490421, 0.5086042065009561, 0.5076335877862596, 0.5066666666666667, 0.5057034220532319, 0.5066413662239089, 0.5056818181818182, 0.504725897920605, 0.5037735849056604, 0.5028248587570622, 0.5037593984962406, 0.5046904315196998, 0.5056179775280899, 0.5046728971962616, 0.5055970149253731, 0.5065176908752328, 0.5074349442379182, 0.5083487940630798, 0.5074074074074074, 0.5083179297597042, 0.507380073800738, 0.5064456721915286, 0.5055147058823529, 0.5064220183486239, 0.5073260073260073, 0.506398537477148, 0.5072992700729927, 0.5063752276867031, 0.5054545454545455, 0.5063520871143375, 0.5054347826086957, 0.5045207956600362, 0.5036101083032491, 0.5045045045045045, 0.5053956834532374, 0.5044883303411131, 0.503584229390681, 0.5026833631484794, 0.5035714285714286, 0.5044563279857398, 0.50355871886121, 0.5044404973357016, 0.5035460992907801, 0.504424778761062, 0.5053003533568905, 0.5061728395061729, 0.5052816901408451, 0.5061511423550088, 0.5070175438596491, 0.5061295971978984, 0.5052447552447552, 0.506108202443281, 0.5069686411149826, 0.5060869565217392, 0.5069444444444444, 0.5060658578856152, 0.5051903114186851, 0.5043177892918825, 0.5051724137931034, 0.504302925989673, 0.5034364261168385, 0.5025728987993139, 0.5017123287671232, 0.5008547008547009, 0.5, 0.4991482112436116, 0.49829931972789115, 0.499151103565365, 0.5, 0.5008460236886633, 0.5, 0.5008431703204047, 0.5, 0.5008403361344538, 0.5, 0.5008375209380235, 0.5, 0.4991652754590985, 0.49833333333333335, 0.49750415973377704, 0.4983388704318937, 0.4975124378109453, 0.4966887417218543, 0.49586776859504134, 0.49504950495049505, 0.4958813838550247, 0.4967105263157895, 0.49589490968801314, 0.49508196721311476, 0.4959083469721768, 0.4950980392156863, 0.49429037520391517, 0.495114006514658, 0.4943089430894309, 0.4935064935064935, 0.49270664505672607, 0.4919093851132686, 0.4911147011308562, 0.49193548387096775, 0.49114331723027377, 0.4919614147909968, 0.4911717495987159, 0.49198717948717946, 0.4928, 0.49201277955271566, 0.49122807017543857, 0.49203821656050956, 0.492845786963434, 0.4936507936507937, 0.4928684627575277, 0.4920886075949367, 0.4928909952606635, 0.4921135646687697, 0.49133858267716535, 0.4921383647798742, 0.49293563579277866, 0.49216300940438873, 0.49295774647887325, 0.4921875, 0.49297971918876754, 0.49221183800623053, 0.49144634525660963, 0.4922360248447205, 0.4930232558139535, 0.49226006191950467, 0.49304482225656876, 0.49228395061728397, 0.4915254237288136, 0.49230769230769234, 0.4930875576036866, 0.4938650306748466, 0.49310872894333846, 0.4923547400611621, 0.49312977099236643, 0.49390243902439024, 0.4946727549467275, 0.49544072948328266, 0.496206373292868, 0.4954545454545455, 0.4947049924357035, 0.49395770392749244, 0.49321266968325794, 0.4924698795180723, 0.4932330827067669, 0.493993993993994, 0.4947526236881559, 0.49550898203592814, 0.4947683109118087, 0.4955223880597015, 0.4947839046199702, 0.49404761904761907, 0.4947994056463596, 0.4940652818991098, 0.49333333333333335, 0.492603550295858, 0.4933530280649926, 0.4941002949852507, 0.49337260677466865, 0.49264705882352944, 0.4919236417033774, 0.49266862170087977, 0.493411420204978, 0.4926900584795322, 0.491970802919708, 0.4912536443148688, 0.49053857350800584, 0.49127906976744184, 0.49056603773584906, 0.48985507246376814, 0.48914616497829233, 0.4884393063583815, 0.48917748917748916, 0.4884726224783862, 0.48776978417266187, 0.4870689655172414, 0.4878048780487805, 0.4885386819484241, 0.48783977110157367, 0.48857142857142855, 0.48787446504992865, 0.4886039886039886, 0.4879089615931721, 0.48863636363636365, 0.4879432624113475, 0.48725212464589235, 0.48656294200848654, 0.4858757062146893, 0.48660084626234135, 0.4859154929577465, 0.4866385372714487, 0.48735955056179775, 0.48807854137447404, 0.48739495798319327, 0.48671328671328673, 0.4860335195530726, 0.48535564853556484, 0.48467966573816157, 0.48400556328233657, 0.4847222222222222, 0.4840499306518724, 0.48337950138504154, 0.4827109266943292, 0.48204419889502764, 0.48137931034482756, 0.4807162534435262, 0.4814305364511692, 0.4807692307692308, 0.48010973936899864, 0.4808219178082192, 0.4801641586867305, 0.4808743169398907, 0.4815825375170532, 0.48092643051771117, 0.4816326530612245, 0.48097826086956524, 0.48032564450474896, 0.4796747967479675, 0.4790257104194858, 0.4783783783783784, 0.47908232118758437, 0.4797843665768194, 0.48048452220726784, 0.48118279569892475, 0.4818791946308725, 0.48257372654155495, 0.48326639892904955, 0.48262032085561496, 0.4819759679572764, 0.4826666666666667, 0.48202396804260983, 0.48271276595744683, 0.4820717131474104, 0.4827586206896552, 0.4821192052980132, 0.4828042328042328, 0.4821664464993395, 0.4815303430079156, 0.48221343873517786, 0.48157894736842105, 0.480946123521682, 0.4816272965879265, 0.48099606815203144, 0.4816753926701571, 0.4823529411764706, 0.4830287206266319, 0.48370273794002605, 0.484375, 0.4837451235370611, 0.4831168831168831, 0.48249027237354086, 0.48186528497409326, 0.48253557567917205, 0.4819121447028424, 0.48129032258064514, 0.48195876288659795, 0.4826254826254826, 0.4820051413881748, 0.4813863928112965, 0.4807692307692308, 0.4814340588988476, 0.48081841432225064, 0.48020434227330777, 0.48086734693877553, 0.4802547770700637, 0.48091603053435117, 0.4815756035578145, 0.48223350253807107, 0.4828897338403042, 0.48227848101265824, 0.4829329962073325, 0.4823232323232323, 0.48297604035308955, 0.482367758186398, 0.4817610062893082, 0.4824120603015075, 0.48180677540777916, 0.48120300751879697, 0.4818523153942428, 0.4825, 0.4818976279650437, 0.48129675810473815, 0.4806973848069738, 0.48009950248756217, 0.4795031055900621, 0.4801488833746898, 0.48079306071871125, 0.4801980198019802, 0.48084054388133496, 0.48148148148148145, 0.4808877928483354, 0.4815270935960591, 0.4821648216482165, 0.48157248157248156, 0.4822085889570552, 0.48284313725490197, 0.48225214198286415, 0.48166259168704156, 0.4822954822954823, 0.48292682926829267, 0.4835566382460414, 0.48418491484184917, 0.4835965978128797, 0.4842233009708738, 0.48484848484848486, 0.4854721549636804, 0.4860943168077388, 0.4867149758454106, 0.48612786489746684, 0.4867469879518072, 0.48736462093862815, 0.48677884615384615, 0.48619447779111646, 0.486810551558753, 0.4874251497005988, 0.4880382775119617, 0.4874551971326165, 0.48687350835322196, 0.48748510131108463, 0.4869047619047619, 0.4863258026159334, 0.4857482185273159, 0.4863582443653618, 0.48578199052132703, 0.4863905325443787, 0.4858156028368794, 0.48642266824085006, 0.48702830188679247, 0.48645465253239106, 0.4858823529411765, 0.4864864864864865, 0.48708920187793425, 0.4876905041031653, 0.48711943793911006, 0.4865497076023392, 0.4871495327102804, 0.48774795799299886, 0.48717948717948717, 0.48777648428405124, 0.4883720930232558, 0.4889663182346109, 0.48839907192575405, 0.48899188876013905, 0.48842592592592593, 0.4890173410404624, 0.4896073903002309, 0.48904267589388695, 0.48963133640552997, 0.4890678941311853, 0.4885057471264368, 0.48794489092996557, 0.4873853211009174, 0.4868270332187858, 0.4862700228832952, 0.4868571428571429, 0.4874429223744292, 0.4868871151653364, 0.4874715261958998, 0.4869169510807736, 0.4863636363636364, 0.4858115777525539, 0.48639455782312924, 0.48584371460928655, 0.48642533936651583, 0.48700564971751414, 0.48758465011286684, 0.48703494926719276, 0.4864864864864865, 0.4870641169853768, 0.48764044943820223, 0.4882154882154882, 0.48878923766816146, 0.48824188129899215, 0.4888143176733781, 0.488268156424581, 0.4877232142857143, 0.4882943143812709, 0.48775055679287305, 0.4883203559510567, 0.48777777777777775, 0.4872364039955605, 0.4878048780487805, 0.48726467331118495, 0.48672566371681414, 0.4861878453038674, 0.4867549668874172, 0.4862183020948181, 0.4856828193832599, 0.48514851485148514, 0.4846153846153846, 0.4840834248079034, 0.48464912280701755, 0.484118291347207, 0.48468271334792123, 0.4852459016393443, 0.4847161572052402, 0.48527808069792805, 0.485838779956427, 0.48639825897714906, 0.48695652173913045, 0.48642779587404994, 0.48698481561822127, 0.4875406283856988, 0.4880952380952381, 0.48864864864864865, 0.4892008639308855, 0.4886731391585761, 0.4892241379310345, 0.4897739504843918, 0.49032258064516127, 0.4897959183673469, 0.490343347639485, 0.4908896034297964, 0.49143468950749464, 0.4919786096256685, 0.49145299145299143, 0.49092849519743864, 0.4904051172707889, 0.4909478168264111, 0.49042553191489363, 0.4909670563230606, 0.49150743099787686, 0.4909862142099682, 0.4915254237288136, 0.49206349206349204, 0.4915433403805497, 0.4910242872228089, 0.49156118143459915, 0.4910432033719705, 0.4905263157894737, 0.4900105152471083, 0.49054621848739494, 0.4910807974816369, 0.4916142557651992, 0.49109947643979057, 0.4905857740585774, 0.49111807732497387, 0.4906054279749478, 0.49009384775808135, 0.4895833333333333, 0.4890738813735692, 0.4896049896049896, 0.48909657320872274, 0.48858921161825725, 0.48911917098445595, 0.489648033126294, 0.4901758014477766, 0.490702479338843, 0.49122807017543857, 0.4917525773195876, 0.4922760041194645, 0.492798353909465, 0.4933196300102775, 0.4938398357289528, 0.49435897435897436, 0.49385245901639346, 0.49334698055271237, 0.49284253578732107, 0.4933605720122574, 0.4928571428571429, 0.4923547400611621, 0.49287169042769857, 0.4923702950152594, 0.491869918699187, 0.49137055837563454, 0.4908722109533469, 0.49037487335359675, 0.4908906882591093, 0.4903943377148635, 0.4898989898989899, 0.48940464177598386, 0.4899193548387097, 0.48942598187311176, 0.48893360160965793, 0.4894472361809045, 0.48895582329317266, 0.48946840521564694, 0.48997995991983967, 0.4894894894894895, 0.489]\n"
     ]
    }
   ],
   "source": [
    "print(coin_average)"
   ]
  },
  {
   "cell_type": "code",
   "execution_count": 29,
   "id": "00459cc8",
   "metadata": {},
   "outputs": [
    {
     "data": {
      "image/png": "[encoded data removed]",
      "text/plain": [
       "<Figure size 432x288 with 1 Axes>"
      ]
     },
     "metadata": {
      "needs_background": "light"
     },
     "output_type": "display_data"
    }
   ],
   "source": [
    "fig, ax = plt.subplots()\n",
    "\n",
    "ax.plot(range(len(coin_average)), coin_average)\n",
    "\n",
    "ax.set(ylim=(0, 1))\n",
    "\n",
    "plt.show()"
   ]
  },
  {
   "cell_type": "code",
   "execution_count": 31,
   "id": "0d7bb666",
   "metadata": {},
   "outputs": [
    {
     "data": {
      "text/plain": [
       "5"
      ]
     },
     "execution_count": 31,
     "metadata": {},
     "output_type": "execute_result"
    }
   ],
   "source": [
    "random.randint(0,5)"
   ]
  },
  {
   "cell_type": "code",
   "execution_count": 32,
   "id": "e24a4f4e",
   "metadata": {},
   "outputs": [],
   "source": [
    "dice_average = []\n",
    "for i in range(11):\n",
    "    dice_average.append(0)"
   ]
  },
  {
   "cell_type": "code",
   "execution_count": 33,
   "id": "b389c6cd",
   "metadata": {},
   "outputs": [
    {
     "data": {
      "text/plain": [
       "[0, 0, 0, 0, 0, 0, 0, 0, 0, 0, 0]"
      ]
     },
     "execution_count": 33,
     "metadata": {},
     "output_type": "execute_result"
    }
   ],
   "source": [
    "dice_average"
   ]
  },
  {
   "cell_type": "code",
   "execution_count": 34,
   "id": "a1efd4fb",
   "metadata": {},
   "outputs": [],
   "source": [
    "for i in range(10000):\n",
    "    d1 = random.randint(0,5)\n",
    "    d2 = random.randint(0,5)\n",
    "    t = d1+d2\n",
    "    dice_average[t] += 1"
   ]
  },
  {
   "cell_type": "code",
   "execution_count": 35,
   "id": "c0797f5a",
   "metadata": {},
   "outputs": [
    {
     "name": "stdout",
     "output_type": "stream",
     "text": [
      "[281, 549, 876, 1109, 1392, 1627, 1361, 1126, 827, 571, 281]\n"
     ]
    }
   ],
   "source": [
    "print(dice_average)"
   ]
  },
  {
   "cell_type": "code",
   "execution_count": 36,
   "id": "2afd6488",
   "metadata": {},
   "outputs": [
    {
     "data": {
      "image/png": "[encoded data removed]",
      "text/plain": [
       "<Figure size 432x288 with 1 Axes>"
      ]
     },
     "metadata": {
      "needs_background": "light"
     },
     "output_type": "display_data"
    }
   ],
   "source": [
    "fig, ax = plt.subplots()\n",
    "\n",
    "ax.bar(range(len(dice_average)),dice_average)\n",
    "\n",
    "plt.show()"
   ]
  },
  {
   "cell_type": "code",
   "execution_count": null,
   "id": "75054e5e",
   "metadata": {},
   "outputs": [],
   "source": []
  }
 ],
 "metadata": {
  "kernelspec": {
   "display_name": "Python 3 (ipykernel)",
   "language": "python",
   "name": "python3"
  },
  "language_info": {
   "codemirror_mode": {
    "name": "ipython",
    "version": 3
   },
   "file_extension": ".py",
   "mimetype": "text/x-python",
   "name": "python",
   "nbconvert_exporter": "python",
   "pygments_lexer": "ipython3",
   "version": "3.8.13"
  }
 },
 "nbformat": 4,
 "nbformat_minor": 5
}
