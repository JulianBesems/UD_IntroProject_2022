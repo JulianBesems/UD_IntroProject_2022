{
 "cells": [
  {
   "cell_type": "markdown",
   "id": "cc0ad464",
   "metadata": {},
   "source": [
    "---\n",
    "<br/><br/>\n",
    "<br/><br/>\n",
    "<br/><br/>\n",
    "## Session 2 \n",
    "\n",
    "### Classes, Read and Write files, 2D Arrays\n",
    "\n",
    "_Julian Besems_\n",
    "<br/><br/>\n",
    "<br/><br/>\n",
    "<br/><br/>"
   ]
  },
  {
   "cell_type": "markdown",
   "id": "dbb20e5d",
   "metadata": {},
   "source": [
    "------------------\n",
    "<br/><br/>\n",
    "<br/><br/>\n",
    "<br/><br/>\n",
    "# Contents\n",
    "- _Classes_: a means to create custom data object, including attributes and functions\n",
    "- Read and write files:\n",
    "    - Text files, CSV files, Images\n",
    "- 2D and 3D arrays\n",
    "- Vectors\n",
    "<br/><br/>\n",
    "<br/><br/>\n",
    "<br/><br/>"
   ]
  },
  {
   "cell_type": "markdown",
   "id": "4c399ff1",
   "metadata": {},
   "source": [
    "---\n",
    "\n",
    "## Object Orientation\n",
    "\n",
    "\"Object-oriented programming (OOP) is a computer programming model that organizes software design around data, or objects, rather than functions and logic. An object can be defined as a data field that has unique attributes and behavior.\" - \n",
    "_A. Gillis_"
   ]
  },
  {
   "cell_type": "markdown",
   "id": "b41fab47",
   "metadata": {},
   "source": [
    "---\n",
    "<img src=\"https://l87r32c95dp1hz05tig4px11-wpengine.netdna-ssl.com/wp-content/uploads/2019/04/Pattern_Language1-768x901.jpg\" alt=\"drawing\" width=\"600\"/><br/><br/>"
   ]
  },
  {
   "cell_type": "markdown",
   "id": "fead8788",
   "metadata": {},
   "source": [
    "---\n",
    "<img src=\"https://springframework.guru/wp-content/uploads/2015/04/9780201633610.jpg\" alt=\"drawing\" width=\"500\"/><br/><br/>"
   ]
  },
  {
   "cell_type": "markdown",
   "id": "40ef8dde",
   "metadata": {},
   "source": [
    "---\n",
    "<br/><br/>\n",
    "<br/><br/>\n",
    "# Classes and Objects\n",
    "\n",
    "__In Python every object is an instance of a class. The class defines the characteristics an object can have.__\n",
    "\n",
    "<br/><br/>\n",
    "---"
   ]
  },
  {
   "cell_type": "markdown",
   "id": "c5330bfe",
   "metadata": {},
   "source": [
    "---\n",
    "<br/><br/>\n",
    "<br/><br/>\n",
    "## Real life example\n",
    "\n",
    "- Cars are one class of objects\n",
    "- a specific car is an object\n",
    "\n",
    "\n",
    "The class of cars is defined by a set of __Attributes__ and a set of __Methods__\n",
    "\n",
    "---\n",
    "### Attributes of Car\n",
    "- weight\n",
    "- colour\n",
    "- brand\n",
    "- height\n",
    "- width\n",
    "- top speed\n",
    "- etc.\n",
    "\n",
    "---\n",
    "### Methods of Car\n",
    "- drive\n",
    "- break\n",
    "- drive backwards\n",
    "- change gear\n",
    "- etc.\n",
    "\n",
    "---\n",
    "\n",
    "### Instance of car\n",
    "\n",
    "- weight = 800 kg\n",
    "- Colour = Red\n",
    "- Brand = Ford\n",
    "- Height = 1700\n",
    "- Width = 1600\n",
    "- etc.\n",
    "\n",
    "<br/><br/>\n",
    "---"
   ]
  },
  {
   "cell_type": "code",
   "execution_count": null,
   "id": "02ca81fe",
   "metadata": {},
   "outputs": [],
   "source": [
    "class Car:    \n",
    "    def __init__(self, colour):\n",
    "        self.brand = 'ford'\n",
    "        self.colour = colour\n",
    "        self.numberPlate = ['a','b','c','d','e']\n",
    "    \n",
    "    def describe(self):\n",
    "        print('this car is a ' + self.colour + ' ' + self.brand)"
   ]
  },
  {
   "cell_type": "markdown",
   "id": "f144bad9",
   "metadata": {},
   "source": [
    "```Car``` : name of the class\n",
    "\n",
    "```def __init__(self, ...) ``` : initialise function\n",
    "\n",
    "```colour``` : initialise argument\n",
    "\n",
    "```self.brand = 'ford'``` : default value variable\n",
    "\n",
    "```self.colour = colour``` : instantiated value variable \n",
    "\n",
    "```def describe ...``` : functions within the class"
   ]
  },
  {
   "cell_type": "code",
   "execution_count": null,
   "id": "ad6e6372",
   "metadata": {},
   "outputs": [],
   "source": [
    "car = Car('red')\n",
    "car.describe()"
   ]
  },
  {
   "cell_type": "code",
   "execution_count": null,
   "id": "28183677",
   "metadata": {},
   "outputs": [],
   "source": [
    "car.brand = 'BMW'"
   ]
  },
  {
   "cell_type": "code",
   "execution_count": null,
   "id": "f0c07940",
   "metadata": {},
   "outputs": [],
   "source": [
    "car.describe()"
   ]
  },
  {
   "cell_type": "markdown",
   "id": "11a3f54a",
   "metadata": {},
   "source": [
    "---\n",
    "__Pointers__\n",
    "\n",
    "__In a computer memory has addresses.__\n",
    "\n",
    "An address refers to content where a value can be stored _(usually)_. \n"
   ]
  },
  {
   "cell_type": "markdown",
   "id": "c54e5963",
   "metadata": {},
   "source": [
    "<br/><br/>\n",
    "<img src=\"https://upload.wikimedia.org/wikipedia/commons/thumb/b/b4/Pointers.svg/1920px-Pointers.svg.png\" alt=\"drawing\" width=\"200\"/>\n",
    "\n",
    "For more info:\n",
    "https://en.wikipedia.org/wiki/Pointer_(computer_programming)"
   ]
  },
  {
   "cell_type": "code",
   "execution_count": null,
   "id": "c2450a59",
   "metadata": {},
   "outputs": [],
   "source": [
    "car2 = car"
   ]
  },
  {
   "cell_type": "code",
   "execution_count": null,
   "id": "07f657f6",
   "metadata": {},
   "outputs": [],
   "source": [
    "car2.describe()"
   ]
  },
  {
   "cell_type": "code",
   "execution_count": null,
   "id": "42c44fdd",
   "metadata": {},
   "outputs": [],
   "source": [
    "car.describe()"
   ]
  },
  {
   "cell_type": "code",
   "execution_count": null,
   "id": "c8952c64",
   "metadata": {},
   "outputs": [],
   "source": [
    "car2.brand = 'VW'"
   ]
  },
  {
   "cell_type": "code",
   "execution_count": null,
   "id": "f2e70206",
   "metadata": {},
   "outputs": [],
   "source": [
    "car.describe()"
   ]
  },
  {
   "cell_type": "code",
   "execution_count": null,
   "id": "e75d6e36",
   "metadata": {},
   "outputs": [],
   "source": [
    "print(id(car))\n",
    "print(id(car2))"
   ]
  },
  {
   "cell_type": "code",
   "execution_count": null,
   "id": "170d5311",
   "metadata": {},
   "outputs": [],
   "source": [
    "import copy\n",
    "car2 = copy.copy(car)\n",
    "car2.brand = 'Audi'"
   ]
  },
  {
   "cell_type": "code",
   "execution_count": null,
   "id": "88a88580",
   "metadata": {},
   "outputs": [],
   "source": [
    "car.describe()"
   ]
  },
  {
   "cell_type": "code",
   "execution_count": null,
   "id": "7c9f01df",
   "metadata": {},
   "outputs": [],
   "source": [
    "car2.describe()"
   ]
  },
  {
   "cell_type": "code",
   "execution_count": null,
   "id": "128efb3f",
   "metadata": {},
   "outputs": [],
   "source": [
    "print(id(car))\n",
    "print(id(car2))"
   ]
  },
  {
   "cell_type": "code",
   "execution_count": null,
   "id": "215eead1",
   "metadata": {},
   "outputs": [],
   "source": [
    "car2.numberPlate[0] = 1"
   ]
  },
  {
   "cell_type": "code",
   "execution_count": null,
   "id": "5f509dcd",
   "metadata": {},
   "outputs": [],
   "source": [
    "print(car.numberPlate)"
   ]
  },
  {
   "cell_type": "code",
   "execution_count": null,
   "id": "f6b19ca0",
   "metadata": {},
   "outputs": [],
   "source": [
    "print(id(car.numberPlate))\n",
    "print(id(car2.numberPlate))"
   ]
  },
  {
   "cell_type": "code",
   "execution_count": null,
   "id": "1c8d2f7d",
   "metadata": {},
   "outputs": [],
   "source": [
    "car2 = copy.deepcopy(car)\n",
    "car2.numberPlate[0] = 8"
   ]
  },
  {
   "cell_type": "code",
   "execution_count": null,
   "id": "4857fd5d",
   "metadata": {},
   "outputs": [],
   "source": [
    "print(car.numberPlate)\n",
    "print(car2.numberPlate)"
   ]
  },
  {
   "cell_type": "code",
   "execution_count": null,
   "id": "28359ab2",
   "metadata": {
    "scrolled": true
   },
   "outputs": [],
   "source": [
    "print(id(car.numberPlate))\n",
    "print(id(car2.numberPlate))"
   ]
  },
  {
   "cell_type": "markdown",
   "id": "bc2ec4e1",
   "metadata": {},
   "source": [
    "---\n",
    "\n",
    "# Read and Write Files\n",
    "\n",
    "There are many ways of interacting with external information, we'll cover 4 basic ways here."
   ]
  },
  {
   "cell_type": "markdown",
   "id": "ea360d51",
   "metadata": {},
   "source": [
    "---\n",
    "\n",
    "### Text files"
   ]
  },
  {
   "cell_type": "code",
   "execution_count": null,
   "id": "36407418",
   "metadata": {},
   "outputs": [],
   "source": [
    "f = open(\"demo1.txt\", \"r\")\n",
    "print(f.read())"
   ]
  },
  {
   "cell_type": "markdown",
   "id": "62476d3d",
   "metadata": {},
   "source": [
    "```f```: the variable containing the file object\n",
    "\n",
    "```open()```: built in function to open a file\n",
    "\n",
    "```\"demo1.txt\"```: string containing the path to the file\n",
    "\n",
    "```\"r\"```: flag to specify the way in which the file is opened, ```\"r\"``` is the read flag\n",
    "\n",
    "```f.read()```: function of the file object to read the content of the file"
   ]
  },
  {
   "cell_type": "code",
   "execution_count": null,
   "id": "8acfdd3b",
   "metadata": {},
   "outputs": [],
   "source": [
    "f = open(\"demo1.txt\", \"r\")\n",
    "print(f.read(5))"
   ]
  },
  {
   "cell_type": "code",
   "execution_count": null,
   "id": "baa04347",
   "metadata": {},
   "outputs": [],
   "source": [
    "f = open(\"demo1.txt\", \"r\")\n",
    "print(f.readline())"
   ]
  },
  {
   "cell_type": "code",
   "execution_count": null,
   "id": "c8c14620",
   "metadata": {},
   "outputs": [],
   "source": [
    "print(f.readline())"
   ]
  },
  {
   "cell_type": "code",
   "execution_count": null,
   "id": "6093cd55",
   "metadata": {},
   "outputs": [],
   "source": [
    "print(f.readline())"
   ]
  },
  {
   "cell_type": "code",
   "execution_count": null,
   "id": "6aeb294d",
   "metadata": {},
   "outputs": [],
   "source": [
    "f = open(\"demo1.txt\", \"r\")\n",
    "for l in f:\n",
    "    print(l)"
   ]
  },
  {
   "cell_type": "markdown",
   "id": "ad384cb0",
   "metadata": {},
   "source": [
    "__Good practice to close a file once you're done:__"
   ]
  },
  {
   "cell_type": "code",
   "execution_count": null,
   "id": "f02dbbcb",
   "metadata": {},
   "outputs": [],
   "source": [
    "f.close()"
   ]
  },
  {
   "cell_type": "markdown",
   "id": "e6859499",
   "metadata": {},
   "source": [
    "__Writing to a file__\n",
    "\n",
    "Two flags:\n",
    "\n",
    "```a```: append - add to the end of an existing file, or if the file doesn't exist create a new one\n",
    "\n",
    "```w```: overwrite an existing file, or if the file doesn't exist create a new one"
   ]
  },
  {
   "cell_type": "code",
   "execution_count": null,
   "id": "858fd313",
   "metadata": {},
   "outputs": [],
   "source": [
    "f= open(\"demo1.txt\", 'a')\n",
    "f.write(\"now it has some more text\")\n",
    "f.close()"
   ]
  },
  {
   "cell_type": "code",
   "execution_count": null,
   "id": "01837f53",
   "metadata": {},
   "outputs": [],
   "source": [
    "f = open(\"demo1.txt\", \"r\")\n",
    "print(f.read())"
   ]
  },
  {
   "cell_type": "code",
   "execution_count": null,
   "id": "86bd5c5a",
   "metadata": {},
   "outputs": [],
   "source": [
    "f= open(\"demo1.txt\", 'w')\n",
    "f.write(\"now all the previous text is gone\")\n",
    "f.close()"
   ]
  },
  {
   "cell_type": "code",
   "execution_count": null,
   "id": "9bd5605d",
   "metadata": {},
   "outputs": [],
   "source": [
    "f = open(\"demo1.txt\", \"r\")\n",
    "print(f.read())"
   ]
  },
  {
   "cell_type": "code",
   "execution_count": null,
   "id": "1af50fd5",
   "metadata": {},
   "outputs": [],
   "source": [
    "f= open(\"demo2.txt\", 'w')\n",
    "f.write(\"This file didn't exist earlier\")\n",
    "f.close()"
   ]
  },
  {
   "cell_type": "code",
   "execution_count": null,
   "id": "2d0ac94e",
   "metadata": {
    "scrolled": true
   },
   "outputs": [],
   "source": [
    "f = open(\"demo2.txt\", \"r\")\n",
    "print(f.read())"
   ]
  },
  {
   "cell_type": "markdown",
   "id": "1eef7fd5",
   "metadata": {},
   "source": [
    "---\n",
    "\n",
    "### CSV files\n",
    "\n",
    "CSV: Comma Seperated Values\n",
    "\n",
    "A common file format with a specific way of reading and writing to make data parsing easier\n",
    "\n",
    "https://docs.python.org/3/library/csv.html"
   ]
  },
  {
   "cell_type": "code",
   "execution_count": null,
   "id": "4751a426",
   "metadata": {},
   "outputs": [],
   "source": [
    "import csv"
   ]
  },
  {
   "cell_type": "code",
   "execution_count": null,
   "id": "69a8d84f",
   "metadata": {},
   "outputs": [],
   "source": [
    "with open('csvDemo.csv') as csvfile:\n",
    "    reader = csv.reader(csvfile)\n",
    "    for r in reader:\n",
    "        print(r)"
   ]
  },
  {
   "cell_type": "code",
   "execution_count": null,
   "id": "a7b60eaf",
   "metadata": {},
   "outputs": [],
   "source": [
    "with open('csvDemo.csv', 'w') as csvfile:\n",
    "    writer = csv.writer(csvfile)\n",
    "    writer.writerow('spam')"
   ]
  },
  {
   "cell_type": "code",
   "execution_count": null,
   "id": "a5416357",
   "metadata": {},
   "outputs": [],
   "source": [
    "with open('csvDemo.csv', 'w') as csvfile:\n",
    "    writer = csv.writer(csvfile)\n",
    "    writer.writerow(['spam']*5)"
   ]
  },
  {
   "cell_type": "code",
   "execution_count": null,
   "id": "59ace252",
   "metadata": {},
   "outputs": [],
   "source": [
    "with open('csvDemo.csv', 'w') as csvfile:\n",
    "    writer = csv.writer(csvfile)\n",
    "    for i in range(10):\n",
    "        row = []\n",
    "        for j in range(10):\n",
    "            row.append(i*j)\n",
    "        writer.writerow(row)"
   ]
  },
  {
   "cell_type": "code",
   "execution_count": null,
   "id": "76c039aa",
   "metadata": {},
   "outputs": [],
   "source": [
    "with open('csvDemo.csv') as csvfile:\n",
    "    reader = csv.reader(csvfile)\n",
    "    for r in reader:\n",
    "        print(r)"
   ]
  },
  {
   "cell_type": "markdown",
   "id": "8a9b1abf",
   "metadata": {},
   "source": [
    "---\n",
    "\n",
    "### 2D Arrays\n"
   ]
  },
  {
   "cell_type": "code",
   "execution_count": null,
   "id": "ede6d072",
   "metadata": {},
   "outputs": [],
   "source": [
    "with open('csvDemo.csv') as csvfile:\n",
    "    reader = csv.reader(csvfile)\n",
    "    for r in reader:\n",
    "        print(r)"
   ]
  },
  {
   "cell_type": "code",
   "execution_count": null,
   "id": "2805285c",
   "metadata": {},
   "outputs": [],
   "source": [
    "numbers = []\n",
    "with open('csvDemo.csv') as csvfile:\n",
    "    reader = csv.reader(csvfile)\n",
    "    for r in reader:\n",
    "        numbers.append(r)"
   ]
  },
  {
   "cell_type": "code",
   "execution_count": null,
   "id": "adb07fe5",
   "metadata": {},
   "outputs": [],
   "source": [
    "print(numbers)"
   ]
  },
  {
   "cell_type": "code",
   "execution_count": null,
   "id": "ba24dd6f",
   "metadata": {},
   "outputs": [],
   "source": [
    "for r in numbers:\n",
    "    print(r)"
   ]
  },
  {
   "cell_type": "code",
   "execution_count": null,
   "id": "819a3c92",
   "metadata": {},
   "outputs": [],
   "source": [
    "for r in numbers:\n",
    "    for n in r:\n",
    "        print(n)"
   ]
  },
  {
   "cell_type": "code",
   "execution_count": null,
   "id": "f0896954",
   "metadata": {},
   "outputs": [],
   "source": [
    "for r in numbers:\n",
    "    for n in r:\n",
    "        n = int(n)\n",
    "print(numbers)"
   ]
  },
  {
   "cell_type": "code",
   "execution_count": null,
   "id": "2e188cb2",
   "metadata": {},
   "outputs": [],
   "source": [
    "for i in range(len(numbers)):\n",
    "    print(numbers[i])"
   ]
  },
  {
   "cell_type": "code",
   "execution_count": null,
   "id": "ae2abfda",
   "metadata": {},
   "outputs": [],
   "source": [
    "for i in range(len(numbers)):\n",
    "    for j in range(len(numbers[i])):\n",
    "        numbers[i][j] = int(numbers[i][j])\n",
    "print(numbers)"
   ]
  },
  {
   "cell_type": "markdown",
   "id": "ce57fe92",
   "metadata": {},
   "source": [
    "__We can also write Dictionaries__"
   ]
  },
  {
   "cell_type": "code",
   "execution_count": null,
   "id": "7378ee17",
   "metadata": {},
   "outputs": [],
   "source": [
    "with open('names.csv', 'w', newline='') as csvfile:\n",
    "    fieldnames = ['first_name', 'last_name']\n",
    "    writer = csv.DictWriter(csvfile, fieldnames=fieldnames)\n",
    "\n",
    "    writer.writeheader()\n",
    "    writer.writerow({'first_name': 'Baked', 'last_name': 'Beans'})\n",
    "    writer.writerow({'first_name': 'Lovely', 'last_name': 'Spam'})\n",
    "    writer.writerow({'first_name': 'Wonderful', 'last_name': 'Spam'})"
   ]
  },
  {
   "cell_type": "code",
   "execution_count": null,
   "id": "693df95f",
   "metadata": {},
   "outputs": [],
   "source": [
    "with open('names.csv') as csvfile:\n",
    "    reader = csv.reader(csvfile)\n",
    "    for r in reader:\n",
    "        print(r)"
   ]
  },
  {
   "cell_type": "code",
   "execution_count": null,
   "id": "988ec7eb",
   "metadata": {},
   "outputs": [],
   "source": [
    "with open('names.csv') as csvfile:\n",
    "    reader = csv.DictReader(csvfile)\n",
    "    for r in reader:\n",
    "        print(r)"
   ]
  },
  {
   "cell_type": "code",
   "execution_count": null,
   "id": "9c2b4e34",
   "metadata": {},
   "outputs": [],
   "source": [
    "with open('names.csv') as csvfile:\n",
    "    reader = csv.DictReader(csvfile)\n",
    "    for r in reader:\n",
    "        print(r['first_name'])"
   ]
  },
  {
   "cell_type": "code",
   "execution_count": null,
   "id": "83857698",
   "metadata": {},
   "outputs": [],
   "source": [
    "with open('names.csv') as csvfile:\n",
    "    reader = csv.DictReader(csvfile)\n",
    "    for r in reader:\n",
    "        print(r['last_name'])"
   ]
  },
  {
   "cell_type": "markdown",
   "id": "cc6730da",
   "metadata": {},
   "source": [
    "__Adding some numerical data__"
   ]
  },
  {
   "cell_type": "code",
   "execution_count": null,
   "id": "c751846e",
   "metadata": {},
   "outputs": [],
   "source": [
    "with open('names.csv', 'w', newline='') as csvfile:\n",
    "    fieldnames = ['first_name', 'last_name', 'born']\n",
    "    writer = csv.DictWriter(csvfile, fieldnames=fieldnames)\n",
    "\n",
    "    writer.writeheader()\n",
    "    writer.writerow({'first_name': 'Baked', 'last_name': 'Beans', 'born':2010})\n",
    "    writer.writerow({'first_name': 'Lovely', 'last_name': 'Spam', 'born':2011})\n",
    "    writer.writerow({'first_name': 'Wonderful', 'last_name': 'Spam', 'born':2012})"
   ]
  },
  {
   "cell_type": "code",
   "execution_count": null,
   "id": "3e6dbac1",
   "metadata": {},
   "outputs": [],
   "source": [
    "with open('names.csv') as csvfile:\n",
    "    reader = csv.DictReader(csvfile)\n",
    "    for r in reader:\n",
    "        print(r)"
   ]
  },
  {
   "cell_type": "markdown",
   "id": "ff8ce2ca",
   "metadata": {},
   "source": [
    "__Save the content to a variable__"
   ]
  },
  {
   "cell_type": "code",
   "execution_count": null,
   "id": "05b55031",
   "metadata": {},
   "outputs": [],
   "source": [
    "name_contents=[]\n",
    "with open('names.csv') as csvfile:\n",
    "    reader = csv.DictReader(csvfile)\n",
    "    for r in reader:\n",
    "        name_contents.append(r)"
   ]
  },
  {
   "cell_type": "code",
   "execution_count": null,
   "id": "62aaecf5",
   "metadata": {},
   "outputs": [],
   "source": [
    "print(name_contents)"
   ]
  },
  {
   "cell_type": "code",
   "execution_count": null,
   "id": "1a9c4c4f",
   "metadata": {},
   "outputs": [],
   "source": [
    "for n in name_contents:\n",
    "    print(n['born'])"
   ]
  },
  {
   "cell_type": "code",
   "execution_count": null,
   "id": "36fd185e",
   "metadata": {},
   "outputs": [],
   "source": [
    "for n in name_contents:\n",
    "    print(type(n['born']))"
   ]
  },
  {
   "cell_type": "code",
   "execution_count": null,
   "id": "8668e083",
   "metadata": {},
   "outputs": [],
   "source": [
    "for n in name_contents:\n",
    "    n['born'] = int(n['born'])"
   ]
  },
  {
   "cell_type": "code",
   "execution_count": null,
   "id": "b3b686bc",
   "metadata": {},
   "outputs": [],
   "source": [
    "for n in name_contents:\n",
    "    print(type(n['born']))"
   ]
  },
  {
   "cell_type": "code",
   "execution_count": null,
   "id": "0e63a015",
   "metadata": {},
   "outputs": [],
   "source": [
    "print(name_contents)"
   ]
  },
  {
   "cell_type": "markdown",
   "id": "506d7354",
   "metadata": {},
   "source": [
    "---\n",
    "\n",
    "### Example with Netflix dataset\n"
   ]
  },
  {
   "cell_type": "code",
   "execution_count": null,
   "id": "e147d51c",
   "metadata": {},
   "outputs": [],
   "source": [
    "with open('netflix_titles.csv') as csvfile:\n",
    "    reader = csv.DictReader(csvfile)\n",
    "    print(reader.__next__())"
   ]
  },
  {
   "cell_type": "code",
   "execution_count": null,
   "id": "11dbdcf7",
   "metadata": {},
   "outputs": [],
   "source": [
    "netflix_contents = []\n",
    "with open('netflix_titles.csv') as csvfile:\n",
    "    reader = csv.DictReader(csvfile)\n",
    "    for r in reader:\n",
    "        netflix_contents.append(r)"
   ]
  },
  {
   "cell_type": "code",
   "execution_count": null,
   "id": "ade2c4be",
   "metadata": {
    "scrolled": true
   },
   "outputs": [],
   "source": [
    "len(netflix_contents)"
   ]
  },
  {
   "cell_type": "code",
   "execution_count": null,
   "id": "e0f6a5b7",
   "metadata": {},
   "outputs": [],
   "source": [
    "for video in netflix_contents:\n",
    "    video['release_year'] = int(video['release_year']) "
   ]
  },
  {
   "cell_type": "code",
   "execution_count": null,
   "id": "e6ed7502",
   "metadata": {
    "scrolled": true
   },
   "outputs": [],
   "source": [
    "print(netflix_contents[0])"
   ]
  },
  {
   "cell_type": "markdown",
   "id": "020b2174",
   "metadata": {},
   "source": [
    "__Sort data on the content of an entry__"
   ]
  },
  {
   "cell_type": "code",
   "execution_count": null,
   "id": "90d4a09e",
   "metadata": {},
   "outputs": [],
   "source": [
    "netflix_contents.sort(key= lambda x : x['release_year'])"
   ]
  },
  {
   "cell_type": "code",
   "execution_count": null,
   "id": "baadb0a1",
   "metadata": {
    "scrolled": true
   },
   "outputs": [],
   "source": [
    "print(netflix_contents[0])"
   ]
  },
  {
   "cell_type": "markdown",
   "id": "2569fa04",
   "metadata": {},
   "source": [
    "__Show nr of entries that match a certain condition__"
   ]
  },
  {
   "cell_type": "code",
   "execution_count": null,
   "id": "c1e46667",
   "metadata": {
    "scrolled": true
   },
   "outputs": [],
   "source": [
    "count = 0\n",
    "for video in netflix_contents:\n",
    "    if video['type']=='Movie':\n",
    "        count+=1\n",
    "print(count)"
   ]
  },
  {
   "cell_type": "markdown",
   "id": "c73e6c9d",
   "metadata": {},
   "source": [
    "__Show all titles that match a certain condition__"
   ]
  },
  {
   "cell_type": "code",
   "execution_count": null,
   "id": "0a4ad3cf",
   "metadata": {},
   "outputs": [],
   "source": [
    "for video in netflix_contents:\n",
    "    if 'Quentin Tarantino' == video['director']:\n",
    "        print(video['title'])"
   ]
  },
  {
   "cell_type": "code",
   "execution_count": null,
   "id": "331cee77",
   "metadata": {
    "scrolled": true
   },
   "outputs": [],
   "source": [
    "for video in netflix_contents:\n",
    "    if 'Brad Pitt' in video['cast']:\n",
    "        print(video['title'])"
   ]
  },
  {
   "cell_type": "markdown",
   "id": "376e4a7a",
   "metadata": {},
   "source": [
    "__Show all titles that match multiple conditions__"
   ]
  },
  {
   "cell_type": "code",
   "execution_count": null,
   "id": "bd142721",
   "metadata": {
    "scrolled": false
   },
   "outputs": [],
   "source": [
    "for video in netflix_contents:\n",
    "    if 'Quentin Tarantino' == video['director'] and 'Brad Pitt' in video['cast']:\n",
    "        print(video['title'])"
   ]
  },
  {
   "cell_type": "markdown",
   "id": "ac3e7142",
   "metadata": {},
   "source": [
    "---\n",
    "\n",
    "### 2D arrays continued\n"
   ]
  },
  {
   "cell_type": "code",
   "execution_count": null,
   "id": "f4b9cbce",
   "metadata": {},
   "outputs": [],
   "source": [
    "grid = []\n",
    "for i in range(3):\n",
    "    row = []\n",
    "    for j in range(3):\n",
    "        row.append(i+j)\n",
    "    grid.append(row)"
   ]
  },
  {
   "cell_type": "code",
   "execution_count": null,
   "id": "c562f65a",
   "metadata": {},
   "outputs": [],
   "source": [
    "print(grid)"
   ]
  },
  {
   "cell_type": "code",
   "execution_count": null,
   "id": "7e164798",
   "metadata": {},
   "outputs": [],
   "source": [
    "for r in grid:\n",
    "    print(r)"
   ]
  },
  {
   "cell_type": "code",
   "execution_count": null,
   "id": "2c2a5db9",
   "metadata": {},
   "outputs": [],
   "source": [
    "grid[0]"
   ]
  },
  {
   "cell_type": "code",
   "execution_count": null,
   "id": "95c48f99",
   "metadata": {},
   "outputs": [],
   "source": [
    "grid[1][1]"
   ]
  },
  {
   "cell_type": "markdown",
   "id": "3dcd7a80",
   "metadata": {},
   "source": [
    "---\n",
    "\n",
    "## Read images\n"
   ]
  },
  {
   "cell_type": "code",
   "execution_count": null,
   "id": "0df2e102",
   "metadata": {},
   "outputs": [],
   "source": [
    "from PIL import Image\n",
    "#https://pillow.readthedocs.io/en/stable/"
   ]
  },
  {
   "cell_type": "code",
   "execution_count": null,
   "id": "7a0f2a96",
   "metadata": {},
   "outputs": [],
   "source": [
    "# Read image\n",
    "img = Image.open('MagrittePipe.jpg')\n",
    " \n",
    "# Output Images\n",
    "img.show()"
   ]
  },
  {
   "cell_type": "code",
   "execution_count": null,
   "id": "55394b12",
   "metadata": {},
   "outputs": [],
   "source": [
    "# in jupyter:\n",
    "display(img)"
   ]
  },
  {
   "cell_type": "code",
   "execution_count": null,
   "id": "3cf25242",
   "metadata": {},
   "outputs": [],
   "source": [
    "img.getpixel((0,0))"
   ]
  },
  {
   "cell_type": "code",
   "execution_count": null,
   "id": "08e16ab4",
   "metadata": {},
   "outputs": [],
   "source": [
    "size = img.size\n",
    "print(size)"
   ]
  },
  {
   "cell_type": "code",
   "execution_count": null,
   "id": "f0c794db",
   "metadata": {},
   "outputs": [],
   "source": [
    "for i in range(size[0]):\n",
    "    for j in range(size[1]):\n",
    "        pixel = img.getpixel((i,j))\n",
    "        tone = int((pixel[0]+pixel[1]+pixel[2])/3)\n",
    "        img.putpixel((i,j),(tone,tone,tone))\n",
    "display(img)"
   ]
  },
  {
   "cell_type": "code",
   "execution_count": null,
   "id": "c9b167b1",
   "metadata": {},
   "outputs": [],
   "source": [
    "img = img.resize((int(img.size[0]/5), int(img.size[1]/5)))\n",
    "display(img)"
   ]
  },
  {
   "cell_type": "code",
   "execution_count": null,
   "id": "35210efc",
   "metadata": {},
   "outputs": [],
   "source": [
    "size = img.size\n",
    "print(size)"
   ]
  },
  {
   "cell_type": "code",
   "execution_count": null,
   "id": "7bc4d4d8",
   "metadata": {},
   "outputs": [],
   "source": [
    "imPoints = []\n",
    "for i in range(size[1]):\n",
    "    row = ''\n",
    "    for j in range(size[0]):\n",
    "        pixel = img.getpixel((j,i))\n",
    "        tone = pixel[0]/255\n",
    "        if tone < 0.3:\n",
    "            row+='+'\n",
    "        elif tone < 0.6:\n",
    "            row+='.'\n",
    "        else:\n",
    "            row+=' '\n",
    "    imPoints.append(row)\n",
    "\n",
    "for r in imPoints:\n",
    "    print(r)"
   ]
  },
  {
   "cell_type": "markdown",
   "id": "edeeae51",
   "metadata": {},
   "source": [
    "---\n",
    "\n",
    "## Probability and visualising data\n"
   ]
  },
  {
   "cell_type": "code",
   "execution_count": null,
   "id": "d980c5dd",
   "metadata": {},
   "outputs": [],
   "source": [
    "import matplotlib.pyplot as plt\n",
    "import random"
   ]
  },
  {
   "cell_type": "code",
   "execution_count": null,
   "id": "dae0bed8",
   "metadata": {},
   "outputs": [],
   "source": [
    "random.randint(0,1)"
   ]
  },
  {
   "cell_type": "code",
   "execution_count": null,
   "id": "37e15e98",
   "metadata": {},
   "outputs": [],
   "source": [
    "coin_flips = []\n",
    "for i in range(1000):\n",
    "    coin_flips.append(random.randint(0,1))"
   ]
  },
  {
   "cell_type": "code",
   "execution_count": null,
   "id": "8e0e4e6e",
   "metadata": {},
   "outputs": [],
   "source": [
    "print(coin_flips)"
   ]
  },
  {
   "cell_type": "code",
   "execution_count": null,
   "id": "80329ae0",
   "metadata": {},
   "outputs": [],
   "source": [
    "fig, ax = plt.subplots()\n",
    "\n",
    "ax.plot(range(len(coin_flips)), coin_flips)\n",
    "\n",
    "plt.show()"
   ]
  },
  {
   "cell_type": "code",
   "execution_count": null,
   "id": "54f3b4c3",
   "metadata": {},
   "outputs": [],
   "source": [
    "coin_average = []\n",
    "total = 0\n",
    "for i in range(len(coin_flips)):\n",
    "    total += coin_flips[i]\n",
    "    coin_average.append(total/(i+1))"
   ]
  },
  {
   "cell_type": "code",
   "execution_count": null,
   "id": "84a82b4b",
   "metadata": {},
   "outputs": [],
   "source": [
    "print(coin_average)"
   ]
  },
  {
   "cell_type": "code",
   "execution_count": null,
   "id": "00459cc8",
   "metadata": {},
   "outputs": [],
   "source": [
    "fig, ax = plt.subplots()\n",
    "\n",
    "ax.plot(range(len(coin_average)), coin_average)\n",
    "\n",
    "ax.set(ylim=(0, 1))\n",
    "\n",
    "plt.show()"
   ]
  },
  {
   "cell_type": "code",
   "execution_count": null,
   "id": "0d7bb666",
   "metadata": {},
   "outputs": [],
   "source": [
    "random.randint(0,5)"
   ]
  },
  {
   "cell_type": "code",
   "execution_count": null,
   "id": "e24a4f4e",
   "metadata": {},
   "outputs": [],
   "source": [
    "dice_average = []\n",
    "for i in range(11):\n",
    "    dice_average.append(0)\n",
    "    \n",
    "for i in range(10000):\n",
    "    d1 = random.randint(0,5)\n",
    "    d2 = random.randint(0,5)\n",
    "    t = d1+d2\n",
    "    dice_average[t] += 1"
   ]
  },
  {
   "cell_type": "code",
   "execution_count": null,
   "id": "c0797f5a",
   "metadata": {},
   "outputs": [],
   "source": [
    "print(dice_average)"
   ]
  },
  {
   "cell_type": "code",
   "execution_count": null,
   "id": "2afd6488",
   "metadata": {},
   "outputs": [],
   "source": [
    "fig, ax = plt.subplots()\n",
    "\n",
    "ax.bar(range(len(dice_average)),dice_average)\n",
    "\n",
    "plt.show()"
   ]
  },
  {
   "cell_type": "code",
   "execution_count": null,
   "id": "75054e5e",
   "metadata": {},
   "outputs": [],
   "source": []
  }
 ],
 "metadata": {
  "kernelspec": {
   "display_name": "Python 3 (ipykernel)",
   "language": "python",
   "name": "python3"
  },
  "language_info": {
   "codemirror_mode": {
    "name": "ipython",
    "version": 3
   },
   "file_extension": ".py",
   "mimetype": "text/x-python",
   "name": "python",
   "nbconvert_exporter": "python",
   "pygments_lexer": "ipython3",
   "version": "3.8.13"
  }
 },
 "nbformat": 4,
 "nbformat_minor": 5
}
