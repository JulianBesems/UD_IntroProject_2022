{
 "cells": [
  {
   "cell_type": "markdown",
   "metadata": {},
   "source": [
    "Introduction to basic 2D arrays "
   ]
  },
  {
   "cell_type": "markdown",
   "metadata": {},
   "source": [
    "Exercise 1: Arrays\n",
    "\n",
    "a. Write a code that creates a 2-dimensional array of 3 rows and 5 columns where each element of the array is the row index to the power of the column index.\n",
    "\n",
    "b. Write a code which takes two digits m (row) and n (column) as input and generates a two-dimensional array. Each element value should be the row index multiplied by the respective column index. \n",
    "\n",
    "c. Chess game (Optional)*"
   ]
  },
  {
   "cell_type": "code",
   "execution_count": null,
   "metadata": {},
   "outputs": [],
   "source": []
  },
  {
   "cell_type": "markdown",
   "metadata": {},
   "source": [
    "Exercise 2 : Dictionaries\n",
    "\n",
    "Create a dictionary including 5 fruits, their color, weight and price.\n",
    "\n",
    "Write the dictionary to a csv document.\n",
    "\n",
    "a. Write a code to print all row values.\n",
    "\n",
    "b. Write a code to print only the fruit names.\n",
    "\n",
    "c. Write a code to check if value 2 pounds exists in the dictionary. Print (\"This fruit costs 2 pounds\" or \"No fruit costs 2 pounds\")\n",
    "\n",
    "d. Write a code to check which fruit has the highest price and print it.\n"
   ]
  },
  {
   "cell_type": "code",
   "execution_count": null,
   "metadata": {},
   "outputs": [],
   "source": []
  },
  {
   "cell_type": "markdown",
   "metadata": {},
   "source": [
    "Exercise 3 : Datasets\n",
    "\n",
    "Open and read the file 2015Deprivation.csv .\n",
    "\n",
    "a. Write a code to print the length of the dataset.\n",
    "\n",
    "b. Write a code to sort the content based on Income Rank. Print top 5.\n",
    "\n",
    "c. Write a code to show the number of LSOA that have a Living Environment Score > 15.\n",
    "\n",
    "d. Write a code that prints the LSOA that have Index of Deprivation Score > 85.\n",
    "\n",
    "d. Write a code that prints the Index of Deprivation Score for Islington.\n",
    "\n"
   ]
  },
  {
   "cell_type": "code",
   "execution_count": null,
   "metadata": {},
   "outputs": [],
   "source": []
  },
  {
   "cell_type": "markdown",
   "metadata": {},
   "source": [
    "Exercise 4 : Data visualisation\n",
    "\n",
    "Visualise your dataset. Import matplotlib library to assist you for the creation of the diagrams. Data visualisation can assist to the understanding of data values and their correlation.\n",
    "\n",
    "Use the datasets from the exercise above and create at least 3 diagrams. It is advised to explore the basic scatterplot and bar functions.\n",
    "Define the size of the figure, labels, color and title. \n",
    "\n",
    "(Note:https://matplotlib.org/stable/plot_types/basic/index.html)"
   ]
  },
  {
   "cell_type": "code",
   "execution_count": null,
   "metadata": {},
   "outputs": [],
   "source": []
  },
  {
   "cell_type": "markdown",
   "metadata": {},
   "source": [
    "Exercise 5 : Image manipulation\n",
    "\n",
    "Read an image of your selection. It is advised to select an image and figure out how to use the course knowledge for reading that image from your desktop/folder.\n",
    "\n",
    "a. Write a code to show the image and print its size.\n",
    "\n",
    "b. Following the course material, create an alternative visualisation of your selected image. Be creative!"
   ]
  },
  {
   "cell_type": "code",
   "execution_count": null,
   "metadata": {},
   "outputs": [],
   "source": []
  },
  {
   "cell_type": "code",
   "execution_count": 2,
   "metadata": {},
   "outputs": [],
   "source": [
    "#Chess game:  \n",
    "\n",
    "#Consider a 2-dimensional array that represents a chessboard, where 0 corresponds to an empty square and 1 a square with a rook \n",
    "#(remember that rooks can only move on straight lines).\n",
    "# [(1,0,0),\n",
    "#(0,1,0),\n",
    "#(1,0,0)]\n",
    "\n",
    "# Define a function that returns\n",
    "#True if none of the rooks can attack each other\n",
    "#False if there is at least one pair of rooks that can attack each other.\n",
    "\n",
    "#def rooks_are_safe(chessboard):"
   ]
  },
  {
   "cell_type": "code",
   "execution_count": null,
   "metadata": {},
   "outputs": [],
   "source": [
    "#Test your code:\n",
    "\n",
    "#print (rooks_are_safe\n",
    "#([(1,0,0),\n",
    "#(0,1,0),\n",
    "#(1,0,0)]))"
   ]
  }
 ],
 "metadata": {
  "kernelspec": {
   "display_name": "Python 3 (ipykernel)",
   "language": "python",
   "name": "python3"
  },
  "language_info": {
   "codemirror_mode": {
    "name": "ipython",
    "version": 3
   },
   "file_extension": ".py",
   "mimetype": "text/x-python",
   "name": "python",
   "nbconvert_exporter": "python",
   "pygments_lexer": "ipython3",
   "version": "3.8.13"
  }
 },
 "nbformat": 4,
 "nbformat_minor": 4
}
