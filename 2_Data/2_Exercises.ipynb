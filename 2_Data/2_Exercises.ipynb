{
 "cells": [
  {
   "cell_type": "markdown",
   "metadata": {},
   "source": [
    "## Exercise 1: Arrays\n",
    "\n",
    "a. Write a code that creates a 2-dimensional array of 3 rows and 5 columns where each element of the array is the row index to the power of the column index."
   ]
  },
  {
   "cell_type": "code",
   "execution_count": 8,
   "metadata": {},
   "outputs": [
    {
     "data": {
      "text/plain": [
       "[[1, 0, 0, 0, 0], [1, 1, 1, 1, 1], [1, 2, 4, 8, 16]]"
      ]
     },
     "execution_count": 8,
     "metadata": {},
     "output_type": "execute_result"
    }
   ],
   "source": [
    "dimArray = []\n",
    "for i in range(3):\n",
    "    row = []\n",
    "    for j in range(5):\n",
    "        row.append(i**j)\n",
    "    dimArray.append(row)\n",
    "dimArray"
   ]
  },
  {
   "cell_type": "code",
   "execution_count": 9,
   "metadata": {},
   "outputs": [
    {
     "data": {
      "text/plain": [
       "[[1, 0, 0, 0, 0], [1, 1, 1, 1, 1], [1, 2, 4, 8, 16]]"
      ]
     },
     "execution_count": 9,
     "metadata": {},
     "output_type": "execute_result"
    }
   ],
   "source": [
    "[[i**j for j in range(5)] for i in range(3)]"
   ]
  },
  {
   "cell_type": "markdown",
   "metadata": {},
   "source": [
    "b. Write a code which takes two digits m (row) and n (column) as input and generates a two-dimensional array. Each element value should be the row index multiplied by the respective column index. "
   ]
  },
  {
   "cell_type": "code",
   "execution_count": 6,
   "metadata": {},
   "outputs": [
    {
     "data": {
      "text/plain": [
       "[[0, 0, 0, 0, 0, 0],\n",
       " [0, 1, 2, 3, 4, 5],\n",
       " [0, 2, 4, 6, 8, 10],\n",
       " [0, 3, 6, 9, 12, 15],\n",
       " [0, 4, 8, 12, 16, 20]]"
      ]
     },
     "execution_count": 6,
     "metadata": {},
     "output_type": "execute_result"
    }
   ],
   "source": [
    "def createArray(m,n):\n",
    "    dimArray = []\n",
    "    for i in range(m):\n",
    "        row = []\n",
    "        for j in range(n):\n",
    "            row.append(i*j)\n",
    "        dimArray.append(row)\n",
    "    return dimArray\n",
    "\n",
    "createArray(5,6)"
   ]
  },
  {
   "cell_type": "code",
   "execution_count": 7,
   "metadata": {},
   "outputs": [
    {
     "data": {
      "text/plain": [
       "[[0, 0, 0, 0, 0, 0],\n",
       " [0, 1, 2, 3, 4, 5],\n",
       " [0, 2, 4, 6, 8, 10],\n",
       " [0, 3, 6, 9, 12, 15],\n",
       " [0, 4, 8, 12, 16, 20]]"
      ]
     },
     "execution_count": 7,
     "metadata": {},
     "output_type": "execute_result"
    }
   ],
   "source": [
    "def createArray(m,n):\n",
    "    a = [[j*i for j in range(n)] for i in range(m)]\n",
    "    return a\n",
    "\n",
    "createArray(5,6)"
   ]
  },
  {
   "cell_type": "markdown",
   "metadata": {},
   "source": [
    "c. Chess game:  \n",
    "\n",
    "Consider a 2-dimensional array that represents a chessboard, where 0 corresponds to an empty square and 1 a square with a rook \n",
    "(remember that rooks can only move on straight lines).\n",
    "```\n",
    "[(1,0,0),\n",
    "(0,1,0),\n",
    "(1,0,0)]\n",
    "```\n",
    "\n",
    "__Define a function that returns__\n",
    "```True``` if none of the rooks can attack each other\n",
    "```False``` if there is at least one pair of rooks that can attack each other."
   ]
  },
  {
   "cell_type": "code",
   "execution_count": 10,
   "metadata": {},
   "outputs": [],
   "source": [
    "def rooks_are_safe(chessboard):\n",
    "    for r in chessboard:\n",
    "        s = sum(r)\n",
    "        if s > 1:\n",
    "            return False\n",
    "    for i in range(len(chessboard[0])):\n",
    "        column = [r[i] for r in chessboard]\n",
    "        s = sum(column)\n",
    "        if s >1:\n",
    "            return False\n",
    "    return True"
   ]
  },
  {
   "cell_type": "markdown",
   "metadata": {},
   "source": [
    "__Test your code:__"
   ]
  },
  {
   "cell_type": "code",
   "execution_count": 23,
   "metadata": {},
   "outputs": [
    {
     "name": "stdout",
     "output_type": "stream",
     "text": [
      "0 0\n",
      "True\n"
     ]
    }
   ],
   "source": [
    "print (rooks_are_safe\n",
    "([(0,0,0),\n",
    "(0,1,0),\n",
    "(0,0,1)]))"
   ]
  },
  {
   "cell_type": "code",
   "execution_count": 24,
   "metadata": {},
   "outputs": [],
   "source": [
    "import numpy as np\n",
    "\n",
    "def rooks_are_safe_np(chessboard):\n",
    "    cb = np.array(chessboard)\n",
    "    for r in cb:\n",
    "        s = sum(r)\n",
    "        if s>1:\n",
    "            return False\n",
    "    for c in cb.T:\n",
    "        s = sum(c)\n",
    "        if s>1:\n",
    "            return False\n",
    "    return True"
   ]
  },
  {
   "cell_type": "markdown",
   "metadata": {},
   "source": [
    "## Exercise 2 : Dictionaries\n",
    "\n",
    "Create a csv file describing 5 fruits, their color, weight and price.\n",
    "\n",
    "Read the csv file into a dictionary.\n",
    "\n",
    "a. Write a code to print all row values.\n",
    "\n",
    "b. Write a code to print only the fruit names.\n",
    "\n",
    "c. Write a code to check if value 2 pounds exists in the dictionary. Print (\"This fruit costs 2 pounds\" or \"No fruit costs 2 pounds\")\n",
    "\n",
    "d. Write a code to check which fruit has the highest price and print it.\n"
   ]
  },
  {
   "cell_type": "code",
   "execution_count": 25,
   "metadata": {},
   "outputs": [],
   "source": [
    "import csv\n",
    "fruits = []\n",
    "with open('solutions_fruit.csv') as csvfile:\n",
    "    reader = csv.DictReader(csvfile)\n",
    "    for r in reader:\n",
    "        fruits.append(r)"
   ]
  },
  {
   "cell_type": "code",
   "execution_count": 26,
   "metadata": {},
   "outputs": [
    {
     "name": "stdout",
     "output_type": "stream",
     "text": [
      "{'name': 'apple', 'colour': 'red', 'weight': '100', 'price': '0.5'}\n",
      "{'name': 'banana', 'colour': 'yellow', 'weight': '200', 'price': '0.25'}\n",
      "{'name': 'mango', 'colour': 'yellow', 'weight': '300', 'price': '2'}\n",
      "{'name': 'pear', 'colour': 'green', 'weight': '100', 'price': '0.5'}\n",
      "{'name': 'plum', 'colour': 'purple', 'weight': '50', 'price': '0.1'}\n"
     ]
    }
   ],
   "source": [
    "for f in fruits:\n",
    "    print(f)"
   ]
  },
  {
   "cell_type": "code",
   "execution_count": 27,
   "metadata": {},
   "outputs": [
    {
     "name": "stdout",
     "output_type": "stream",
     "text": [
      "apple\n",
      "banana\n",
      "mango\n",
      "pear\n",
      "plum\n"
     ]
    }
   ],
   "source": [
    "for f in fruits:\n",
    "    print(f['name'])"
   ]
  },
  {
   "cell_type": "code",
   "execution_count": 28,
   "metadata": {},
   "outputs": [],
   "source": [
    "def checkPrice(d,p):\n",
    "    foundFruit = []\n",
    "    for f in d:\n",
    "        if float(f['price'])==p:\n",
    "            foundFruit.append(f['name'])\n",
    "    if foundFruit:\n",
    "        for f in foundFruit:\n",
    "            print(f\"{f} costs {p} pounds\")\n",
    "    else:\n",
    "        print(f\"No fruit costs {p} pounds\")"
   ]
  },
  {
   "cell_type": "code",
   "execution_count": 31,
   "metadata": {},
   "outputs": [
    {
     "name": "stdout",
     "output_type": "stream",
     "text": [
      "No fruit costs 100 pounds\n"
     ]
    }
   ],
   "source": [
    "checkPrice(fruits,100)"
   ]
  },
  {
   "cell_type": "code",
   "execution_count": 32,
   "metadata": {},
   "outputs": [
    {
     "name": "stdout",
     "output_type": "stream",
     "text": [
      "('mango', 2.0)\n"
     ]
    }
   ],
   "source": [
    "highestValue = (None,0)\n",
    "for f in fruits:\n",
    "    value = float(f['price'])\n",
    "    if value > highestValue[1]:\n",
    "        highestValue = (f['name'],value)\n",
    "print(highestValue)"
   ]
  },
  {
   "cell_type": "markdown",
   "metadata": {},
   "source": [
    "## Exercise 3: Classes\n",
    "\n",
    "Create a Pokemon class, with attributes:\n",
    "- Name\n",
    "- HP\n",
    "- Power\n",
    "- Alive\n",
    "\n",
    "and two functions:\n",
    "\n",
    "- attack: which as argument receives another pokemon, and reduces that pokemons HP by the power of the pokemon that attacks, up to 0, if the HP reaches 0 the alive boolean should be set to False. \n",
    "\n",
    "- a description function which prints the name and status of the pokemon. \n",
    "    "
   ]
  },
  {
   "cell_type": "code",
   "execution_count": 39,
   "metadata": {},
   "outputs": [],
   "source": [
    "class Pokemon:\n",
    "    def __init__(self,name,hp,power,skill):\n",
    "        self.name = name\n",
    "        self.hp = hp\n",
    "        self.power = power\n",
    "        self.skill = skill\n",
    "        self.alive = True\n",
    "    \n",
    "    def attack(self, enemy):\n",
    "        enemy.hp -= self.power\n",
    "        if enemy.hp <=0:\n",
    "            enemy.hp = 0\n",
    "            enemy.alive = False\n",
    "    \n",
    "    def describe(self):\n",
    "        if self.alive:\n",
    "            print(f\"{self.name} has {self.hp} HP left\")\n",
    "        else:\n",
    "            print(f\"{self.name} has fainted\")"
   ]
  },
  {
   "cell_type": "code",
   "execution_count": 40,
   "metadata": {},
   "outputs": [],
   "source": [
    "pikachu = Pokemon(\"Pikachu\",70,10, 'Thunderbolt')\n",
    "snorlax = Pokemon(\"Snorlax\",200,5, 'Bodyslam')"
   ]
  },
  {
   "cell_type": "code",
   "execution_count": 41,
   "metadata": {},
   "outputs": [
    {
     "name": "stdout",
     "output_type": "stream",
     "text": [
      "Pikachu has 65 HP left\n",
      "Snorlax has 190 HP left\n",
      "------\n",
      "Pikachu has 60 HP left\n",
      "Snorlax has 180 HP left\n",
      "------\n",
      "Pikachu has 55 HP left\n",
      "Snorlax has 170 HP left\n",
      "------\n",
      "Pikachu has 50 HP left\n",
      "Snorlax has 160 HP left\n",
      "------\n",
      "Pikachu has 45 HP left\n",
      "Snorlax has 150 HP left\n",
      "------\n",
      "Pikachu has 40 HP left\n",
      "Snorlax has 140 HP left\n",
      "------\n",
      "Pikachu has 35 HP left\n",
      "Snorlax has 130 HP left\n",
      "------\n",
      "Pikachu has 30 HP left\n",
      "Snorlax has 120 HP left\n",
      "------\n",
      "Pikachu has 25 HP left\n",
      "Snorlax has 110 HP left\n",
      "------\n",
      "Pikachu has 20 HP left\n",
      "Snorlax has 100 HP left\n",
      "------\n",
      "Pikachu has 15 HP left\n",
      "Snorlax has 90 HP left\n",
      "------\n",
      "Pikachu has 10 HP left\n",
      "Snorlax has 80 HP left\n",
      "------\n",
      "Pikachu has 5 HP left\n",
      "Snorlax has 70 HP left\n",
      "------\n",
      "Pikachu has fainted\n",
      "Snorlax has 60 HP left\n",
      "------\n"
     ]
    }
   ],
   "source": [
    "while pikachu.alive and snorlax.alive:\n",
    "    pikachu.attack(snorlax)\n",
    "    snorlax.attack(pikachu)\n",
    "    pikachu.describe()\n",
    "    snorlax.describe()\n",
    "    print(\"------\")"
   ]
  },
  {
   "cell_type": "code",
   "execution_count": 43,
   "metadata": {},
   "outputs": [
    {
     "name": "stdout",
     "output_type": "stream",
     "text": [
      "Pokemon Duel ! ! !\n",
      "Player 1\n",
      "Choose your pokemon from [1-5]:1\n",
      "Your pokemon is: Greninja\n",
      "Player 2\n",
      "Choose your pokemon from [1-5]:2\n",
      "Your pokemon is: Machamp\n",
      "R O U N D 0\n",
      "Greninja VS Machamp\n",
      "Machamp Attacks!\n",
      "Greninja deals with damage of 479\n",
      "Greninja's health is now 4673\n",
      "Greninja Attacks!\n",
      "Machamp deals with damage of 460\n",
      "Machamp's health is now 7190\n",
      "\n",
      "R O U N D 1\n",
      "Greninja VS Machamp\n",
      "Machamp Attacks!\n",
      "Greninja deals with damage of 479\n",
      "Greninja's health is now 4194\n",
      "Greninja Attacks!\n",
      "Machamp deals with damage of 460\n",
      "Machamp's health is now 6730\n",
      "\n",
      "R O U N D 2\n",
      "Greninja VS Machamp\n",
      "Machamp Attacks!\n",
      "Greninja deals with damage of 479\n",
      "Greninja's health is now 3715\n",
      "Greninja Attacks!\n",
      "Machamp deals with damage of 460\n",
      "Machamp's health is now 6270\n",
      "\n",
      "R O U N D 3\n",
      "Greninja VS Machamp\n",
      "Machamp Attacks!\n",
      "Greninja deals with damage of 479\n",
      "Greninja's health is now 3236\n",
      "Greninja Attacks!\n",
      "Machamp deals with damage of 460\n",
      "Machamp's health is now 5810\n",
      "\n",
      "R O U N D 4\n",
      "Greninja VS Machamp\n",
      "Machamp Attacks!\n",
      "Greninja deals with damage of 479\n",
      "Greninja's health is now 2757\n",
      "Greninja Attacks!\n",
      "Machamp deals with damage of 460\n",
      "Machamp's health is now 5350\n",
      "\n",
      "R O U N D 5\n",
      "Greninja VS Machamp\n",
      "Machamp Attacks!\n",
      "Greninja deals with damage of 479\n",
      "Greninja's health is now 2278\n",
      "Greninja Attacks!\n",
      "Machamp deals with damage of 460\n",
      "Machamp's health is now 4890\n",
      "\n",
      "R O U N D 6\n",
      "Greninja VS Machamp\n",
      "Machamp Attacks!\n",
      "Greninja deals with damage of 479\n",
      "Greninja's health is now 1799\n",
      "Greninja Attacks!\n",
      "Machamp deals with damage of 460\n",
      "Machamp's health is now 4430\n",
      "\n",
      "R O U N D 7\n",
      "Greninja VS Machamp\n",
      "Machamp Attacks!\n",
      "Greninja deals with damage of 479\n",
      "Greninja's health is now 1320\n",
      "Greninja Attacks!\n",
      "Machamp deals with damage of 460\n",
      "Machamp's health is now 3970\n",
      "\n",
      "R O U N D 8\n",
      "Greninja VS Machamp\n",
      "Machamp Attacks!\n",
      "Greninja deals with damage of 479\n",
      "Greninja's health is now 841\n",
      "Greninja Attacks!\n",
      "Machamp deals with damage of 460\n",
      "Machamp's health is now 3510\n",
      "\n",
      "R O U N D 9\n",
      "Greninja VS Machamp\n",
      "Machamp Attacks!\n",
      "Greninja deals with damage of 479\n",
      "Greninja's health is now 362\n",
      "Greninja Attacks!\n",
      "Machamp deals with damage of 460\n",
      "Machamp's health is now 3050\n",
      "\n",
      "R O U N D 10\n",
      "Greninja VS Machamp\n",
      "Machamp Attacks!\n",
      "Greninja deals with damage of 479\n",
      "Greninja's health is now 0\n",
      "Greninja Attacks!\n",
      "Machamp deals with damage of 460\n",
      "Machamp's health is now 2590\n",
      "\n"
     ]
    }
   ],
   "source": [
    "class Pokemon:\n",
    "    def __init__(self, name, power, HP, Alive):\n",
    "        self.name = name\n",
    "        self.power = power\n",
    "        self.hp = HP\n",
    "        self.alive = True\n",
    "    \n",
    "    def attack(self, enemy):\n",
    "        enemy.hp -= self.power\n",
    "        if enemy.hp <=0:\n",
    "            enemy.hp = 0\n",
    "            enemy.alive = False\n",
    "        \n",
    "def Choice(a):\n",
    "    print(\"Player\", end = \" \")\n",
    "    print(a)\n",
    "    a = int(input(\"Choose your pokemon from [1-5]:\"))\n",
    "    return a\n",
    "\n",
    "def duel(x,y):\n",
    "     print(y.name, end = \" \")\n",
    "     print(\"Attacks!\")\n",
    "     y.attack(x)\n",
    "     print(x.name, end = \" \")\n",
    "     print(\"deals with damage of \", end = \"\")\n",
    "     print(y.power)\n",
    "     print(x.name, end = \"\")\n",
    "     print(\"'s health is now\", end = \" \")\n",
    "     print(x.hp)\n",
    "    \n",
    "\n",
    "print(\"Pokemon Duel ! ! !\")\n",
    "\n",
    "r = 0\n",
    "i = 1\n",
    "j = 2\n",
    "i = Choice(i)\n",
    "if i == 1:\n",
    " i = Pokemon('Greninja', 460, 5152, True)  \n",
    "elif i == 2:\n",
    " i = Pokemon('Blastoise', 393, 9800, True)\n",
    "elif i == 3:\n",
    " i = Pokemon('Venusaur', 293 , 6321, True)\n",
    "elif i == 4:\n",
    " i = Pokemon('Cinderace', 418, 5400, True)\n",
    "else:\n",
    " i = Pokemon('Snorlax', 345, 9899, True)  \n",
    "print(\"Your pokemon is:\", end = \" \")\n",
    "print(i.name)\n",
    "\n",
    "j = Choice(j)\n",
    "if j == 1:\n",
    " j = Pokemon('Charizard', 463, 7700, True)  \n",
    "elif j == 2:\n",
    " j = Pokemon('Machamp', 479, 7650, True)\n",
    "elif j == 3:\n",
    " j = Pokemon('Pikachu', 290, 6300, True)\n",
    "elif j == 4:\n",
    " j = Pokemon('Lucario', 440, 7249, True)\n",
    "else:\n",
    " j = Pokemon('Mew', 300, 6500, True)  \n",
    "print(\"Your pokemon is:\", end = \" \")\n",
    "print(j.name)\n",
    "\n",
    "while i.alive == True and j.alive == True:\n",
    "    print(\"R O U N D\" , end = \" \")\n",
    "    print(r)\n",
    "    print(i.name, end = \" \")\n",
    "    print(\"VS\", end =\" \")\n",
    "    print(j.name)\n",
    "    if i.hp > 0 and j.hp > 0:\n",
    "        duel(i,j)\n",
    "        duel(j,i)\n",
    "        r = r +1\n",
    "        print(\"\")\n",
    "\n",
    "\n",
    "    elif i.hp >= 0:\n",
    "        print(i.name, end =\" \")\n",
    "        print(\"W I N S ! ! !\")\n",
    "        j.alive = False\n",
    "    \n",
    "    elif j.hp >= 0:\n",
    "        print(j.name, end =\" \")\n",
    "        print(\"W I N S ! ! !\")\n",
    "        i.alive = False\n",
    "    \n",
    "    else:\n",
    "        print(\"Its a D R A W!\")\n",
    "        i.alive = False\n",
    "        j.alive = False"
   ]
  },
  {
   "cell_type": "markdown",
   "metadata": {},
   "source": [
    "## Exercise 4 : Datasets\n",
    "\n",
    "Open and read the file 2015DeprivationScore.csv .\n",
    "\n",
    "a. Write a code to print the length of the dataset.\n",
    "\n",
    "b. Write a code to sort the content based on Income Rank. Print top 5.\n",
    "\n",
    "c. Write a code to show the number of LSOA that have a Living Environment Score > 15.\n",
    "\n",
    "d. Write a code that prints the LSOA that have Index of Deprivation Score > 85.\n",
    "\n",
    "d. Write a code that prints the Index of Deprivation Score for Islington.\n",
    "\n"
   ]
  },
  {
   "cell_type": "code",
   "execution_count": 44,
   "metadata": {},
   "outputs": [],
   "source": [
    "import csv\n",
    "deprivation = []\n",
    "with open('2015DeprivationScore.csv') as csvfile:\n",
    "    reader = csv.DictReader(csvfile)\n",
    "    for r in reader:\n",
    "        deprivation.append(r)"
   ]
  },
  {
   "cell_type": "code",
   "execution_count": 45,
   "metadata": {},
   "outputs": [
    {
     "name": "stdout",
     "output_type": "stream",
     "text": [
      "32844\n"
     ]
    }
   ],
   "source": [
    "print(len(deprivation))"
   ]
  },
  {
   "cell_type": "code",
   "execution_count": 46,
   "metadata": {},
   "outputs": [
    {
     "name": "stdout",
     "output_type": "stream",
     "text": [
      "LSOA code (2011)\n",
      "LSOA name (2011)\n",
      "Local Authority District code (2013)\n",
      "Local Authority District name (2013)\n",
      "Index of Multiple Deprivation (IMD) Score\n",
      "Index of Multiple Deprivation (IMD) Rank (where 1 is most deprived)\n",
      "Index of Multiple Deprivation (IMD) Decile (where 1 is most deprived 10% of LSOAs)\n",
      "Income Score (rate)\n",
      "Income Rank (where 1 is most deprived)\n",
      "Income Decile (where 1 is most deprived 10% of LSOAs)\n",
      "Employment Score (rate)\n",
      "Employment Rank (where 1 is most deprived)\n",
      "Employment Decile (where 1 is most deprived 10% of LSOAs)\n",
      "Education, Skills and Training Score\n",
      "Education, Skills and Training Rank (where 1 is most deprived)\n",
      "Education, Skills and Training Decile (where 1 is most deprived 10% of LSOAs)\n",
      "Health Deprivation and Disability Score\n",
      "Health Deprivation and Disability Rank (where 1 is most deprived)\n",
      "Health Deprivation and Disability Decile (where 1 is most deprived 10% of LSOAs)\n",
      "Crime Score\n",
      "Crime Rank (where 1 is most deprived)\n",
      "Crime Decile (where 1 is most deprived 10% of LSOAs)\n",
      "Barriers to Housing and Services Score\n",
      "Barriers to Housing and Services Rank (where 1 is most deprived)\n",
      "Barriers to Housing and Services Decile (where 1 is most deprived 10% of LSOAs)\n",
      "Living Environment Score\n",
      "Living Environment Rank (where 1 is most deprived)\n",
      "Living Environment Decile (where 1 is most deprived 10% of LSOAs)\n",
      "Income Deprivation Affecting Children Index (IDACI) Score (rate)\n",
      "Income Deprivation Affecting Children Index (IDACI) Rank (where 1 is most deprived)\n",
      "Income Deprivation Affecting Children Index (IDACI) Decile (where 1 is most deprived 10% of LSOAs)\n",
      "Income Deprivation Affecting Older People (IDAOPI) Score (rate)\n",
      "Income Deprivation Affecting Older People (IDAOPI) Rank (where 1 is most deprived)\n",
      "Income Deprivation Affecting Older People (IDAOPI) Decile (where 1 is most deprived 10% of LSOAs)\n",
      "Children and Young People Sub-domain Score\n",
      "Children and Young People Sub-domain Rank (where 1 is most deprived)\n",
      "Children and Young People Sub-domain Decile (where 1 is most deprived 10% of LSOAs)\n",
      "Adult Skills Sub-domain Score\n",
      "Adult Skills Sub-domain Rank (where 1 is most deprived)\n",
      "Adult Skills Sub-domain Decile (where 1 is most deprived 10% of LSOAs)\n",
      "Geographical Barriers Sub-domain Score\n",
      "Geographical Barriers Sub-domain Rank (where 1 is most deprived)\n",
      "Geographical Barriers Sub-domain Decile (where 1 is most deprived 10% of LSOAs)\n",
      "Wider Barriers Sub-domain Score\n",
      "Wider Barriers Sub-domain Rank (where 1 is most deprived)\n",
      "Wider Barriers Sub-domain Decile (where 1 is most deprived 10% of LSOAs)\n",
      "Indoors Sub-domain Score\n",
      "Indoors Sub-domain Rank (where 1 is most deprived)\n",
      "Indoors Sub-domain Decile (where 1 is most deprived 10% of LSOAs)\n",
      "Outdoors Sub-domain Score\n",
      "Outdoors Sub-domain Rank (where 1 is most deprived)\n",
      "Outdoors Sub-domain Decile (where 1 is most deprived 10% of LSOAs)\n",
      "Total population: mid 2012 (excluding prisoners)\n",
      "Dependent Children aged 0-15: mid 2012 (excluding prisoners)\n",
      "Population aged 16-59: mid 2012 (excluding prisoners)\n",
      "Older population aged 60 and over: mid 2012 (excluding prisoners)\n",
      "Working age population 18-59/64: for use with Employment Deprivation Domain (excluding prisoners) \n"
     ]
    }
   ],
   "source": [
    "for k in deprivation[0].keys():\n",
    "    print(k)"
   ]
  },
  {
   "cell_type": "code",
   "execution_count": 50,
   "metadata": {},
   "outputs": [
    {
     "name": "stdout",
     "output_type": "stream",
     "text": [
      "Sheffield 038C 32844\n",
      "Elmbridge 018D 32843\n",
      "Sheffield 073E 32842\n",
      "Wycombe 022D 32841\n",
      "St Albans 005B 32840\n"
     ]
    }
   ],
   "source": [
    "deprivation.sort(key = lambda x:float(x['Income Rank (where 1 is most deprived)']), reverse=True)\n",
    "for d in deprivation[0:5]:\n",
    "    print(d['LSOA name (2011)'], d['Income Rank (where 1 is most deprived)'])"
   ]
  },
  {
   "cell_type": "code",
   "execution_count": 51,
   "metadata": {},
   "outputs": [
    {
     "name": "stdout",
     "output_type": "stream",
     "text": [
      "18545\n"
     ]
    }
   ],
   "source": [
    "threshold = 15\n",
    "nr = 0\n",
    "for d in deprivation:\n",
    "    if float(d['Living Environment Score']) > threshold:\n",
    "        nr+=1\n",
    "print(nr)"
   ]
  },
  {
   "cell_type": "code",
   "execution_count": 52,
   "metadata": {},
   "outputs": [
    {
     "data": {
      "text/plain": [
       "['Blackpool 013A',\n",
       " 'Blackpool 006A',\n",
       " 'Blackpool 013D',\n",
       " 'Tendring 016B',\n",
       " 'Thanet 001A',\n",
       " 'Tendring 018A',\n",
       " 'Coventry 007E',\n",
       " 'Blackpool 010A']"
      ]
     },
     "execution_count": 52,
     "metadata": {},
     "output_type": "execute_result"
    }
   ],
   "source": [
    "threshold = 85\n",
    "names = []\n",
    "for d in deprivation:\n",
    "    if float(d['Index of Multiple Deprivation (IMD) Score']) > threshold:\n",
    "        names.append(d['LSOA name (2011)'])\n",
    "names"
   ]
  },
  {
   "cell_type": "code",
   "execution_count": 54,
   "metadata": {},
   "outputs": [
    {
     "name": "stdout",
     "output_type": "stream",
     "text": [
      "Islington average deprivation is 32.645243902439006\n"
     ]
    }
   ],
   "source": [
    "total = []\n",
    "for d in deprivation:\n",
    "    if 'Islington' in d['LSOA name (2011)']:\n",
    "        #print(d['LSOA name (2011)'], d['Index of Multiple Deprivation (IMD) Score'])\n",
    "        total.append(float(d['Index of Multiple Deprivation (IMD) Score']))\n",
    "\n",
    "average = sum(total)/len(total)\n",
    "print(f\"Islington average deprivation is {average}\")"
   ]
  },
  {
   "cell_type": "markdown",
   "metadata": {},
   "source": [
    "## Exercise 5 : Data visualisation\n",
    "\n",
    "Visualise your dataset. Import matplotlib library to assist you for the creation of the diagrams. Data visualisation can assist to the understanding of data values and their correlation.\n",
    "\n",
    "Use the datasets from the exercise above and create at least 3 diagrams. It is advised to explore the basic scatterplot and bar functions.\n",
    "Define the size of the figure, labels, color and title. \n",
    "\n",
    "(Note:https://matplotlib.org/stable/plot_types/basic/index.html)"
   ]
  },
  {
   "cell_type": "code",
   "execution_count": null,
   "metadata": {},
   "outputs": [],
   "source": []
  },
  {
   "cell_type": "markdown",
   "metadata": {},
   "source": [
    "## Exercise 6 : Image manipulation\n",
    "\n",
    "Read an image of your selection. It is advised to select an image and figure out how to use the course knowledge for reading that image from your desktop/folder.\n",
    "\n",
    "a. Write a code to show the image and print its size.\n",
    "\n",
    "b. Following the course material, create an alternative visualisation of your selected image. Be creative!"
   ]
  },
  {
   "cell_type": "code",
   "execution_count": 55,
   "metadata": {},
   "outputs": [
    {
     "name": "stdout",
     "output_type": "stream",
     "text": [
      "(378, 264)\n"
     ]
    }
   ],
   "source": [
    "from PIL import Image\n",
    "\n",
    "img = Image.open('MagrittePipe.jpg')\n",
    "\n",
    "Img = img.convert('L')\n",
    "\n",
    "Img.save(\"test1.jpg\")\n",
    "\n",
    "size = img.size\n",
    "print(size)\n",
    "\n",
    "threshold = 200\n",
    "\n",
    "for i in range(size[0]):\n",
    "    for j in range(size[1]):\n",
    "        pixel = img.getpixel((i,j))\n",
    "\n",
    "        if pixel[0]>threshold:\n",
    "          tone=0\n",
    "        else :\n",
    "          tone=255\n",
    "        \n",
    "        img.putpixel((i,j),(tone,tone,tone))\n",
    "\n",
    "img.show()"
   ]
  },
  {
   "cell_type": "code",
   "execution_count": null,
   "metadata": {},
   "outputs": [],
   "source": []
  }
 ],
 "metadata": {
  "kernelspec": {
   "display_name": "Python 3 (ipykernel)",
   "language": "python",
   "name": "python3"
  },
  "language_info": {
   "codemirror_mode": {
    "name": "ipython",
    "version": 3
   },
   "file_extension": ".py",
   "mimetype": "text/x-python",
   "name": "python",
   "nbconvert_exporter": "python",
   "pygments_lexer": "ipython3",
   "version": "3.8.13"
  }
 },
 "nbformat": 4,
 "nbformat_minor": 4
}
