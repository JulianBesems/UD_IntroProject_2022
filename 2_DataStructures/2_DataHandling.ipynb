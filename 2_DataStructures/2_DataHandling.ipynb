{
 "cells": [
  {
   "cell_type": "markdown",
   "id": "cc0ad464",
   "metadata": {},
   "source": [
    "---\n",
    "<br/><br/>\n",
    "<br/><br/>\n",
    "<br/><br/>\n",
    "## Session 2 \n",
    "\n",
    "### Classes, Read and Write files, Vectors\n",
    "\n",
    "_Julian Besems_\n",
    "<br/><br/>\n",
    "<br/><br/>\n",
    "<br/><br/>"
   ]
  },
  {
   "cell_type": "markdown",
   "id": "dbb20e5d",
   "metadata": {},
   "source": [
    "------------------\n",
    "<br/><br/>\n",
    "<br/><br/>\n",
    "<br/><br/>\n",
    "# Contents\n",
    "- _Classes_: a means to create custom data object, including attributes and functions\n",
    "- Read and write files:\n",
    "    - Text files, CSV files, Images\n",
    "- 2D and 3D arrays\n",
    "- Vectors\n",
    "<br/><br/>\n",
    "<br/><br/>\n",
    "<br/><br/>"
   ]
  },
  {
   "cell_type": "markdown",
   "id": "e6f99353",
   "metadata": {},
   "source": [
    "---\n",
    "\n",
    "## Object Orientation\n",
    "\n",
    "\"Object-oriented programming (OOP) is a computer programming model that organizes software design around data, or objects, rather than functions and logic. An object can be defined as a data field that has unique attributes and behavior.\" - \n",
    "_A. Gillis_"
   ]
  },
  {
   "cell_type": "markdown",
   "id": "d5cf4608",
   "metadata": {},
   "source": [
    "---\n",
    "<img src=\"https://l87r32c95dp1hz05tig4px11-wpengine.netdna-ssl.com/wp-content/uploads/2019/04/Pattern_Language1-768x901.jpg\" alt=\"drawing\" width=\"600\"/><br/><br/>"
   ]
  },
  {
   "cell_type": "markdown",
   "id": "5fe9c40b",
   "metadata": {},
   "source": [
    "---\n",
    "<img src=\"https://springframework.guru/wp-content/uploads/2015/04/9780201633610.jpg\" alt=\"drawing\" width=\"500\"/><br/><br/>"
   ]
  },
  {
   "cell_type": "markdown",
   "id": "355518a3",
   "metadata": {},
   "source": [
    "---\n",
    "<br/><br/>\n",
    "<br/><br/>\n",
    "# Classes and Objects\n",
    "\n",
    "__In Python every object is an instance of a class. The class defines the characteristics an object can have.__\n",
    "\n",
    "<br/><br/>\n",
    "---"
   ]
  },
  {
   "cell_type": "markdown",
   "id": "30ea40cf",
   "metadata": {},
   "source": [
    "---\n",
    "<br/><br/>\n",
    "<br/><br/>\n",
    "## Real life example\n",
    "\n",
    "- Cars are one class of objects\n",
    "- a specific car is an object\n",
    "\n",
    "\n",
    "The class of cars is defined by a set of __Attributes__ and a set of __Methods__\n",
    "\n",
    "---\n",
    "### Attributes of Car\n",
    "- weight\n",
    "- colour\n",
    "- brand\n",
    "- height\n",
    "- width\n",
    "- top speed\n",
    "- etc.\n",
    "\n",
    "---\n",
    "### Methods of Car\n",
    "- drive\n",
    "- break\n",
    "- drive backwards\n",
    "- change gear\n",
    "- etc.\n",
    "\n",
    "---\n",
    "\n",
    "### Instance of car\n",
    "\n",
    "- weight = 800 kg\n",
    "- Colour = Red\n",
    "- Brand = Ford\n",
    "- Height = 1700\n",
    "- Width = 1600\n",
    "- etc.\n",
    "\n",
    "<br/><br/>\n",
    "---"
   ]
  },
  {
   "cell_type": "code",
   "execution_count": 1,
   "id": "533cbcda",
   "metadata": {},
   "outputs": [],
   "source": [
    "class Car:    \n",
    "    def __init__(self, colour):\n",
    "        self.brand = 'ford'\n",
    "        self.colour = colour\n",
    "        self.numberPlate = ['a','b','c','d','e']\n",
    "    \n",
    "    def describe(self):\n",
    "        print('this car is a ' + self.colour + ' ' + self.brand)"
   ]
  },
  {
   "cell_type": "markdown",
   "id": "5d43b6df",
   "metadata": {},
   "source": [
    "```Car``` : name of the class\n",
    "\n",
    "```def __init__(self, ...) ``` : initialise function\n",
    "\n",
    "```colour``` : initialise argument\n",
    "\n",
    "```self.brand = 'ford'``` : default value variable\n",
    "\n",
    "```self.colour = colour``` : instantiated value variable \n",
    "\n",
    "```def describe ...``` : functions within the class"
   ]
  },
  {
   "cell_type": "code",
   "execution_count": 2,
   "id": "6319b378",
   "metadata": {},
   "outputs": [
    {
     "name": "stdout",
     "output_type": "stream",
     "text": [
      "this car is a red ford\n"
     ]
    }
   ],
   "source": [
    "car = Car('red')\n",
    "car.describe()"
   ]
  },
  {
   "cell_type": "code",
   "execution_count": 3,
   "id": "73d91aeb",
   "metadata": {},
   "outputs": [],
   "source": [
    "car.brand = 'BMW'"
   ]
  },
  {
   "cell_type": "code",
   "execution_count": 4,
   "id": "3f64f660",
   "metadata": {},
   "outputs": [
    {
     "name": "stdout",
     "output_type": "stream",
     "text": [
      "this car is a red BMW\n"
     ]
    }
   ],
   "source": [
    "car.describe()"
   ]
  },
  {
   "cell_type": "markdown",
   "id": "c606015d",
   "metadata": {},
   "source": [
    "---\n",
    "__Pointers__\n",
    "\n",
    "__In a computer memory has addresses.__\n",
    "\n",
    "An address refers to content where a value can be stored _(usually)_. \n"
   ]
  },
  {
   "cell_type": "markdown",
   "id": "bc04a339",
   "metadata": {},
   "source": [
    "<br/><br/>\n",
    "<img src=\"https://upload.wikimedia.org/wikipedia/commons/thumb/b/b4/Pointers.svg/1920px-Pointers.svg.png\" alt=\"drawing\" width=\"200\"/>\n",
    "\n",
    "For more info:\n",
    "https://en.wikipedia.org/wiki/Pointer_(computer_programming)"
   ]
  },
  {
   "cell_type": "code",
   "execution_count": 5,
   "id": "cd9b2762",
   "metadata": {},
   "outputs": [],
   "source": [
    "car2 = car"
   ]
  },
  {
   "cell_type": "code",
   "execution_count": 6,
   "id": "3ee7fa7b",
   "metadata": {},
   "outputs": [
    {
     "name": "stdout",
     "output_type": "stream",
     "text": [
      "this car is a red BMW\n"
     ]
    }
   ],
   "source": [
    "car2.describe()"
   ]
  },
  {
   "cell_type": "code",
   "execution_count": 7,
   "id": "24d84403",
   "metadata": {},
   "outputs": [
    {
     "name": "stdout",
     "output_type": "stream",
     "text": [
      "this car is a red BMW\n"
     ]
    }
   ],
   "source": [
    "car.describe()"
   ]
  },
  {
   "cell_type": "code",
   "execution_count": 8,
   "id": "f776d9ed",
   "metadata": {},
   "outputs": [],
   "source": [
    "car2.brand = 'VW'"
   ]
  },
  {
   "cell_type": "code",
   "execution_count": 9,
   "id": "adf186c2",
   "metadata": {},
   "outputs": [
    {
     "name": "stdout",
     "output_type": "stream",
     "text": [
      "this car is a red VW\n"
     ]
    }
   ],
   "source": [
    "car.describe()"
   ]
  },
  {
   "cell_type": "code",
   "execution_count": 10,
   "id": "5ce70a5f",
   "metadata": {},
   "outputs": [
    {
     "name": "stdout",
     "output_type": "stream",
     "text": [
      "4375872992\n",
      "4375872992\n"
     ]
    }
   ],
   "source": [
    "print(id(car))\n",
    "print(id(car2))"
   ]
  },
  {
   "cell_type": "code",
   "execution_count": 11,
   "id": "f80c9b5e",
   "metadata": {},
   "outputs": [],
   "source": [
    "import copy\n",
    "car2 = copy.copy(car)\n",
    "car2.brand = 'Audi'"
   ]
  },
  {
   "cell_type": "code",
   "execution_count": 12,
   "id": "3d576234",
   "metadata": {},
   "outputs": [
    {
     "name": "stdout",
     "output_type": "stream",
     "text": [
      "this car is a red VW\n"
     ]
    }
   ],
   "source": [
    "car.describe()"
   ]
  },
  {
   "cell_type": "code",
   "execution_count": 13,
   "id": "817007d6",
   "metadata": {},
   "outputs": [
    {
     "name": "stdout",
     "output_type": "stream",
     "text": [
      "this car is a red Audi\n"
     ]
    }
   ],
   "source": [
    "car2.describe()"
   ]
  },
  {
   "cell_type": "code",
   "execution_count": 14,
   "id": "5aa458c1",
   "metadata": {},
   "outputs": [
    {
     "name": "stdout",
     "output_type": "stream",
     "text": [
      "4375872992\n",
      "4375872944\n"
     ]
    }
   ],
   "source": [
    "print(id(car))\n",
    "print(id(car2))"
   ]
  },
  {
   "cell_type": "code",
   "execution_count": 15,
   "id": "7f1ab2c1",
   "metadata": {},
   "outputs": [],
   "source": [
    "car2.numberPlate[0] = 1"
   ]
  },
  {
   "cell_type": "code",
   "execution_count": 16,
   "id": "fb6667b2",
   "metadata": {},
   "outputs": [
    {
     "name": "stdout",
     "output_type": "stream",
     "text": [
      "[1, 'b', 'c', 'd', 'e']\n"
     ]
    }
   ],
   "source": [
    "print(car.numberPlate)"
   ]
  },
  {
   "cell_type": "code",
   "execution_count": 17,
   "id": "26f63f91",
   "metadata": {},
   "outputs": [
    {
     "name": "stdout",
     "output_type": "stream",
     "text": [
      "4375957824\n",
      "4375957824\n"
     ]
    }
   ],
   "source": [
    "print(id(car.numberPlate))\n",
    "print(id(car2.numberPlate))"
   ]
  },
  {
   "cell_type": "code",
   "execution_count": 18,
   "id": "e0bd866e",
   "metadata": {},
   "outputs": [],
   "source": [
    "car2 = copy.deepcopy(car)\n",
    "car2.numberPlate[0] = 8"
   ]
  },
  {
   "cell_type": "code",
   "execution_count": 19,
   "id": "22a90630",
   "metadata": {},
   "outputs": [
    {
     "name": "stdout",
     "output_type": "stream",
     "text": [
      "[1, 'b', 'c', 'd', 'e']\n",
      "[8, 'b', 'c', 'd', 'e']\n"
     ]
    }
   ],
   "source": [
    "print(car.numberPlate)\n",
    "print(car2.numberPlate)"
   ]
  },
  {
   "cell_type": "code",
   "execution_count": 20,
   "id": "c6e5f46d",
   "metadata": {
    "scrolled": true
   },
   "outputs": [
    {
     "name": "stdout",
     "output_type": "stream",
     "text": [
      "4375957824\n",
      "4375954944\n"
     ]
    }
   ],
   "source": [
    "print(id(car.numberPlate))\n",
    "print(id(car2.numberPlate))"
   ]
  },
  {
   "cell_type": "markdown",
   "id": "a6e3567d",
   "metadata": {},
   "source": [
    "---\n",
    "\n",
    "# Read and Write Files\n",
    "\n",
    "There are many ways of interacting with external information, we'll cover 4 basic ways here."
   ]
  },
  {
   "cell_type": "markdown",
   "id": "5f609455",
   "metadata": {},
   "source": [
    "---\n",
    "\n",
    "### Text files"
   ]
  },
  {
   "cell_type": "code",
   "execution_count": 21,
   "id": "bc5cc464",
   "metadata": {},
   "outputs": [
    {
     "name": "stdout",
     "output_type": "stream",
     "text": [
      "hello\n",
      "This is the first file we're going to read\n",
      "it just has some text\n",
      "\n"
     ]
    }
   ],
   "source": [
    "f = open(\"demo1.txt\", \"r\")\n",
    "print(f.read())"
   ]
  },
  {
   "cell_type": "markdown",
   "id": "69f02ae1",
   "metadata": {},
   "source": [
    "```f```: the variable containing the file object\n",
    "\n",
    "```open()```: built in function to open a file\n",
    "\n",
    "```\"demo1.txt\"```: string containing the path to the file\n",
    "\n",
    "```\"r\"```: flag to specify the way in which the file is opened, ```\"r\"``` is the read flag\n",
    "\n",
    "```f.read()```: function of the file object to read the content of the file"
   ]
  },
  {
   "cell_type": "code",
   "execution_count": 25,
   "id": "3300d3ae",
   "metadata": {},
   "outputs": [
    {
     "name": "stdout",
     "output_type": "stream",
     "text": [
      "hello\n"
     ]
    }
   ],
   "source": [
    "f = open(\"demo1.txt\", \"r\")\n",
    "print(f.read(5))"
   ]
  },
  {
   "cell_type": "code",
   "execution_count": 26,
   "id": "b96a0aa2",
   "metadata": {},
   "outputs": [
    {
     "name": "stdout",
     "output_type": "stream",
     "text": [
      "hello\n",
      "\n"
     ]
    }
   ],
   "source": [
    "f = open(\"demo1.txt\", \"r\")\n",
    "print(f.readline())"
   ]
  },
  {
   "cell_type": "code",
   "execution_count": 27,
   "id": "91f4954a",
   "metadata": {},
   "outputs": [
    {
     "name": "stdout",
     "output_type": "stream",
     "text": [
      "This is the first file we're going to read\n",
      "\n"
     ]
    }
   ],
   "source": [
    "print(f.readline())"
   ]
  },
  {
   "cell_type": "code",
   "execution_count": 28,
   "id": "97eb8ba5",
   "metadata": {},
   "outputs": [
    {
     "name": "stdout",
     "output_type": "stream",
     "text": [
      "it just has some text\n",
      "\n"
     ]
    }
   ],
   "source": [
    "print(f.readline())"
   ]
  },
  {
   "cell_type": "code",
   "execution_count": 29,
   "id": "df4210c4",
   "metadata": {},
   "outputs": [
    {
     "name": "stdout",
     "output_type": "stream",
     "text": [
      "hello\n",
      "\n",
      "This is the first file we're going to read\n",
      "\n",
      "it just has some text\n",
      "\n"
     ]
    }
   ],
   "source": [
    "f = open(\"demo1.txt\", \"r\")\n",
    "for l in f:\n",
    "    print(l)"
   ]
  },
  {
   "cell_type": "markdown",
   "id": "463b1ea1",
   "metadata": {},
   "source": [
    "__Good practice to close a file once you're done:__"
   ]
  },
  {
   "cell_type": "code",
   "execution_count": 30,
   "id": "e91ea4a9",
   "metadata": {},
   "outputs": [],
   "source": [
    "f.close()"
   ]
  },
  {
   "cell_type": "markdown",
   "id": "eb3cb1a6",
   "metadata": {},
   "source": [
    "__Writing to a file__\n",
    "\n",
    "Two flags:\n",
    "\n",
    "```a```: append - add to the end of an existing file, or if the file doesn't exist create a new one\n",
    "\n",
    "```w```: overwrite an existing file, or if the file doesn't exist create a new one"
   ]
  },
  {
   "cell_type": "code",
   "execution_count": 34,
   "id": "b3d367ba",
   "metadata": {},
   "outputs": [],
   "source": [
    "f= open(\"demo1.txt\", 'a')\n",
    "f.write(\"now it has some more text\")\n",
    "f.close()"
   ]
  },
  {
   "cell_type": "code",
   "execution_count": 35,
   "id": "d3a83a3e",
   "metadata": {},
   "outputs": [
    {
     "name": "stdout",
     "output_type": "stream",
     "text": [
      "hello\n",
      "This is the first file we're going to read\n",
      "it just has some text\n",
      "now it has some more text\n"
     ]
    }
   ],
   "source": [
    "f = open(\"demo1.txt\", \"r\")\n",
    "print(f.read())"
   ]
  },
  {
   "cell_type": "code",
   "execution_count": 36,
   "id": "8af8091e",
   "metadata": {},
   "outputs": [],
   "source": [
    "f= open(\"demo1.txt\", 'w')\n",
    "f.write(\"now all the previous text is gone\")\n",
    "f.close()"
   ]
  },
  {
   "cell_type": "code",
   "execution_count": 37,
   "id": "d204e57d",
   "metadata": {},
   "outputs": [
    {
     "name": "stdout",
     "output_type": "stream",
     "text": [
      "now all the previous text is gone\n"
     ]
    }
   ],
   "source": [
    "f = open(\"demo1.txt\", \"r\")\n",
    "print(f.read())"
   ]
  },
  {
   "cell_type": "code",
   "execution_count": 38,
   "id": "9e540b71",
   "metadata": {},
   "outputs": [],
   "source": [
    "f= open(\"demo2.txt\", 'w')\n",
    "f.write(\"This file didn't exist earlier\")\n",
    "f.close()"
   ]
  },
  {
   "cell_type": "code",
   "execution_count": 39,
   "id": "d71f35e8",
   "metadata": {
    "scrolled": true
   },
   "outputs": [
    {
     "name": "stdout",
     "output_type": "stream",
     "text": [
      "This file didn't exist earlier\n"
     ]
    }
   ],
   "source": [
    "f = open(\"demo2.txt\", \"r\")\n",
    "print(f.read())"
   ]
  },
  {
   "cell_type": "markdown",
   "id": "550bf7de",
   "metadata": {},
   "source": [
    "---\n",
    "\n",
    "### CSV files\n",
    "\n",
    "CSV: Comma Seperated Values\n",
    "\n",
    "A common file format with a specific way of reading and writing to make data parsing easier\n",
    "\n",
    "https://docs.python.org/3/library/csv.html"
   ]
  },
  {
   "cell_type": "code",
   "execution_count": 140,
   "id": "5a9995de",
   "metadata": {},
   "outputs": [],
   "source": [
    "import csv"
   ]
  },
  {
   "cell_type": "code",
   "execution_count": 141,
   "id": "4a556113",
   "metadata": {},
   "outputs": [
    {
     "name": "stdout",
     "output_type": "stream",
     "text": [
      "['0', '0', '0', '0', '0', '0', '0', '0', '0', '0']\n",
      "['0', '1', '2', '3', '4', '5', '6', '7', '8', '9']\n",
      "['0', '2', '4', '6', '8', '10', '12', '14', '16', '18']\n",
      "['0', '3', '6', '9', '12', '15', '18', '21', '24', '27']\n",
      "['0', '4', '8', '12', '16', '20', '24', '28', '32', '36']\n",
      "['0', '5', '10', '15', '20', '25', '30', '35', '40', '45']\n",
      "['0', '6', '12', '18', '24', '30', '36', '42', '48', '54']\n",
      "['0', '7', '14', '21', '28', '35', '42', '49', '56', '63']\n",
      "['0', '8', '16', '24', '32', '40', '48', '56', '64', '72']\n",
      "['0', '9', '18', '27', '36', '45', '54', '63', '72', '81']\n"
     ]
    }
   ],
   "source": [
    "with open('csvDemo.csv') as csvfile:\n",
    "    reader = csv.reader(csvfile)\n",
    "    for r in reader:\n",
    "        print(r)"
   ]
  },
  {
   "cell_type": "code",
   "execution_count": 142,
   "id": "1687859f",
   "metadata": {},
   "outputs": [],
   "source": [
    "with open('csvDemo.csv', 'w') as csvfile:\n",
    "    writer = csv.writer(csvfile)\n",
    "    writer.writerow('spam')"
   ]
  },
  {
   "cell_type": "code",
   "execution_count": 143,
   "id": "36dadb5d",
   "metadata": {},
   "outputs": [],
   "source": [
    "with open('csvDemo.csv', 'w') as csvfile:\n",
    "    writer = csv.writer(csvfile)\n",
    "    writer.writerow(['spam']*5)"
   ]
  },
  {
   "cell_type": "code",
   "execution_count": 144,
   "id": "6a660f0d",
   "metadata": {},
   "outputs": [],
   "source": [
    "with open('csvDemo.csv', 'w') as csvfile:\n",
    "    writer = csv.writer(csvfile)\n",
    "    for i in range(10):\n",
    "        row = []\n",
    "        for j in range(10):\n",
    "            row.append(i*j)\n",
    "        writer.writerow(row)"
   ]
  },
  {
   "cell_type": "code",
   "execution_count": 148,
   "id": "dad00f84",
   "metadata": {},
   "outputs": [
    {
     "name": "stdout",
     "output_type": "stream",
     "text": [
      "['0', '0', '0', '0', '0', '0', '0', '0', '0', '0']\n",
      "['0', '1', '2', '3', '4', '5', '6', '7', '8', '9']\n",
      "['0', '2', '4', '6', '8', '10', '12', '14', '16', '18']\n",
      "['0', '3', '6', '9', '12', '15', '18', '21', '24', '27']\n",
      "['0', '4', '8', '12', '16', '20', '24', '28', '32', '36']\n",
      "['0', '5', '10', '15', '20', '25', '30', '35', '40', '45']\n",
      "['0', '6', '12', '18', '24', '30', '36', '42', '48', '54']\n",
      "['0', '7', '14', '21', '28', '35', '42', '49', '56', '63']\n",
      "['0', '8', '16', '24', '32', '40', '48', '56', '64', '72']\n",
      "['0', '9', '18', '27', '36', '45', '54', '63', '72', '81']\n"
     ]
    }
   ],
   "source": [
    "with open('csvDemo.csv') as csvfile:\n",
    "    reader = csv.reader(csvfile)\n",
    "    for r in reader:\n",
    "        print(r)"
   ]
  },
  {
   "cell_type": "markdown",
   "id": "548c1275",
   "metadata": {},
   "source": [
    "---\n",
    "\n",
    "### 2D Arrays\n"
   ]
  },
  {
   "cell_type": "code",
   "execution_count": 149,
   "id": "0ee46aec",
   "metadata": {},
   "outputs": [
    {
     "name": "stdout",
     "output_type": "stream",
     "text": [
      "['0', '0', '0', '0', '0', '0', '0', '0', '0', '0']\n",
      "['0', '1', '2', '3', '4', '5', '6', '7', '8', '9']\n",
      "['0', '2', '4', '6', '8', '10', '12', '14', '16', '18']\n",
      "['0', '3', '6', '9', '12', '15', '18', '21', '24', '27']\n",
      "['0', '4', '8', '12', '16', '20', '24', '28', '32', '36']\n",
      "['0', '5', '10', '15', '20', '25', '30', '35', '40', '45']\n",
      "['0', '6', '12', '18', '24', '30', '36', '42', '48', '54']\n",
      "['0', '7', '14', '21', '28', '35', '42', '49', '56', '63']\n",
      "['0', '8', '16', '24', '32', '40', '48', '56', '64', '72']\n",
      "['0', '9', '18', '27', '36', '45', '54', '63', '72', '81']\n"
     ]
    }
   ],
   "source": [
    "with open('csvDemo.csv') as csvfile:\n",
    "    reader = csv.reader(csvfile)\n",
    "    for r in reader:\n",
    "        print(r)"
   ]
  },
  {
   "cell_type": "code",
   "execution_count": 150,
   "id": "37ea5a1d",
   "metadata": {},
   "outputs": [],
   "source": [
    "numbers = []\n",
    "with open('csvDemo.csv') as csvfile:\n",
    "    reader = csv.reader(csvfile)\n",
    "    for r in reader:\n",
    "        numbers.append(r)"
   ]
  },
  {
   "cell_type": "code",
   "execution_count": 151,
   "id": "4cd17ca9",
   "metadata": {},
   "outputs": [
    {
     "name": "stdout",
     "output_type": "stream",
     "text": [
      "[['0', '0', '0', '0', '0', '0', '0', '0', '0', '0'], ['0', '1', '2', '3', '4', '5', '6', '7', '8', '9'], ['0', '2', '4', '6', '8', '10', '12', '14', '16', '18'], ['0', '3', '6', '9', '12', '15', '18', '21', '24', '27'], ['0', '4', '8', '12', '16', '20', '24', '28', '32', '36'], ['0', '5', '10', '15', '20', '25', '30', '35', '40', '45'], ['0', '6', '12', '18', '24', '30', '36', '42', '48', '54'], ['0', '7', '14', '21', '28', '35', '42', '49', '56', '63'], ['0', '8', '16', '24', '32', '40', '48', '56', '64', '72'], ['0', '9', '18', '27', '36', '45', '54', '63', '72', '81']]\n"
     ]
    }
   ],
   "source": [
    "print(numbers)"
   ]
  },
  {
   "cell_type": "code",
   "execution_count": 152,
   "id": "8e3461ec",
   "metadata": {},
   "outputs": [
    {
     "name": "stdout",
     "output_type": "stream",
     "text": [
      "['0', '0', '0', '0', '0', '0', '0', '0', '0', '0']\n",
      "['0', '1', '2', '3', '4', '5', '6', '7', '8', '9']\n",
      "['0', '2', '4', '6', '8', '10', '12', '14', '16', '18']\n",
      "['0', '3', '6', '9', '12', '15', '18', '21', '24', '27']\n",
      "['0', '4', '8', '12', '16', '20', '24', '28', '32', '36']\n",
      "['0', '5', '10', '15', '20', '25', '30', '35', '40', '45']\n",
      "['0', '6', '12', '18', '24', '30', '36', '42', '48', '54']\n",
      "['0', '7', '14', '21', '28', '35', '42', '49', '56', '63']\n",
      "['0', '8', '16', '24', '32', '40', '48', '56', '64', '72']\n",
      "['0', '9', '18', '27', '36', '45', '54', '63', '72', '81']\n"
     ]
    }
   ],
   "source": [
    "for r in numbers:\n",
    "    print(r)"
   ]
  },
  {
   "cell_type": "code",
   "execution_count": 153,
   "id": "49caa1a4",
   "metadata": {},
   "outputs": [
    {
     "name": "stdout",
     "output_type": "stream",
     "text": [
      "0\n",
      "0\n",
      "0\n",
      "0\n",
      "0\n",
      "0\n",
      "0\n",
      "0\n",
      "0\n",
      "0\n",
      "0\n",
      "1\n",
      "2\n",
      "3\n",
      "4\n",
      "5\n",
      "6\n",
      "7\n",
      "8\n",
      "9\n",
      "0\n",
      "2\n",
      "4\n",
      "6\n",
      "8\n",
      "10\n",
      "12\n",
      "14\n",
      "16\n",
      "18\n",
      "0\n",
      "3\n",
      "6\n",
      "9\n",
      "12\n",
      "15\n",
      "18\n",
      "21\n",
      "24\n",
      "27\n",
      "0\n",
      "4\n",
      "8\n",
      "12\n",
      "16\n",
      "20\n",
      "24\n",
      "28\n",
      "32\n",
      "36\n",
      "0\n",
      "5\n",
      "10\n",
      "15\n",
      "20\n",
      "25\n",
      "30\n",
      "35\n",
      "40\n",
      "45\n",
      "0\n",
      "6\n",
      "12\n",
      "18\n",
      "24\n",
      "30\n",
      "36\n",
      "42\n",
      "48\n",
      "54\n",
      "0\n",
      "7\n",
      "14\n",
      "21\n",
      "28\n",
      "35\n",
      "42\n",
      "49\n",
      "56\n",
      "63\n",
      "0\n",
      "8\n",
      "16\n",
      "24\n",
      "32\n",
      "40\n",
      "48\n",
      "56\n",
      "64\n",
      "72\n",
      "0\n",
      "9\n",
      "18\n",
      "27\n",
      "36\n",
      "45\n",
      "54\n",
      "63\n",
      "72\n",
      "81\n"
     ]
    }
   ],
   "source": [
    "for r in numbers:\n",
    "    for n in r:\n",
    "        print(n)"
   ]
  },
  {
   "cell_type": "code",
   "execution_count": 156,
   "id": "38090cbb",
   "metadata": {},
   "outputs": [
    {
     "name": "stdout",
     "output_type": "stream",
     "text": [
      "[['0', '0', '0', '0', '0', '0', '0', '0', '0', '0'], ['0', '1', '2', '3', '4', '5', '6', '7', '8', '9'], ['0', '2', '4', '6', '8', '10', '12', '14', '16', '18'], ['0', '3', '6', '9', '12', '15', '18', '21', '24', '27'], ['0', '4', '8', '12', '16', '20', '24', '28', '32', '36'], ['0', '5', '10', '15', '20', '25', '30', '35', '40', '45'], ['0', '6', '12', '18', '24', '30', '36', '42', '48', '54'], ['0', '7', '14', '21', '28', '35', '42', '49', '56', '63'], ['0', '8', '16', '24', '32', '40', '48', '56', '64', '72'], ['0', '9', '18', '27', '36', '45', '54', '63', '72', '81']]\n"
     ]
    }
   ],
   "source": [
    "for r in numbers:\n",
    "    for n in r:\n",
    "        n = int(n)\n",
    "print(numbers)"
   ]
  },
  {
   "cell_type": "code",
   "execution_count": 157,
   "id": "6c11d0f5",
   "metadata": {},
   "outputs": [
    {
     "name": "stdout",
     "output_type": "stream",
     "text": [
      "['0', '0', '0', '0', '0', '0', '0', '0', '0', '0']\n",
      "['0', '1', '2', '3', '4', '5', '6', '7', '8', '9']\n",
      "['0', '2', '4', '6', '8', '10', '12', '14', '16', '18']\n",
      "['0', '3', '6', '9', '12', '15', '18', '21', '24', '27']\n",
      "['0', '4', '8', '12', '16', '20', '24', '28', '32', '36']\n",
      "['0', '5', '10', '15', '20', '25', '30', '35', '40', '45']\n",
      "['0', '6', '12', '18', '24', '30', '36', '42', '48', '54']\n",
      "['0', '7', '14', '21', '28', '35', '42', '49', '56', '63']\n",
      "['0', '8', '16', '24', '32', '40', '48', '56', '64', '72']\n",
      "['0', '9', '18', '27', '36', '45', '54', '63', '72', '81']\n"
     ]
    }
   ],
   "source": [
    "for i in range(len(numbers)):\n",
    "    print(numbers[i])"
   ]
  },
  {
   "cell_type": "code",
   "execution_count": 159,
   "id": "a25aee29",
   "metadata": {},
   "outputs": [
    {
     "name": "stdout",
     "output_type": "stream",
     "text": [
      "[[0, 0, 0, 0, 0, 0, 0, 0, 0, 0], [0, 1, 2, 3, 4, 5, 6, 7, 8, 9], [0, 2, 4, 6, 8, 10, 12, 14, 16, 18], [0, 3, 6, 9, 12, 15, 18, 21, 24, 27], [0, 4, 8, 12, 16, 20, 24, 28, 32, 36], [0, 5, 10, 15, 20, 25, 30, 35, 40, 45], [0, 6, 12, 18, 24, 30, 36, 42, 48, 54], [0, 7, 14, 21, 28, 35, 42, 49, 56, 63], [0, 8, 16, 24, 32, 40, 48, 56, 64, 72], [0, 9, 18, 27, 36, 45, 54, 63, 72, 81]]\n"
     ]
    }
   ],
   "source": [
    "for i in range(len(numbers)):\n",
    "    for j in range(len(numbers[i])):\n",
    "        numbers[i][j] = int(numbers[i][j])\n",
    "print(numbers)"
   ]
  },
  {
   "cell_type": "markdown",
   "id": "eeb87605",
   "metadata": {},
   "source": [
    "__We can also write Dictionaries__"
   ]
  },
  {
   "cell_type": "code",
   "execution_count": 50,
   "id": "7479cc15",
   "metadata": {},
   "outputs": [],
   "source": [
    "with open('names.csv', 'w', newline='') as csvfile:\n",
    "    fieldnames = ['first_name', 'last_name']\n",
    "    writer = csv.DictWriter(csvfile, fieldnames=fieldnames)\n",
    "\n",
    "    writer.writeheader()\n",
    "    writer.writerow({'first_name': 'Baked', 'last_name': 'Beans'})\n",
    "    writer.writerow({'first_name': 'Lovely', 'last_name': 'Spam'})\n",
    "    writer.writerow({'first_name': 'Wonderful', 'last_name': 'Spam'})"
   ]
  },
  {
   "cell_type": "code",
   "execution_count": 52,
   "id": "de63151c",
   "metadata": {},
   "outputs": [
    {
     "name": "stdout",
     "output_type": "stream",
     "text": [
      "['first_name', 'last_name']\n",
      "['Baked', 'Beans']\n",
      "['Lovely', 'Spam']\n",
      "['Wonderful', 'Spam']\n"
     ]
    }
   ],
   "source": [
    "with open('names.csv') as csvfile:\n",
    "    reader = csv.reader(csvfile)\n",
    "    for r in reader:\n",
    "        print(r)"
   ]
  },
  {
   "cell_type": "code",
   "execution_count": 53,
   "id": "f699975b",
   "metadata": {},
   "outputs": [
    {
     "name": "stdout",
     "output_type": "stream",
     "text": [
      "{'first_name': 'Baked', 'last_name': 'Beans'}\n",
      "{'first_name': 'Lovely', 'last_name': 'Spam'}\n",
      "{'first_name': 'Wonderful', 'last_name': 'Spam'}\n"
     ]
    }
   ],
   "source": [
    "with open('names.csv') as csvfile:\n",
    "    reader = csv.DictReader(csvfile)\n",
    "    for r in reader:\n",
    "        print(r)"
   ]
  },
  {
   "cell_type": "code",
   "execution_count": 55,
   "id": "5d95354b",
   "metadata": {},
   "outputs": [
    {
     "name": "stdout",
     "output_type": "stream",
     "text": [
      "Baked\n",
      "Lovely\n",
      "Wonderful\n"
     ]
    }
   ],
   "source": [
    "with open('names.csv') as csvfile:\n",
    "    reader = csv.DictReader(csvfile)\n",
    "    for r in reader:\n",
    "        print(r['first_name'])"
   ]
  },
  {
   "cell_type": "code",
   "execution_count": 56,
   "id": "2a20c43d",
   "metadata": {},
   "outputs": [
    {
     "name": "stdout",
     "output_type": "stream",
     "text": [
      "Beans\n",
      "Spam\n",
      "Spam\n"
     ]
    }
   ],
   "source": [
    "with open('names.csv') as csvfile:\n",
    "    reader = csv.DictReader(csvfile)\n",
    "    for r in reader:\n",
    "        print(r['last_name'])"
   ]
  },
  {
   "cell_type": "markdown",
   "id": "361943f6",
   "metadata": {},
   "source": [
    "__Adding some numerical data__"
   ]
  },
  {
   "cell_type": "code",
   "execution_count": 71,
   "id": "6e1b6d39",
   "metadata": {},
   "outputs": [],
   "source": [
    "with open('names.csv', 'w', newline='') as csvfile:\n",
    "    fieldnames = ['first_name', 'last_name', 'born']\n",
    "    writer = csv.DictWriter(csvfile, fieldnames=fieldnames)\n",
    "\n",
    "    writer.writeheader()\n",
    "    writer.writerow({'first_name': 'Baked', 'last_name': 'Beans', 'born':2010})\n",
    "    writer.writerow({'first_name': 'Lovely', 'last_name': 'Spam', 'born':2011})\n",
    "    writer.writerow({'first_name': 'Wonderful', 'last_name': 'Spam', 'born':2012})"
   ]
  },
  {
   "cell_type": "code",
   "execution_count": 72,
   "id": "60861af3",
   "metadata": {},
   "outputs": [
    {
     "name": "stdout",
     "output_type": "stream",
     "text": [
      "{'first_name': 'Baked', 'last_name': 'Beans', 'born': '2010'}\n",
      "{'first_name': 'Lovely', 'last_name': 'Spam', 'born': '2011'}\n",
      "{'first_name': 'Wonderful', 'last_name': 'Spam', 'born': '2012'}\n"
     ]
    }
   ],
   "source": [
    "with open('names.csv') as csvfile:\n",
    "    reader = csv.DictReader(csvfile)\n",
    "    for r in reader:\n",
    "        print(r)"
   ]
  },
  {
   "cell_type": "markdown",
   "id": "52213c57",
   "metadata": {},
   "source": [
    "__Save the content to a variable__"
   ]
  },
  {
   "cell_type": "code",
   "execution_count": 74,
   "id": "a1f8310b",
   "metadata": {},
   "outputs": [],
   "source": [
    "name_contents=[]\n",
    "with open('names.csv') as csvfile:\n",
    "    reader = csv.DictReader(csvfile)\n",
    "    for r in reader:\n",
    "        name_contents.append(r)"
   ]
  },
  {
   "cell_type": "code",
   "execution_count": 75,
   "id": "59d6d899",
   "metadata": {},
   "outputs": [
    {
     "name": "stdout",
     "output_type": "stream",
     "text": [
      "[{'first_name': 'Baked', 'last_name': 'Beans', 'born': '2010'}, {'first_name': 'Lovely', 'last_name': 'Spam', 'born': '2011'}, {'first_name': 'Wonderful', 'last_name': 'Spam', 'born': '2012'}]\n"
     ]
    }
   ],
   "source": [
    "print(name_contents)"
   ]
  },
  {
   "cell_type": "code",
   "execution_count": 81,
   "id": "ac893c3b",
   "metadata": {},
   "outputs": [
    {
     "name": "stdout",
     "output_type": "stream",
     "text": [
      "2010\n",
      "2011\n",
      "2012\n"
     ]
    }
   ],
   "source": [
    "for n in name_contents:\n",
    "    print(n['born'])"
   ]
  },
  {
   "cell_type": "code",
   "execution_count": 80,
   "id": "20a3f66a",
   "metadata": {},
   "outputs": [
    {
     "name": "stdout",
     "output_type": "stream",
     "text": [
      "<class 'str'>\n",
      "<class 'str'>\n",
      "<class 'str'>\n"
     ]
    }
   ],
   "source": [
    "for n in name_contents:\n",
    "    print(type(n['born']))"
   ]
  },
  {
   "cell_type": "code",
   "execution_count": 82,
   "id": "086af052",
   "metadata": {},
   "outputs": [],
   "source": [
    "for n in name_contents:\n",
    "    n['born'] = int(n['born'])"
   ]
  },
  {
   "cell_type": "code",
   "execution_count": 83,
   "id": "16599933",
   "metadata": {},
   "outputs": [
    {
     "name": "stdout",
     "output_type": "stream",
     "text": [
      "<class 'int'>\n",
      "<class 'int'>\n",
      "<class 'int'>\n"
     ]
    }
   ],
   "source": [
    "for n in name_contents:\n",
    "    print(type(n['born']))"
   ]
  },
  {
   "cell_type": "code",
   "execution_count": 84,
   "id": "264df66e",
   "metadata": {},
   "outputs": [
    {
     "name": "stdout",
     "output_type": "stream",
     "text": [
      "[{'first_name': 'Baked', 'last_name': 'Beans', 'born': 2010}, {'first_name': 'Lovely', 'last_name': 'Spam', 'born': 2011}, {'first_name': 'Wonderful', 'last_name': 'Spam', 'born': 2012}]\n"
     ]
    }
   ],
   "source": [
    "print(name_contents)"
   ]
  },
  {
   "cell_type": "markdown",
   "id": "eeee1f12",
   "metadata": {},
   "source": [
    "---\n",
    "\n",
    "### Example with Netflix dataset\n"
   ]
  },
  {
   "cell_type": "code",
   "execution_count": 67,
   "id": "89d21e5d",
   "metadata": {},
   "outputs": [
    {
     "name": "stdout",
     "output_type": "stream",
     "text": [
      "{'show_id': '81145628', 'type': 'Movie', 'title': 'Norm of the North: King Sized Adventure', 'director': 'Richard Finn, Tim Maltby', 'cast': 'Alan Marriott, Andrew Toth, Brian Dobson, Cole Howard, Jennifer Cameron, Jonathan Holmes, Lee Tockar, Lisa Durupt, Maya Kay, Michael Dobson', 'country': 'United States, India, South Korea, China', 'date_added': 'September 9, 2019', 'release_year': '2019', 'rating': 'TV-PG', 'duration': '90 min', 'listed_in': 'Children & Family Movies, Comedies', 'description': 'Before planning an awesome wedding for his grandfather, a polar bear king must take back a stolen artifact from an evil archaeologist first.'}\n"
     ]
    }
   ],
   "source": [
    "with open('netflix_titles.csv') as csvfile:\n",
    "    reader = csv.DictReader(csvfile)\n",
    "    print(reader.__next__())"
   ]
  },
  {
   "cell_type": "code",
   "execution_count": 68,
   "id": "91229d1e",
   "metadata": {},
   "outputs": [],
   "source": [
    "netflix_contents = []\n",
    "with open('netflix_titles.csv') as csvfile:\n",
    "    reader = csv.DictReader(csvfile)\n",
    "    for r in reader:\n",
    "        netflix_contents.append(r)"
   ]
  },
  {
   "cell_type": "code",
   "execution_count": 69,
   "id": "d6ff0c19",
   "metadata": {
    "scrolled": true
   },
   "outputs": [
    {
     "data": {
      "text/plain": [
       "6234"
      ]
     },
     "execution_count": 69,
     "metadata": {},
     "output_type": "execute_result"
    }
   ],
   "source": [
    "len(netflix_contents)"
   ]
  },
  {
   "cell_type": "code",
   "execution_count": 85,
   "id": "82f73a18",
   "metadata": {},
   "outputs": [],
   "source": [
    "for video in netflix_contents:\n",
    "    video['release_year'] = int(video['release_year']) "
   ]
  },
  {
   "cell_type": "code",
   "execution_count": 87,
   "id": "9abc31c0",
   "metadata": {
    "scrolled": true
   },
   "outputs": [
    {
     "name": "stdout",
     "output_type": "stream",
     "text": [
      "{'show_id': '81145628', 'type': 'Movie', 'title': 'Norm of the North: King Sized Adventure', 'director': 'Richard Finn, Tim Maltby', 'cast': 'Alan Marriott, Andrew Toth, Brian Dobson, Cole Howard, Jennifer Cameron, Jonathan Holmes, Lee Tockar, Lisa Durupt, Maya Kay, Michael Dobson', 'country': 'United States, India, South Korea, China', 'date_added': 'September 9, 2019', 'release_year': 2019, 'rating': 'TV-PG', 'duration': '90 min', 'listed_in': 'Children & Family Movies, Comedies', 'description': 'Before planning an awesome wedding for his grandfather, a polar bear king must take back a stolen artifact from an evil archaeologist first.'}\n"
     ]
    }
   ],
   "source": [
    "print(netflix_contents[0])"
   ]
  },
  {
   "cell_type": "markdown",
   "id": "821aebba",
   "metadata": {},
   "source": [
    "__Sort data on the content of an entry__"
   ]
  },
  {
   "cell_type": "code",
   "execution_count": 93,
   "id": "2241e096",
   "metadata": {},
   "outputs": [],
   "source": [
    "netflix_contents.sort(key= lambda x : x['release_year'])"
   ]
  },
  {
   "cell_type": "code",
   "execution_count": 94,
   "id": "d6b1c9cc",
   "metadata": {
    "scrolled": true
   },
   "outputs": [
    {
     "name": "stdout",
     "output_type": "stream",
     "text": [
      "{'show_id': '81030762', 'type': 'TV Show', 'title': 'Pioneers: First Women Filmmakers*', 'director': '', 'cast': '', 'country': '', 'date_added': 'December 30, 2018', 'release_year': 1925, 'rating': 'TV-PG', 'duration': '1 Season', 'listed_in': 'TV Shows', 'description': 'This collection restores films from women who tackled hot-button issues, transcended norms, and left a mark on the history of cinema and the industry.'}\n"
     ]
    }
   ],
   "source": [
    "print(netflix_contents[0])"
   ]
  },
  {
   "cell_type": "markdown",
   "id": "55b10e61",
   "metadata": {},
   "source": [
    "__Show nr of entries that match a certain condition__"
   ]
  },
  {
   "cell_type": "code",
   "execution_count": 96,
   "id": "308ad1f2",
   "metadata": {
    "scrolled": true
   },
   "outputs": [
    {
     "name": "stdout",
     "output_type": "stream",
     "text": [
      "4265\n"
     ]
    }
   ],
   "source": [
    "count = 0\n",
    "for video in netflix_contents:\n",
    "    if video['type']=='Movie':\n",
    "        count+=1\n",
    "print(count)"
   ]
  },
  {
   "cell_type": "markdown",
   "id": "b7739166",
   "metadata": {},
   "source": [
    "__Show all titles that match a certain condition__"
   ]
  },
  {
   "cell_type": "code",
   "execution_count": 99,
   "id": "43c31ef4",
   "metadata": {},
   "outputs": [
    {
     "name": "stdout",
     "output_type": "stream",
     "text": [
      "Pulp Fiction\n",
      "Jackie Brown\n",
      "Kill Bill: Vol. 1\n",
      "Kill Bill: Vol. 2\n",
      "Inglourious Basterds\n",
      "The Hateful Eight\n",
      "The Hateful Eight: Extended Version\n"
     ]
    }
   ],
   "source": [
    "for video in netflix_contents:\n",
    "    if 'Quentin Tarantino' == video['director']:\n",
    "        print(video['title'])"
   ]
  },
  {
   "cell_type": "code",
   "execution_count": 100,
   "id": "955d3900",
   "metadata": {
    "scrolled": true
   },
   "outputs": [
    {
     "name": "stdout",
     "output_type": "stream",
     "text": [
      "A Stoning in Fulham County\n",
      "Ocean's Twelve\n",
      "Troy\n",
      "Babel\n",
      "Ocean's Thirteen\n",
      "Inglourious Basterds\n",
      "War Machine\n"
     ]
    }
   ],
   "source": [
    "for video in netflix_contents:\n",
    "    if 'Brad Pitt' in video['cast']:\n",
    "        print(video['title'])"
   ]
  },
  {
   "cell_type": "markdown",
   "id": "2133bb4e",
   "metadata": {},
   "source": [
    "__Show all titles that match multiple conditions__"
   ]
  },
  {
   "cell_type": "code",
   "execution_count": 101,
   "id": "5b6f32db",
   "metadata": {
    "scrolled": false
   },
   "outputs": [
    {
     "name": "stdout",
     "output_type": "stream",
     "text": [
      "Inglourious Basterds\n"
     ]
    }
   ],
   "source": [
    "for video in netflix_contents:\n",
    "    if 'Quentin Tarantino' == video['director'] and 'Brad Pitt' in video['cast']:\n",
    "        print(video['title'])"
   ]
  },
  {
   "cell_type": "markdown",
   "id": "ed85e113",
   "metadata": {},
   "source": [
    "---\n",
    "\n",
    "### 2D arrays continued\n"
   ]
  },
  {
   "cell_type": "code",
   "execution_count": 181,
   "id": "9860ed65",
   "metadata": {},
   "outputs": [],
   "source": [
    "grid = []\n",
    "for i in range(3):\n",
    "    row = []\n",
    "    for j in range(3):\n",
    "        row.append(i+j)\n",
    "    grid.append(row)"
   ]
  },
  {
   "cell_type": "code",
   "execution_count": 182,
   "id": "41173a3f",
   "metadata": {},
   "outputs": [
    {
     "name": "stdout",
     "output_type": "stream",
     "text": [
      "[[0, 1, 2], [1, 2, 3], [2, 3, 4]]\n"
     ]
    }
   ],
   "source": [
    "print(grid)"
   ]
  },
  {
   "cell_type": "code",
   "execution_count": 183,
   "id": "31fe9634",
   "metadata": {},
   "outputs": [
    {
     "name": "stdout",
     "output_type": "stream",
     "text": [
      "[0, 1, 2]\n",
      "[1, 2, 3]\n",
      "[2, 3, 4]\n"
     ]
    }
   ],
   "source": [
    "for r in grid:\n",
    "    print(r)"
   ]
  },
  {
   "cell_type": "code",
   "execution_count": 184,
   "id": "491be842",
   "metadata": {},
   "outputs": [
    {
     "data": {
      "text/plain": [
       "[0, 1, 2]"
      ]
     },
     "execution_count": 184,
     "metadata": {},
     "output_type": "execute_result"
    }
   ],
   "source": [
    "grid[0]"
   ]
  },
  {
   "cell_type": "code",
   "execution_count": 187,
   "id": "83f3f428",
   "metadata": {},
   "outputs": [
    {
     "data": {
      "text/plain": [
       "2"
      ]
     },
     "execution_count": 187,
     "metadata": {},
     "output_type": "execute_result"
    }
   ],
   "source": [
    "grid[1][1]"
   ]
  },
  {
   "cell_type": "markdown",
   "id": "c91fb064",
   "metadata": {},
   "source": [
    "What's the coordinate of the cell above?"
   ]
  },
  {
   "cell_type": "code",
   "execution_count": 188,
   "id": "3bcc22cb",
   "metadata": {},
   "outputs": [
    {
     "ename": "SyntaxError",
     "evalue": "invalid syntax (2588316560.py, line 1)",
     "output_type": "error",
     "traceback": [
      "\u001b[0;36m  Input \u001b[0;32mIn [188]\u001b[0;36m\u001b[0m\n\u001b[0;31m    grid[][]\u001b[0m\n\u001b[0m         ^\u001b[0m\n\u001b[0;31mSyntaxError\u001b[0m\u001b[0;31m:\u001b[0m invalid syntax\n"
     ]
    }
   ],
   "source": [
    "grid[][]"
   ]
  },
  {
   "cell_type": "markdown",
   "id": "740b58c0",
   "metadata": {},
   "source": [
    "so the difference is?"
   ]
  },
  {
   "cell_type": "code",
   "execution_count": 191,
   "id": "bbedee2e",
   "metadata": {},
   "outputs": [
    {
     "ename": "SyntaxError",
     "evalue": "invalid syntax (2562505560.py, line 1)",
     "output_type": "error",
     "traceback": [
      "\u001b[0;36m  Input \u001b[0;32mIn [191]\u001b[0;36m\u001b[0m\n\u001b[0;31m    a =\u001b[0m\n\u001b[0m        ^\u001b[0m\n\u001b[0;31mSyntaxError\u001b[0m\u001b[0;31m:\u001b[0m invalid syntax\n"
     ]
    }
   ],
   "source": [
    "a = \n",
    "b = \n",
    "difference = (a,b)\n",
    "grid[1+difference[0]][1+difference[1]]"
   ]
  },
  {
   "cell_type": "code",
   "execution_count": null,
   "id": "b3d6f3aa",
   "metadata": {},
   "outputs": [],
   "source": []
  }
 ],
 "metadata": {
  "kernelspec": {
   "display_name": "Python 3 (ipykernel)",
   "language": "python",
   "name": "python3"
  },
  "language_info": {
   "codemirror_mode": {
    "name": "ipython",
    "version": 3
   },
   "file_extension": ".py",
   "mimetype": "text/x-python",
   "name": "python",
   "nbconvert_exporter": "python",
   "pygments_lexer": "ipython3",
   "version": "3.8.13"
  }
 },
 "nbformat": 4,
 "nbformat_minor": 5
}
