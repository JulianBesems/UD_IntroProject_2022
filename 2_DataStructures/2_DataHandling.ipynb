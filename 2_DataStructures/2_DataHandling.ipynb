{
 "cells": [
  {
   "cell_type": "markdown",
   "id": "cc0ad464",
   "metadata": {},
   "source": [
    "---\n",
    "<br/><br/>\n",
    "<br/><br/>\n",
    "<br/><br/>\n",
    "## Session 2 \n",
    "\n",
    "### Classes, Read and Write files, 2D Arrays\n",
    "\n",
    "_Julian Besems_\n",
    "<br/><br/>\n",
    "<br/><br/>\n",
    "<br/><br/>"
   ]
  },
  {
   "cell_type": "markdown",
   "id": "dbb20e5d",
   "metadata": {},
   "source": [
    "------------------\n",
    "<br/><br/>\n",
    "<br/><br/>\n",
    "<br/><br/>\n",
    "# Contents\n",
    "- _Classes_: a means to create custom data object, including attributes and functions\n",
    "- Read and write files:\n",
    "    - Text files, CSV files, Images\n",
    "- 2D and 3D arrays\n",
    "- Vectors\n",
    "<br/><br/>\n",
    "<br/><br/>\n",
    "<br/><br/>"
   ]
  },
  {
   "cell_type": "markdown",
   "id": "0d82afc6",
   "metadata": {},
   "source": [
    "---\n",
    "\n",
    "## Object Orientation\n",
    "\n",
    "\"Object-oriented programming (OOP) is a computer programming model that organizes software design around data, or objects, rather than functions and logic. An object can be defined as a data field that has unique attributes and behavior.\" - \n",
    "_A. Gillis_"
   ]
  },
  {
   "cell_type": "markdown",
   "id": "fd3ecc23",
   "metadata": {},
   "source": [
    "---\n",
    "<img src=\"https://l87r32c95dp1hz05tig4px11-wpengine.netdna-ssl.com/wp-content/uploads/2019/04/Pattern_Language1-768x901.jpg\" alt=\"drawing\" width=\"600\"/><br/><br/>"
   ]
  },
  {
   "cell_type": "markdown",
   "id": "a79ef039",
   "metadata": {},
   "source": [
    "---\n",
    "<img src=\"https://springframework.guru/wp-content/uploads/2015/04/9780201633610.jpg\" alt=\"drawing\" width=\"500\"/><br/><br/>"
   ]
  },
  {
   "cell_type": "markdown",
   "id": "2c73e014",
   "metadata": {},
   "source": [
    "---\n",
    "<br/><br/>\n",
    "<br/><br/>\n",
    "# Classes and Objects\n",
    "\n",
    "__In Python every object is an instance of a class. The class defines the characteristics an object can have.__\n",
    "\n",
    "<br/><br/>\n",
    "---"
   ]
  },
  {
   "cell_type": "markdown",
   "id": "17070197",
   "metadata": {},
   "source": [
    "---\n",
    "<br/><br/>\n",
    "<br/><br/>\n",
    "## Real life example\n",
    "\n",
    "- Cars are one class of objects\n",
    "- a specific car is an object\n",
    "\n",
    "\n",
    "The class of cars is defined by a set of __Attributes__ and a set of __Methods__\n",
    "\n",
    "---\n",
    "### Attributes of Car\n",
    "- weight\n",
    "- colour\n",
    "- brand\n",
    "- height\n",
    "- width\n",
    "- top speed\n",
    "- etc.\n",
    "\n",
    "---\n",
    "### Methods of Car\n",
    "- drive\n",
    "- break\n",
    "- drive backwards\n",
    "- change gear\n",
    "- etc.\n",
    "\n",
    "---\n",
    "\n",
    "### Instance of car\n",
    "\n",
    "- weight = 800 kg\n",
    "- Colour = Red\n",
    "- Brand = Ford\n",
    "- Height = 1700\n",
    "- Width = 1600\n",
    "- etc.\n",
    "\n",
    "<br/><br/>\n",
    "---"
   ]
  },
  {
   "cell_type": "code",
   "execution_count": 1,
   "id": "6758c6b8",
   "metadata": {},
   "outputs": [],
   "source": [
    "class Car:    \n",
    "    def __init__(self, colour):\n",
    "        self.brand = 'ford'\n",
    "        self.colour = colour\n",
    "        self.numberPlate = ['a','b','c','d','e']\n",
    "    \n",
    "    def describe(self):\n",
    "        print('this car is a ' + self.colour + ' ' + self.brand)"
   ]
  },
  {
   "cell_type": "markdown",
   "id": "479618fb",
   "metadata": {},
   "source": [
    "```Car``` : name of the class\n",
    "\n",
    "```def __init__(self, ...) ``` : initialise function\n",
    "\n",
    "```colour``` : initialise argument\n",
    "\n",
    "```self.brand = 'ford'``` : default value variable\n",
    "\n",
    "```self.colour = colour``` : instantiated value variable \n",
    "\n",
    "```def describe ...``` : functions within the class"
   ]
  },
  {
   "cell_type": "code",
   "execution_count": 2,
   "id": "adf73c9f",
   "metadata": {},
   "outputs": [
    {
     "name": "stdout",
     "output_type": "stream",
     "text": [
      "this car is a red ford\n"
     ]
    }
   ],
   "source": [
    "car = Car('red')\n",
    "car.describe()"
   ]
  },
  {
   "cell_type": "code",
   "execution_count": 3,
   "id": "0675ee71",
   "metadata": {},
   "outputs": [],
   "source": [
    "car.brand = 'BMW'"
   ]
  },
  {
   "cell_type": "code",
   "execution_count": 4,
   "id": "f7aceb9a",
   "metadata": {},
   "outputs": [
    {
     "name": "stdout",
     "output_type": "stream",
     "text": [
      "this car is a red BMW\n"
     ]
    }
   ],
   "source": [
    "car.describe()"
   ]
  },
  {
   "cell_type": "markdown",
   "id": "08045e81",
   "metadata": {},
   "source": [
    "---\n",
    "__Pointers__\n",
    "\n",
    "__In a computer memory has addresses.__\n",
    "\n",
    "An address refers to content where a value can be stored _(usually)_. \n"
   ]
  },
  {
   "cell_type": "markdown",
   "id": "d40b81c2",
   "metadata": {},
   "source": [
    "<br/><br/>\n",
    "<img src=\"https://upload.wikimedia.org/wikipedia/commons/thumb/b/b4/Pointers.svg/1920px-Pointers.svg.png\" alt=\"drawing\" width=\"200\"/>\n",
    "\n",
    "For more info:\n",
    "https://en.wikipedia.org/wiki/Pointer_(computer_programming)"
   ]
  },
  {
   "cell_type": "code",
   "execution_count": 5,
   "id": "e649b30d",
   "metadata": {},
   "outputs": [],
   "source": [
    "car2 = car"
   ]
  },
  {
   "cell_type": "code",
   "execution_count": 6,
   "id": "4d28cb4a",
   "metadata": {},
   "outputs": [
    {
     "name": "stdout",
     "output_type": "stream",
     "text": [
      "this car is a red BMW\n"
     ]
    }
   ],
   "source": [
    "car2.describe()"
   ]
  },
  {
   "cell_type": "code",
   "execution_count": 7,
   "id": "a224e830",
   "metadata": {},
   "outputs": [
    {
     "name": "stdout",
     "output_type": "stream",
     "text": [
      "this car is a red BMW\n"
     ]
    }
   ],
   "source": [
    "car.describe()"
   ]
  },
  {
   "cell_type": "code",
   "execution_count": 8,
   "id": "336cbe06",
   "metadata": {},
   "outputs": [],
   "source": [
    "car2.brand = 'VW'"
   ]
  },
  {
   "cell_type": "code",
   "execution_count": 9,
   "id": "99dc1749",
   "metadata": {},
   "outputs": [
    {
     "name": "stdout",
     "output_type": "stream",
     "text": [
      "this car is a red VW\n"
     ]
    }
   ],
   "source": [
    "car.describe()"
   ]
  },
  {
   "cell_type": "code",
   "execution_count": 10,
   "id": "6cecb6b1",
   "metadata": {},
   "outputs": [
    {
     "name": "stdout",
     "output_type": "stream",
     "text": [
      "4375872992\n",
      "4375872992\n"
     ]
    }
   ],
   "source": [
    "print(id(car))\n",
    "print(id(car2))"
   ]
  },
  {
   "cell_type": "code",
   "execution_count": 11,
   "id": "0f1a5965",
   "metadata": {},
   "outputs": [],
   "source": [
    "import copy\n",
    "car2 = copy.copy(car)\n",
    "car2.brand = 'Audi'"
   ]
  },
  {
   "cell_type": "code",
   "execution_count": 12,
   "id": "a8da361b",
   "metadata": {},
   "outputs": [
    {
     "name": "stdout",
     "output_type": "stream",
     "text": [
      "this car is a red VW\n"
     ]
    }
   ],
   "source": [
    "car.describe()"
   ]
  },
  {
   "cell_type": "code",
   "execution_count": 13,
   "id": "acafefb2",
   "metadata": {},
   "outputs": [
    {
     "name": "stdout",
     "output_type": "stream",
     "text": [
      "this car is a red Audi\n"
     ]
    }
   ],
   "source": [
    "car2.describe()"
   ]
  },
  {
   "cell_type": "code",
   "execution_count": 14,
   "id": "1c72a128",
   "metadata": {},
   "outputs": [
    {
     "name": "stdout",
     "output_type": "stream",
     "text": [
      "4375872992\n",
      "4375872944\n"
     ]
    }
   ],
   "source": [
    "print(id(car))\n",
    "print(id(car2))"
   ]
  },
  {
   "cell_type": "code",
   "execution_count": 15,
   "id": "ea249222",
   "metadata": {},
   "outputs": [],
   "source": [
    "car2.numberPlate[0] = 1"
   ]
  },
  {
   "cell_type": "code",
   "execution_count": 16,
   "id": "12675cd0",
   "metadata": {},
   "outputs": [
    {
     "name": "stdout",
     "output_type": "stream",
     "text": [
      "[1, 'b', 'c', 'd', 'e']\n"
     ]
    }
   ],
   "source": [
    "print(car.numberPlate)"
   ]
  },
  {
   "cell_type": "code",
   "execution_count": 17,
   "id": "81049a05",
   "metadata": {},
   "outputs": [
    {
     "name": "stdout",
     "output_type": "stream",
     "text": [
      "4375957824\n",
      "4375957824\n"
     ]
    }
   ],
   "source": [
    "print(id(car.numberPlate))\n",
    "print(id(car2.numberPlate))"
   ]
  },
  {
   "cell_type": "code",
   "execution_count": 18,
   "id": "a947ec28",
   "metadata": {},
   "outputs": [],
   "source": [
    "car2 = copy.deepcopy(car)\n",
    "car2.numberPlate[0] = 8"
   ]
  },
  {
   "cell_type": "code",
   "execution_count": 19,
   "id": "160265cd",
   "metadata": {},
   "outputs": [
    {
     "name": "stdout",
     "output_type": "stream",
     "text": [
      "[1, 'b', 'c', 'd', 'e']\n",
      "[8, 'b', 'c', 'd', 'e']\n"
     ]
    }
   ],
   "source": [
    "print(car.numberPlate)\n",
    "print(car2.numberPlate)"
   ]
  },
  {
   "cell_type": "code",
   "execution_count": 20,
   "id": "8a57f49d",
   "metadata": {
    "scrolled": true
   },
   "outputs": [
    {
     "name": "stdout",
     "output_type": "stream",
     "text": [
      "4375957824\n",
      "4375954944\n"
     ]
    }
   ],
   "source": [
    "print(id(car.numberPlate))\n",
    "print(id(car2.numberPlate))"
   ]
  },
  {
   "cell_type": "markdown",
   "id": "80cb2b56",
   "metadata": {},
   "source": [
    "---\n",
    "\n",
    "# Read and Write Files\n",
    "\n",
    "There are many ways of interacting with external information, we'll cover 4 basic ways here."
   ]
  },
  {
   "cell_type": "markdown",
   "id": "e9c7bfba",
   "metadata": {},
   "source": [
    "---\n",
    "\n",
    "### Text files"
   ]
  },
  {
   "cell_type": "code",
   "execution_count": 21,
   "id": "76e237c6",
   "metadata": {},
   "outputs": [
    {
     "name": "stdout",
     "output_type": "stream",
     "text": [
      "hello\n",
      "This is the first file we're going to read\n",
      "it just has some text\n",
      "\n"
     ]
    }
   ],
   "source": [
    "f = open(\"demo1.txt\", \"r\")\n",
    "print(f.read())"
   ]
  },
  {
   "cell_type": "markdown",
   "id": "7b8459de",
   "metadata": {},
   "source": [
    "```f```: the variable containing the file object\n",
    "\n",
    "```open()```: built in function to open a file\n",
    "\n",
    "```\"demo1.txt\"```: string containing the path to the file\n",
    "\n",
    "```\"r\"```: flag to specify the way in which the file is opened, ```\"r\"``` is the read flag\n",
    "\n",
    "```f.read()```: function of the file object to read the content of the file"
   ]
  },
  {
   "cell_type": "code",
   "execution_count": 25,
   "id": "2393d427",
   "metadata": {},
   "outputs": [
    {
     "name": "stdout",
     "output_type": "stream",
     "text": [
      "hello\n"
     ]
    }
   ],
   "source": [
    "f = open(\"demo1.txt\", \"r\")\n",
    "print(f.read(5))"
   ]
  },
  {
   "cell_type": "code",
   "execution_count": 26,
   "id": "ca063bfc",
   "metadata": {},
   "outputs": [
    {
     "name": "stdout",
     "output_type": "stream",
     "text": [
      "hello\n",
      "\n"
     ]
    }
   ],
   "source": [
    "f = open(\"demo1.txt\", \"r\")\n",
    "print(f.readline())"
   ]
  },
  {
   "cell_type": "code",
   "execution_count": 27,
   "id": "d9c2a6d4",
   "metadata": {},
   "outputs": [
    {
     "name": "stdout",
     "output_type": "stream",
     "text": [
      "This is the first file we're going to read\n",
      "\n"
     ]
    }
   ],
   "source": [
    "print(f.readline())"
   ]
  },
  {
   "cell_type": "code",
   "execution_count": 28,
   "id": "d4fcca9e",
   "metadata": {},
   "outputs": [
    {
     "name": "stdout",
     "output_type": "stream",
     "text": [
      "it just has some text\n",
      "\n"
     ]
    }
   ],
   "source": [
    "print(f.readline())"
   ]
  },
  {
   "cell_type": "code",
   "execution_count": 29,
   "id": "7de638f8",
   "metadata": {},
   "outputs": [
    {
     "name": "stdout",
     "output_type": "stream",
     "text": [
      "hello\n",
      "\n",
      "This is the first file we're going to read\n",
      "\n",
      "it just has some text\n",
      "\n"
     ]
    }
   ],
   "source": [
    "f = open(\"demo1.txt\", \"r\")\n",
    "for l in f:\n",
    "    print(l)"
   ]
  },
  {
   "cell_type": "markdown",
   "id": "086c39c0",
   "metadata": {},
   "source": [
    "__Good practice to close a file once you're done:__"
   ]
  },
  {
   "cell_type": "code",
   "execution_count": 30,
   "id": "fa853187",
   "metadata": {},
   "outputs": [],
   "source": [
    "f.close()"
   ]
  },
  {
   "cell_type": "markdown",
   "id": "766cf222",
   "metadata": {},
   "source": [
    "__Writing to a file__\n",
    "\n",
    "Two flags:\n",
    "\n",
    "```a```: append - add to the end of an existing file, or if the file doesn't exist create a new one\n",
    "\n",
    "```w```: overwrite an existing file, or if the file doesn't exist create a new one"
   ]
  },
  {
   "cell_type": "code",
   "execution_count": 34,
   "id": "47ccffac",
   "metadata": {},
   "outputs": [],
   "source": [
    "f= open(\"demo1.txt\", 'a')\n",
    "f.write(\"now it has some more text\")\n",
    "f.close()"
   ]
  },
  {
   "cell_type": "code",
   "execution_count": 35,
   "id": "7f0ca2f4",
   "metadata": {},
   "outputs": [
    {
     "name": "stdout",
     "output_type": "stream",
     "text": [
      "hello\n",
      "This is the first file we're going to read\n",
      "it just has some text\n",
      "now it has some more text\n"
     ]
    }
   ],
   "source": [
    "f = open(\"demo1.txt\", \"r\")\n",
    "print(f.read())"
   ]
  },
  {
   "cell_type": "code",
   "execution_count": 36,
   "id": "a7db5961",
   "metadata": {},
   "outputs": [],
   "source": [
    "f= open(\"demo1.txt\", 'w')\n",
    "f.write(\"now all the previous text is gone\")\n",
    "f.close()"
   ]
  },
  {
   "cell_type": "code",
   "execution_count": 37,
   "id": "1f656e1e",
   "metadata": {},
   "outputs": [
    {
     "name": "stdout",
     "output_type": "stream",
     "text": [
      "now all the previous text is gone\n"
     ]
    }
   ],
   "source": [
    "f = open(\"demo1.txt\", \"r\")\n",
    "print(f.read())"
   ]
  },
  {
   "cell_type": "code",
   "execution_count": 38,
   "id": "4b7c95e0",
   "metadata": {},
   "outputs": [],
   "source": [
    "f= open(\"demo2.txt\", 'w')\n",
    "f.write(\"This file didn't exist earlier\")\n",
    "f.close()"
   ]
  },
  {
   "cell_type": "code",
   "execution_count": 39,
   "id": "c1de4c4b",
   "metadata": {
    "scrolled": true
   },
   "outputs": [
    {
     "name": "stdout",
     "output_type": "stream",
     "text": [
      "This file didn't exist earlier\n"
     ]
    }
   ],
   "source": [
    "f = open(\"demo2.txt\", \"r\")\n",
    "print(f.read())"
   ]
  },
  {
   "cell_type": "markdown",
   "id": "7a6c5d23",
   "metadata": {},
   "source": [
    "---\n",
    "\n",
    "### CSV files\n",
    "\n",
    "CSV: Comma Seperated Values\n",
    "\n",
    "A common file format with a specific way of reading and writing to make data parsing easier\n",
    "\n",
    "https://docs.python.org/3/library/csv.html"
   ]
  },
  {
   "cell_type": "code",
   "execution_count": 140,
   "id": "aa65bf21",
   "metadata": {},
   "outputs": [],
   "source": [
    "import csv"
   ]
  },
  {
   "cell_type": "code",
   "execution_count": 141,
   "id": "7fcbad79",
   "metadata": {},
   "outputs": [
    {
     "name": "stdout",
     "output_type": "stream",
     "text": [
      "['0', '0', '0', '0', '0', '0', '0', '0', '0', '0']\n",
      "['0', '1', '2', '3', '4', '5', '6', '7', '8', '9']\n",
      "['0', '2', '4', '6', '8', '10', '12', '14', '16', '18']\n",
      "['0', '3', '6', '9', '12', '15', '18', '21', '24', '27']\n",
      "['0', '4', '8', '12', '16', '20', '24', '28', '32', '36']\n",
      "['0', '5', '10', '15', '20', '25', '30', '35', '40', '45']\n",
      "['0', '6', '12', '18', '24', '30', '36', '42', '48', '54']\n",
      "['0', '7', '14', '21', '28', '35', '42', '49', '56', '63']\n",
      "['0', '8', '16', '24', '32', '40', '48', '56', '64', '72']\n",
      "['0', '9', '18', '27', '36', '45', '54', '63', '72', '81']\n"
     ]
    }
   ],
   "source": [
    "with open('csvDemo.csv') as csvfile:\n",
    "    reader = csv.reader(csvfile)\n",
    "    for r in reader:\n",
    "        print(r)"
   ]
  },
  {
   "cell_type": "code",
   "execution_count": 142,
   "id": "9655dc37",
   "metadata": {},
   "outputs": [],
   "source": [
    "with open('csvDemo.csv', 'w') as csvfile:\n",
    "    writer = csv.writer(csvfile)\n",
    "    writer.writerow('spam')"
   ]
  },
  {
   "cell_type": "code",
   "execution_count": 143,
   "id": "1f0df0d3",
   "metadata": {},
   "outputs": [],
   "source": [
    "with open('csvDemo.csv', 'w') as csvfile:\n",
    "    writer = csv.writer(csvfile)\n",
    "    writer.writerow(['spam']*5)"
   ]
  },
  {
   "cell_type": "code",
   "execution_count": 144,
   "id": "a1d6b29f",
   "metadata": {},
   "outputs": [],
   "source": [
    "with open('csvDemo.csv', 'w') as csvfile:\n",
    "    writer = csv.writer(csvfile)\n",
    "    for i in range(10):\n",
    "        row = []\n",
    "        for j in range(10):\n",
    "            row.append(i*j)\n",
    "        writer.writerow(row)"
   ]
  },
  {
   "cell_type": "code",
   "execution_count": 148,
   "id": "338a9e00",
   "metadata": {},
   "outputs": [
    {
     "name": "stdout",
     "output_type": "stream",
     "text": [
      "['0', '0', '0', '0', '0', '0', '0', '0', '0', '0']\n",
      "['0', '1', '2', '3', '4', '5', '6', '7', '8', '9']\n",
      "['0', '2', '4', '6', '8', '10', '12', '14', '16', '18']\n",
      "['0', '3', '6', '9', '12', '15', '18', '21', '24', '27']\n",
      "['0', '4', '8', '12', '16', '20', '24', '28', '32', '36']\n",
      "['0', '5', '10', '15', '20', '25', '30', '35', '40', '45']\n",
      "['0', '6', '12', '18', '24', '30', '36', '42', '48', '54']\n",
      "['0', '7', '14', '21', '28', '35', '42', '49', '56', '63']\n",
      "['0', '8', '16', '24', '32', '40', '48', '56', '64', '72']\n",
      "['0', '9', '18', '27', '36', '45', '54', '63', '72', '81']\n"
     ]
    }
   ],
   "source": [
    "with open('csvDemo.csv') as csvfile:\n",
    "    reader = csv.reader(csvfile)\n",
    "    for r in reader:\n",
    "        print(r)"
   ]
  },
  {
   "cell_type": "markdown",
   "id": "d1b8944b",
   "metadata": {},
   "source": [
    "---\n",
    "\n",
    "### 2D Arrays\n"
   ]
  },
  {
   "cell_type": "code",
   "execution_count": 149,
   "id": "dddd6c0d",
   "metadata": {},
   "outputs": [
    {
     "name": "stdout",
     "output_type": "stream",
     "text": [
      "['0', '0', '0', '0', '0', '0', '0', '0', '0', '0']\n",
      "['0', '1', '2', '3', '4', '5', '6', '7', '8', '9']\n",
      "['0', '2', '4', '6', '8', '10', '12', '14', '16', '18']\n",
      "['0', '3', '6', '9', '12', '15', '18', '21', '24', '27']\n",
      "['0', '4', '8', '12', '16', '20', '24', '28', '32', '36']\n",
      "['0', '5', '10', '15', '20', '25', '30', '35', '40', '45']\n",
      "['0', '6', '12', '18', '24', '30', '36', '42', '48', '54']\n",
      "['0', '7', '14', '21', '28', '35', '42', '49', '56', '63']\n",
      "['0', '8', '16', '24', '32', '40', '48', '56', '64', '72']\n",
      "['0', '9', '18', '27', '36', '45', '54', '63', '72', '81']\n"
     ]
    }
   ],
   "source": [
    "with open('csvDemo.csv') as csvfile:\n",
    "    reader = csv.reader(csvfile)\n",
    "    for r in reader:\n",
    "        print(r)"
   ]
  },
  {
   "cell_type": "code",
   "execution_count": 150,
   "id": "b512df04",
   "metadata": {},
   "outputs": [],
   "source": [
    "numbers = []\n",
    "with open('csvDemo.csv') as csvfile:\n",
    "    reader = csv.reader(csvfile)\n",
    "    for r in reader:\n",
    "        numbers.append(r)"
   ]
  },
  {
   "cell_type": "code",
   "execution_count": 151,
   "id": "01ab44f1",
   "metadata": {},
   "outputs": [
    {
     "name": "stdout",
     "output_type": "stream",
     "text": [
      "[['0', '0', '0', '0', '0', '0', '0', '0', '0', '0'], ['0', '1', '2', '3', '4', '5', '6', '7', '8', '9'], ['0', '2', '4', '6', '8', '10', '12', '14', '16', '18'], ['0', '3', '6', '9', '12', '15', '18', '21', '24', '27'], ['0', '4', '8', '12', '16', '20', '24', '28', '32', '36'], ['0', '5', '10', '15', '20', '25', '30', '35', '40', '45'], ['0', '6', '12', '18', '24', '30', '36', '42', '48', '54'], ['0', '7', '14', '21', '28', '35', '42', '49', '56', '63'], ['0', '8', '16', '24', '32', '40', '48', '56', '64', '72'], ['0', '9', '18', '27', '36', '45', '54', '63', '72', '81']]\n"
     ]
    }
   ],
   "source": [
    "print(numbers)"
   ]
  },
  {
   "cell_type": "code",
   "execution_count": 152,
   "id": "6ed087f7",
   "metadata": {},
   "outputs": [
    {
     "name": "stdout",
     "output_type": "stream",
     "text": [
      "['0', '0', '0', '0', '0', '0', '0', '0', '0', '0']\n",
      "['0', '1', '2', '3', '4', '5', '6', '7', '8', '9']\n",
      "['0', '2', '4', '6', '8', '10', '12', '14', '16', '18']\n",
      "['0', '3', '6', '9', '12', '15', '18', '21', '24', '27']\n",
      "['0', '4', '8', '12', '16', '20', '24', '28', '32', '36']\n",
      "['0', '5', '10', '15', '20', '25', '30', '35', '40', '45']\n",
      "['0', '6', '12', '18', '24', '30', '36', '42', '48', '54']\n",
      "['0', '7', '14', '21', '28', '35', '42', '49', '56', '63']\n",
      "['0', '8', '16', '24', '32', '40', '48', '56', '64', '72']\n",
      "['0', '9', '18', '27', '36', '45', '54', '63', '72', '81']\n"
     ]
    }
   ],
   "source": [
    "for r in numbers:\n",
    "    print(r)"
   ]
  },
  {
   "cell_type": "code",
   "execution_count": 153,
   "id": "886ea64c",
   "metadata": {},
   "outputs": [
    {
     "name": "stdout",
     "output_type": "stream",
     "text": [
      "0\n",
      "0\n",
      "0\n",
      "0\n",
      "0\n",
      "0\n",
      "0\n",
      "0\n",
      "0\n",
      "0\n",
      "0\n",
      "1\n",
      "2\n",
      "3\n",
      "4\n",
      "5\n",
      "6\n",
      "7\n",
      "8\n",
      "9\n",
      "0\n",
      "2\n",
      "4\n",
      "6\n",
      "8\n",
      "10\n",
      "12\n",
      "14\n",
      "16\n",
      "18\n",
      "0\n",
      "3\n",
      "6\n",
      "9\n",
      "12\n",
      "15\n",
      "18\n",
      "21\n",
      "24\n",
      "27\n",
      "0\n",
      "4\n",
      "8\n",
      "12\n",
      "16\n",
      "20\n",
      "24\n",
      "28\n",
      "32\n",
      "36\n",
      "0\n",
      "5\n",
      "10\n",
      "15\n",
      "20\n",
      "25\n",
      "30\n",
      "35\n",
      "40\n",
      "45\n",
      "0\n",
      "6\n",
      "12\n",
      "18\n",
      "24\n",
      "30\n",
      "36\n",
      "42\n",
      "48\n",
      "54\n",
      "0\n",
      "7\n",
      "14\n",
      "21\n",
      "28\n",
      "35\n",
      "42\n",
      "49\n",
      "56\n",
      "63\n",
      "0\n",
      "8\n",
      "16\n",
      "24\n",
      "32\n",
      "40\n",
      "48\n",
      "56\n",
      "64\n",
      "72\n",
      "0\n",
      "9\n",
      "18\n",
      "27\n",
      "36\n",
      "45\n",
      "54\n",
      "63\n",
      "72\n",
      "81\n"
     ]
    }
   ],
   "source": [
    "for r in numbers:\n",
    "    for n in r:\n",
    "        print(n)"
   ]
  },
  {
   "cell_type": "code",
   "execution_count": 156,
   "id": "ca05908d",
   "metadata": {},
   "outputs": [
    {
     "name": "stdout",
     "output_type": "stream",
     "text": [
      "[['0', '0', '0', '0', '0', '0', '0', '0', '0', '0'], ['0', '1', '2', '3', '4', '5', '6', '7', '8', '9'], ['0', '2', '4', '6', '8', '10', '12', '14', '16', '18'], ['0', '3', '6', '9', '12', '15', '18', '21', '24', '27'], ['0', '4', '8', '12', '16', '20', '24', '28', '32', '36'], ['0', '5', '10', '15', '20', '25', '30', '35', '40', '45'], ['0', '6', '12', '18', '24', '30', '36', '42', '48', '54'], ['0', '7', '14', '21', '28', '35', '42', '49', '56', '63'], ['0', '8', '16', '24', '32', '40', '48', '56', '64', '72'], ['0', '9', '18', '27', '36', '45', '54', '63', '72', '81']]\n"
     ]
    }
   ],
   "source": [
    "for r in numbers:\n",
    "    for n in r:\n",
    "        n = int(n)\n",
    "print(numbers)"
   ]
  },
  {
   "cell_type": "code",
   "execution_count": 157,
   "id": "f55fdb65",
   "metadata": {},
   "outputs": [
    {
     "name": "stdout",
     "output_type": "stream",
     "text": [
      "['0', '0', '0', '0', '0', '0', '0', '0', '0', '0']\n",
      "['0', '1', '2', '3', '4', '5', '6', '7', '8', '9']\n",
      "['0', '2', '4', '6', '8', '10', '12', '14', '16', '18']\n",
      "['0', '3', '6', '9', '12', '15', '18', '21', '24', '27']\n",
      "['0', '4', '8', '12', '16', '20', '24', '28', '32', '36']\n",
      "['0', '5', '10', '15', '20', '25', '30', '35', '40', '45']\n",
      "['0', '6', '12', '18', '24', '30', '36', '42', '48', '54']\n",
      "['0', '7', '14', '21', '28', '35', '42', '49', '56', '63']\n",
      "['0', '8', '16', '24', '32', '40', '48', '56', '64', '72']\n",
      "['0', '9', '18', '27', '36', '45', '54', '63', '72', '81']\n"
     ]
    }
   ],
   "source": [
    "for i in range(len(numbers)):\n",
    "    print(numbers[i])"
   ]
  },
  {
   "cell_type": "code",
   "execution_count": 159,
   "id": "9d6598d4",
   "metadata": {},
   "outputs": [
    {
     "name": "stdout",
     "output_type": "stream",
     "text": [
      "[[0, 0, 0, 0, 0, 0, 0, 0, 0, 0], [0, 1, 2, 3, 4, 5, 6, 7, 8, 9], [0, 2, 4, 6, 8, 10, 12, 14, 16, 18], [0, 3, 6, 9, 12, 15, 18, 21, 24, 27], [0, 4, 8, 12, 16, 20, 24, 28, 32, 36], [0, 5, 10, 15, 20, 25, 30, 35, 40, 45], [0, 6, 12, 18, 24, 30, 36, 42, 48, 54], [0, 7, 14, 21, 28, 35, 42, 49, 56, 63], [0, 8, 16, 24, 32, 40, 48, 56, 64, 72], [0, 9, 18, 27, 36, 45, 54, 63, 72, 81]]\n"
     ]
    }
   ],
   "source": [
    "for i in range(len(numbers)):\n",
    "    for j in range(len(numbers[i])):\n",
    "        numbers[i][j] = int(numbers[i][j])\n",
    "print(numbers)"
   ]
  },
  {
   "cell_type": "markdown",
   "id": "cd2e1e03",
   "metadata": {},
   "source": [
    "__We can also write Dictionaries__"
   ]
  },
  {
   "cell_type": "code",
   "execution_count": 50,
   "id": "f41e8567",
   "metadata": {},
   "outputs": [],
   "source": [
    "with open('names.csv', 'w', newline='') as csvfile:\n",
    "    fieldnames = ['first_name', 'last_name']\n",
    "    writer = csv.DictWriter(csvfile, fieldnames=fieldnames)\n",
    "\n",
    "    writer.writeheader()\n",
    "    writer.writerow({'first_name': 'Baked', 'last_name': 'Beans'})\n",
    "    writer.writerow({'first_name': 'Lovely', 'last_name': 'Spam'})\n",
    "    writer.writerow({'first_name': 'Wonderful', 'last_name': 'Spam'})"
   ]
  },
  {
   "cell_type": "code",
   "execution_count": 52,
   "id": "fc6988dd",
   "metadata": {},
   "outputs": [
    {
     "name": "stdout",
     "output_type": "stream",
     "text": [
      "['first_name', 'last_name']\n",
      "['Baked', 'Beans']\n",
      "['Lovely', 'Spam']\n",
      "['Wonderful', 'Spam']\n"
     ]
    }
   ],
   "source": [
    "with open('names.csv') as csvfile:\n",
    "    reader = csv.reader(csvfile)\n",
    "    for r in reader:\n",
    "        print(r)"
   ]
  },
  {
   "cell_type": "code",
   "execution_count": 53,
   "id": "80d5890a",
   "metadata": {},
   "outputs": [
    {
     "name": "stdout",
     "output_type": "stream",
     "text": [
      "{'first_name': 'Baked', 'last_name': 'Beans'}\n",
      "{'first_name': 'Lovely', 'last_name': 'Spam'}\n",
      "{'first_name': 'Wonderful', 'last_name': 'Spam'}\n"
     ]
    }
   ],
   "source": [
    "with open('names.csv') as csvfile:\n",
    "    reader = csv.DictReader(csvfile)\n",
    "    for r in reader:\n",
    "        print(r)"
   ]
  },
  {
   "cell_type": "code",
   "execution_count": 55,
   "id": "08131e90",
   "metadata": {},
   "outputs": [
    {
     "name": "stdout",
     "output_type": "stream",
     "text": [
      "Baked\n",
      "Lovely\n",
      "Wonderful\n"
     ]
    }
   ],
   "source": [
    "with open('names.csv') as csvfile:\n",
    "    reader = csv.DictReader(csvfile)\n",
    "    for r in reader:\n",
    "        print(r['first_name'])"
   ]
  },
  {
   "cell_type": "code",
   "execution_count": 56,
   "id": "5ae1282f",
   "metadata": {},
   "outputs": [
    {
     "name": "stdout",
     "output_type": "stream",
     "text": [
      "Beans\n",
      "Spam\n",
      "Spam\n"
     ]
    }
   ],
   "source": [
    "with open('names.csv') as csvfile:\n",
    "    reader = csv.DictReader(csvfile)\n",
    "    for r in reader:\n",
    "        print(r['last_name'])"
   ]
  },
  {
   "cell_type": "markdown",
   "id": "22d492de",
   "metadata": {},
   "source": [
    "__Adding some numerical data__"
   ]
  },
  {
   "cell_type": "code",
   "execution_count": 71,
   "id": "780c1bbc",
   "metadata": {},
   "outputs": [],
   "source": [
    "with open('names.csv', 'w', newline='') as csvfile:\n",
    "    fieldnames = ['first_name', 'last_name', 'born']\n",
    "    writer = csv.DictWriter(csvfile, fieldnames=fieldnames)\n",
    "\n",
    "    writer.writeheader()\n",
    "    writer.writerow({'first_name': 'Baked', 'last_name': 'Beans', 'born':2010})\n",
    "    writer.writerow({'first_name': 'Lovely', 'last_name': 'Spam', 'born':2011})\n",
    "    writer.writerow({'first_name': 'Wonderful', 'last_name': 'Spam', 'born':2012})"
   ]
  },
  {
   "cell_type": "code",
   "execution_count": 72,
   "id": "21cb278e",
   "metadata": {},
   "outputs": [
    {
     "name": "stdout",
     "output_type": "stream",
     "text": [
      "{'first_name': 'Baked', 'last_name': 'Beans', 'born': '2010'}\n",
      "{'first_name': 'Lovely', 'last_name': 'Spam', 'born': '2011'}\n",
      "{'first_name': 'Wonderful', 'last_name': 'Spam', 'born': '2012'}\n"
     ]
    }
   ],
   "source": [
    "with open('names.csv') as csvfile:\n",
    "    reader = csv.DictReader(csvfile)\n",
    "    for r in reader:\n",
    "        print(r)"
   ]
  },
  {
   "cell_type": "markdown",
   "id": "cd8a8965",
   "metadata": {},
   "source": [
    "__Save the content to a variable__"
   ]
  },
  {
   "cell_type": "code",
   "execution_count": 74,
   "id": "df51d0a4",
   "metadata": {},
   "outputs": [],
   "source": [
    "name_contents=[]\n",
    "with open('names.csv') as csvfile:\n",
    "    reader = csv.DictReader(csvfile)\n",
    "    for r in reader:\n",
    "        name_contents.append(r)"
   ]
  },
  {
   "cell_type": "code",
   "execution_count": 75,
   "id": "a4f26e4c",
   "metadata": {},
   "outputs": [
    {
     "name": "stdout",
     "output_type": "stream",
     "text": [
      "[{'first_name': 'Baked', 'last_name': 'Beans', 'born': '2010'}, {'first_name': 'Lovely', 'last_name': 'Spam', 'born': '2011'}, {'first_name': 'Wonderful', 'last_name': 'Spam', 'born': '2012'}]\n"
     ]
    }
   ],
   "source": [
    "print(name_contents)"
   ]
  },
  {
   "cell_type": "code",
   "execution_count": 81,
   "id": "c16a5c55",
   "metadata": {},
   "outputs": [
    {
     "name": "stdout",
     "output_type": "stream",
     "text": [
      "2010\n",
      "2011\n",
      "2012\n"
     ]
    }
   ],
   "source": [
    "for n in name_contents:\n",
    "    print(n['born'])"
   ]
  },
  {
   "cell_type": "code",
   "execution_count": 80,
   "id": "75716b75",
   "metadata": {},
   "outputs": [
    {
     "name": "stdout",
     "output_type": "stream",
     "text": [
      "<class 'str'>\n",
      "<class 'str'>\n",
      "<class 'str'>\n"
     ]
    }
   ],
   "source": [
    "for n in name_contents:\n",
    "    print(type(n['born']))"
   ]
  },
  {
   "cell_type": "code",
   "execution_count": 82,
   "id": "04d0b2aa",
   "metadata": {},
   "outputs": [],
   "source": [
    "for n in name_contents:\n",
    "    n['born'] = int(n['born'])"
   ]
  },
  {
   "cell_type": "code",
   "execution_count": 83,
   "id": "1b01e689",
   "metadata": {},
   "outputs": [
    {
     "name": "stdout",
     "output_type": "stream",
     "text": [
      "<class 'int'>\n",
      "<class 'int'>\n",
      "<class 'int'>\n"
     ]
    }
   ],
   "source": [
    "for n in name_contents:\n",
    "    print(type(n['born']))"
   ]
  },
  {
   "cell_type": "code",
   "execution_count": 84,
   "id": "9e9c9edb",
   "metadata": {},
   "outputs": [
    {
     "name": "stdout",
     "output_type": "stream",
     "text": [
      "[{'first_name': 'Baked', 'last_name': 'Beans', 'born': 2010}, {'first_name': 'Lovely', 'last_name': 'Spam', 'born': 2011}, {'first_name': 'Wonderful', 'last_name': 'Spam', 'born': 2012}]\n"
     ]
    }
   ],
   "source": [
    "print(name_contents)"
   ]
  },
  {
   "cell_type": "markdown",
   "id": "d2139ca4",
   "metadata": {},
   "source": [
    "---\n",
    "\n",
    "### Example with Netflix dataset\n"
   ]
  },
  {
   "cell_type": "code",
   "execution_count": 67,
   "id": "950734bc",
   "metadata": {},
   "outputs": [
    {
     "name": "stdout",
     "output_type": "stream",
     "text": [
      "{'show_id': '81145628', 'type': 'Movie', 'title': 'Norm of the North: King Sized Adventure', 'director': 'Richard Finn, Tim Maltby', 'cast': 'Alan Marriott, Andrew Toth, Brian Dobson, Cole Howard, Jennifer Cameron, Jonathan Holmes, Lee Tockar, Lisa Durupt, Maya Kay, Michael Dobson', 'country': 'United States, India, South Korea, China', 'date_added': 'September 9, 2019', 'release_year': '2019', 'rating': 'TV-PG', 'duration': '90 min', 'listed_in': 'Children & Family Movies, Comedies', 'description': 'Before planning an awesome wedding for his grandfather, a polar bear king must take back a stolen artifact from an evil archaeologist first.'}\n"
     ]
    }
   ],
   "source": [
    "with open('netflix_titles.csv') as csvfile:\n",
    "    reader = csv.DictReader(csvfile)\n",
    "    print(reader.__next__())"
   ]
  },
  {
   "cell_type": "code",
   "execution_count": 68,
   "id": "519cfaab",
   "metadata": {},
   "outputs": [],
   "source": [
    "netflix_contents = []\n",
    "with open('netflix_titles.csv') as csvfile:\n",
    "    reader = csv.DictReader(csvfile)\n",
    "    for r in reader:\n",
    "        netflix_contents.append(r)"
   ]
  },
  {
   "cell_type": "code",
   "execution_count": 69,
   "id": "fa76ad78",
   "metadata": {
    "scrolled": true
   },
   "outputs": [
    {
     "data": {
      "text/plain": [
       "6234"
      ]
     },
     "execution_count": 69,
     "metadata": {},
     "output_type": "execute_result"
    }
   ],
   "source": [
    "len(netflix_contents)"
   ]
  },
  {
   "cell_type": "code",
   "execution_count": 85,
   "id": "0b906e68",
   "metadata": {},
   "outputs": [],
   "source": [
    "for video in netflix_contents:\n",
    "    video['release_year'] = int(video['release_year']) "
   ]
  },
  {
   "cell_type": "code",
   "execution_count": 87,
   "id": "ed40ba5a",
   "metadata": {
    "scrolled": true
   },
   "outputs": [
    {
     "name": "stdout",
     "output_type": "stream",
     "text": [
      "{'show_id': '81145628', 'type': 'Movie', 'title': 'Norm of the North: King Sized Adventure', 'director': 'Richard Finn, Tim Maltby', 'cast': 'Alan Marriott, Andrew Toth, Brian Dobson, Cole Howard, Jennifer Cameron, Jonathan Holmes, Lee Tockar, Lisa Durupt, Maya Kay, Michael Dobson', 'country': 'United States, India, South Korea, China', 'date_added': 'September 9, 2019', 'release_year': 2019, 'rating': 'TV-PG', 'duration': '90 min', 'listed_in': 'Children & Family Movies, Comedies', 'description': 'Before planning an awesome wedding for his grandfather, a polar bear king must take back a stolen artifact from an evil archaeologist first.'}\n"
     ]
    }
   ],
   "source": [
    "print(netflix_contents[0])"
   ]
  },
  {
   "cell_type": "markdown",
   "id": "29a12458",
   "metadata": {},
   "source": [
    "__Sort data on the content of an entry__"
   ]
  },
  {
   "cell_type": "code",
   "execution_count": 93,
   "id": "6766f791",
   "metadata": {},
   "outputs": [],
   "source": [
    "netflix_contents.sort(key= lambda x : x['release_year'])"
   ]
  },
  {
   "cell_type": "code",
   "execution_count": 94,
   "id": "c0ca2085",
   "metadata": {
    "scrolled": true
   },
   "outputs": [
    {
     "name": "stdout",
     "output_type": "stream",
     "text": [
      "{'show_id': '81030762', 'type': 'TV Show', 'title': 'Pioneers: First Women Filmmakers*', 'director': '', 'cast': '', 'country': '', 'date_added': 'December 30, 2018', 'release_year': 1925, 'rating': 'TV-PG', 'duration': '1 Season', 'listed_in': 'TV Shows', 'description': 'This collection restores films from women who tackled hot-button issues, transcended norms, and left a mark on the history of cinema and the industry.'}\n"
     ]
    }
   ],
   "source": [
    "print(netflix_contents[0])"
   ]
  },
  {
   "cell_type": "markdown",
   "id": "80ffc093",
   "metadata": {},
   "source": [
    "__Show nr of entries that match a certain condition__"
   ]
  },
  {
   "cell_type": "code",
   "execution_count": 96,
   "id": "b45c38fe",
   "metadata": {
    "scrolled": true
   },
   "outputs": [
    {
     "name": "stdout",
     "output_type": "stream",
     "text": [
      "4265\n"
     ]
    }
   ],
   "source": [
    "count = 0\n",
    "for video in netflix_contents:\n",
    "    if video['type']=='Movie':\n",
    "        count+=1\n",
    "print(count)"
   ]
  },
  {
   "cell_type": "markdown",
   "id": "d5b756b0",
   "metadata": {},
   "source": [
    "__Show all titles that match a certain condition__"
   ]
  },
  {
   "cell_type": "code",
   "execution_count": 99,
   "id": "ab3f179f",
   "metadata": {},
   "outputs": [
    {
     "name": "stdout",
     "output_type": "stream",
     "text": [
      "Pulp Fiction\n",
      "Jackie Brown\n",
      "Kill Bill: Vol. 1\n",
      "Kill Bill: Vol. 2\n",
      "Inglourious Basterds\n",
      "The Hateful Eight\n",
      "The Hateful Eight: Extended Version\n"
     ]
    }
   ],
   "source": [
    "for video in netflix_contents:\n",
    "    if 'Quentin Tarantino' == video['director']:\n",
    "        print(video['title'])"
   ]
  },
  {
   "cell_type": "code",
   "execution_count": 100,
   "id": "43ac3597",
   "metadata": {
    "scrolled": true
   },
   "outputs": [
    {
     "name": "stdout",
     "output_type": "stream",
     "text": [
      "A Stoning in Fulham County\n",
      "Ocean's Twelve\n",
      "Troy\n",
      "Babel\n",
      "Ocean's Thirteen\n",
      "Inglourious Basterds\n",
      "War Machine\n"
     ]
    }
   ],
   "source": [
    "for video in netflix_contents:\n",
    "    if 'Brad Pitt' in video['cast']:\n",
    "        print(video['title'])"
   ]
  },
  {
   "cell_type": "markdown",
   "id": "b9f01edb",
   "metadata": {},
   "source": [
    "__Show all titles that match multiple conditions__"
   ]
  },
  {
   "cell_type": "code",
   "execution_count": 101,
   "id": "a1ba3c06",
   "metadata": {
    "scrolled": false
   },
   "outputs": [
    {
     "name": "stdout",
     "output_type": "stream",
     "text": [
      "Inglourious Basterds\n"
     ]
    }
   ],
   "source": [
    "for video in netflix_contents:\n",
    "    if 'Quentin Tarantino' == video['director'] and 'Brad Pitt' in video['cast']:\n",
    "        print(video['title'])"
   ]
  },
  {
   "cell_type": "markdown",
   "id": "7ad2e24f",
   "metadata": {},
   "source": [
    "---\n",
    "\n",
    "### 2D arrays continued\n"
   ]
  },
  {
   "cell_type": "code",
   "execution_count": 181,
   "id": "3715db5a",
   "metadata": {},
   "outputs": [],
   "source": [
    "grid = []\n",
    "for i in range(3):\n",
    "    row = []\n",
    "    for j in range(3):\n",
    "        row.append(i+j)\n",
    "    grid.append(row)"
   ]
  },
  {
   "cell_type": "code",
   "execution_count": 182,
   "id": "85132661",
   "metadata": {},
   "outputs": [
    {
     "name": "stdout",
     "output_type": "stream",
     "text": [
      "[[0, 1, 2], [1, 2, 3], [2, 3, 4]]\n"
     ]
    }
   ],
   "source": [
    "print(grid)"
   ]
  },
  {
   "cell_type": "code",
   "execution_count": 183,
   "id": "23406e36",
   "metadata": {},
   "outputs": [
    {
     "name": "stdout",
     "output_type": "stream",
     "text": [
      "[0, 1, 2]\n",
      "[1, 2, 3]\n",
      "[2, 3, 4]\n"
     ]
    }
   ],
   "source": [
    "for r in grid:\n",
    "    print(r)"
   ]
  },
  {
   "cell_type": "code",
   "execution_count": 184,
   "id": "53083bc1",
   "metadata": {},
   "outputs": [
    {
     "data": {
      "text/plain": [
       "[0, 1, 2]"
      ]
     },
     "execution_count": 184,
     "metadata": {},
     "output_type": "execute_result"
    }
   ],
   "source": [
    "grid[0]"
   ]
  },
  {
   "cell_type": "code",
   "execution_count": 187,
   "id": "d50aad71",
   "metadata": {},
   "outputs": [
    {
     "data": {
      "text/plain": [
       "2"
      ]
     },
     "execution_count": 187,
     "metadata": {},
     "output_type": "execute_result"
    }
   ],
   "source": [
    "grid[1][1]"
   ]
  },
  {
   "cell_type": "markdown",
   "id": "8facdd8f",
   "metadata": {},
   "source": [
    "What's the coordinate of the cell above?"
   ]
  },
  {
   "cell_type": "code",
   "execution_count": 188,
   "id": "d9dfe103",
   "metadata": {},
   "outputs": [
    {
     "ename": "SyntaxError",
     "evalue": "invalid syntax (2588316560.py, line 1)",
     "output_type": "error",
     "traceback": [
      "\u001b[0;36m  Input \u001b[0;32mIn [188]\u001b[0;36m\u001b[0m\n\u001b[0;31m    grid[][]\u001b[0m\n\u001b[0m         ^\u001b[0m\n\u001b[0;31mSyntaxError\u001b[0m\u001b[0;31m:\u001b[0m invalid syntax\n"
     ]
    }
   ],
   "source": [
    "grid[][]"
   ]
  },
  {
   "cell_type": "markdown",
   "id": "07a9cb3d",
   "metadata": {},
   "source": [
    "so the difference is?"
   ]
  },
  {
   "cell_type": "code",
   "execution_count": 191,
   "id": "5807b4e5",
   "metadata": {},
   "outputs": [
    {
     "ename": "SyntaxError",
     "evalue": "invalid syntax (2562505560.py, line 1)",
     "output_type": "error",
     "traceback": [
      "\u001b[0;36m  Input \u001b[0;32mIn [191]\u001b[0;36m\u001b[0m\n\u001b[0;31m    a =\u001b[0m\n\u001b[0m        ^\u001b[0m\n\u001b[0;31mSyntaxError\u001b[0m\u001b[0;31m:\u001b[0m invalid syntax\n"
     ]
    }
   ],
   "source": [
    "a = \n",
    "b = \n",
    "difference = (a,b)\n",
    "grid[1+difference[0]][1+difference[1]]"
   ]
  }
 ],
 "metadata": {
  "kernelspec": {
   "display_name": "Python 3 (ipykernel)",
   "language": "python",
   "name": "python3"
  },
  "language_info": {
   "codemirror_mode": {
    "name": "ipython",
    "version": 3
   },
   "file_extension": ".py",
   "mimetype": "text/x-python",
   "name": "python",
   "nbconvert_exporter": "python",
   "pygments_lexer": "ipython3",
   "version": "3.8.13"
  }
 },
 "nbformat": 4,
 "nbformat_minor": 5
}
