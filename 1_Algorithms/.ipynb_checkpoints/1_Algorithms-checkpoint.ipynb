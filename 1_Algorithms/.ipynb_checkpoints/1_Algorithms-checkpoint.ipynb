{
 "cells": [
  {
   "cell_type": "markdown",
   "id": "cc0ad464",
   "metadata": {},
   "source": [
    "---\n",
    "<br/><br/>\n",
    "<br/><br/>\n",
    "<br/><br/>\n",
    "## Session 1 \n",
    "\n",
    "### Algorithms, Functions, Classes, Read and Write files\n",
    "\n",
    "_Julian Besems_\n",
    "<br/><br/>\n",
    "<br/><br/>\n",
    "<br/><br/>"
   ]
  },
  {
   "cell_type": "markdown",
   "id": "dbb20e5d",
   "metadata": {},
   "source": [
    "------------------\n",
    "<br/><br/>\n",
    "<br/><br/>\n",
    "<br/><br/>\n",
    "# Concepts\n",
    "- _Algorithm:_ Precise description of what has to be done to arrive to a solution of a specific problem\n",
    "- _Programming language:_ Formalism to denote algorithms in such a way that they can be executed by a computer\n",
    "- _Program:_ An algorithm that can be executed by a computer\n",
    "- _Programming:_ The manufacturing of a program\n",
    "- _Programming environment:_ Tool set to augment human intelligence (you) in programming [Douglas Engelbart]\n",
    "<br/><br/>\n",
    "<br/><br/>\n",
    "<br/><br/>"
   ]
  },
  {
   "cell_type": "markdown",
   "id": "6ec3b0da",
   "metadata": {},
   "source": [
    "----\n",
    "\n",
    "<br/><br/>\n",
    "# Algorithms in daily life"
   ]
  },
  {
   "cell_type": "markdown",
   "id": "1c0d74f9",
   "metadata": {},
   "source": [
    "<img src=\"https://raw.githubusercontent.com/JulianBesems/UD_IntroProject2021/main/2_Algorithms/ImagesSlides2/0_ramen.png\" alt=\"drawing\" width=\"1080\"/>"
   ]
  },
  {
   "cell_type": "markdown",
   "id": "9fc32d0f",
   "metadata": {},
   "source": [
    "\n",
    "\n",
    "### Remarks\n",
    "- Subdivision of alrogithms\n",
    "- sequence is important"
   ]
  },
  {
   "cell_type": "markdown",
   "id": "e253653f",
   "metadata": {},
   "source": [
    "----\n",
    "<br/><br/>\n",
    "# Algorithms and Languages\n",
    "\n",
    "## Algorithms\n",
    "---\n",
    "### Algorithm\n",
    "- Elementary\n",
    "- Compound \n",
    "---\n",
    "_Acts on one or more data objects_\n",
    "\n",
    "---\n",
    "### Data objects\n",
    "- Elementary\n",
    "- Compound\n",
    "\n",
    "---\n",
    "\n",
    "## Languages\n",
    "---\n",
    "### Syntax\n",
    "- When a progam is well-formed\n",
    "\n",
    "### Semantics\n",
    "- What a program does"
   ]
  },
  {
   "cell_type": "markdown",
   "id": "3bd8c96f",
   "metadata": {},
   "source": [
    "----\n",
    "<br/><br/>\n",
    "# Use of a language\n",
    "1. Identify the problem\n",
    "2. Think of an algorithmic approach to solving it\n",
    "3. Formulate it in a programming language\n",
    "\n",
    "<br/> <br/>\n",
    "_Not too dissimular from architectural language of technical drawing._\n",
    "- Identify design problem\n",
    "- Develop an approach through sketching\n",
    "- Formulate the design in technical drawings like sections and plans"
   ]
  },
  {
   "cell_type": "markdown",
   "id": "19807be0",
   "metadata": {},
   "source": [
    "---\n",
    "<br/><br/>\n",
    "<br/><br/>\n",
    "<br/><br/>\n",
    "# Building blocks for algorithms"
   ]
  },
  {
   "cell_type": "markdown",
   "id": "d5124f0e",
   "metadata": {},
   "source": [
    "__Variables__"
   ]
  },
  {
   "cell_type": "code",
   "execution_count": null,
   "id": "f13cf0a9",
   "metadata": {},
   "outputs": [],
   "source": []
  },
  {
   "cell_type": "markdown",
   "id": "5e253977",
   "metadata": {},
   "source": [
    "__Operators__"
   ]
  },
  {
   "cell_type": "code",
   "execution_count": null,
   "id": "1b94e4f2",
   "metadata": {},
   "outputs": [],
   "source": []
  },
  {
   "cell_type": "markdown",
   "id": "b9be1046",
   "metadata": {},
   "source": [
    "__Conditions__"
   ]
  },
  {
   "cell_type": "code",
   "execution_count": null,
   "id": "32a9df27",
   "metadata": {},
   "outputs": [],
   "source": []
  },
  {
   "cell_type": "markdown",
   "id": "fc6fba60",
   "metadata": {},
   "source": [
    "__Loops__"
   ]
  },
  {
   "cell_type": "code",
   "execution_count": null,
   "id": "1f75039f",
   "metadata": {},
   "outputs": [],
   "source": []
  },
  {
   "cell_type": "markdown",
   "id": "a9777a7e",
   "metadata": {},
   "source": [
    "__Functions__"
   ]
  },
  {
   "cell_type": "code",
   "execution_count": null,
   "id": "afa41e60",
   "metadata": {},
   "outputs": [],
   "source": []
  },
  {
   "cell_type": "markdown",
   "id": "7763c2e9",
   "metadata": {},
   "source": [
    "__Classes__"
   ]
  },
  {
   "cell_type": "code",
   "execution_count": null,
   "id": "84af82bb",
   "metadata": {},
   "outputs": [],
   "source": []
  },
  {
   "cell_type": "markdown",
   "id": "c0137ea1",
   "metadata": {},
   "source": [
    "---\n",
    "<br/><br/>\n",
    "<br/><br/>\n",
    "<br/><br/>\n",
    "# Composite variables"
   ]
  },
  {
   "cell_type": "markdown",
   "id": "dbf8d954",
   "metadata": {},
   "source": [
    "<br/><br/>\n",
    "```string``` : _sequence of characters_\n",
    "\n",
    "_any sequence of symbols between ```' '``` or ```\" \"``` is a character_"
   ]
  },
  {
   "cell_type": "code",
   "execution_count": 1,
   "id": "df05f837",
   "metadata": {},
   "outputs": [],
   "source": [
    "myString = \"Hello World!\""
   ]
  },
  {
   "cell_type": "markdown",
   "id": "9e72c91b",
   "metadata": {},
   "source": [
    "<br/><br/>\n",
    "\n",
    "-----\n",
    "```[]``` : _list_, A data structure that consists of an ordered set of elements. \n"
   ]
  },
  {
   "cell_type": "code",
   "execution_count": 2,
   "id": "05216eb1",
   "metadata": {},
   "outputs": [],
   "source": [
    "numbers = [1,2,3,4,5]"
   ]
  },
  {
   "cell_type": "markdown",
   "id": "861da9f9",
   "metadata": {},
   "source": [
    "---\n",
    "<br/><br/>\n",
    "<br/><br/>\n",
    "## Lists\n",
    "\n",
    "<br/><br/>\n"
   ]
  },
  {
   "cell_type": "code",
   "execution_count": 3,
   "id": "73eeb26d",
   "metadata": {},
   "outputs": [],
   "source": [
    "myList = ['apple', 'banana', 'pear']"
   ]
  },
  {
   "cell_type": "code",
   "execution_count": 4,
   "id": "be018d24",
   "metadata": {},
   "outputs": [
    {
     "name": "stdout",
     "output_type": "stream",
     "text": [
      "pear\n"
     ]
    }
   ],
   "source": [
    "print(myList[2])"
   ]
  },
  {
   "cell_type": "code",
   "execution_count": 5,
   "id": "bda0d8b9",
   "metadata": {},
   "outputs": [],
   "source": [
    "myList = []"
   ]
  },
  {
   "cell_type": "code",
   "execution_count": 6,
   "id": "93bc14a1",
   "metadata": {},
   "outputs": [],
   "source": [
    "myList.append(1)\n",
    "myList.append(2)\n",
    "myList.append(3)"
   ]
  },
  {
   "cell_type": "code",
   "execution_count": 7,
   "id": "fb37ca5e",
   "metadata": {},
   "outputs": [
    {
     "name": "stdout",
     "output_type": "stream",
     "text": [
      "[1, 2, 3]\n"
     ]
    }
   ],
   "source": [
    "print(myList)"
   ]
  },
  {
   "cell_type": "code",
   "execution_count": 8,
   "id": "54439bb9",
   "metadata": {},
   "outputs": [],
   "source": [
    "myList = ['apple', 'banana', 'pear']\n",
    "myList.append(1)"
   ]
  },
  {
   "cell_type": "code",
   "execution_count": 9,
   "id": "3a905396",
   "metadata": {},
   "outputs": [
    {
     "name": "stdout",
     "output_type": "stream",
     "text": [
      "['apple', 'banana', 'pear', 1]\n"
     ]
    }
   ],
   "source": [
    "print(myList)"
   ]
  },
  {
   "cell_type": "markdown",
   "id": "3334a6f4",
   "metadata": {},
   "source": [
    "_Even in lists python doesn't care about mixing types!!!_\n",
    "__BE CAREFULL!!!__"
   ]
  },
  {
   "cell_type": "code",
   "execution_count": 10,
   "id": "9b11e32b",
   "metadata": {},
   "outputs": [
    {
     "name": "stdout",
     "output_type": "stream",
     "text": [
      "apple\n",
      "banana\n",
      "pear\n",
      "1\n"
     ]
    }
   ],
   "source": [
    "for fruit in myList:\n",
    "    print(fruit)"
   ]
  },
  {
   "cell_type": "markdown",
   "id": "8dbc5bdb",
   "metadata": {},
   "source": [
    "---\n",
    "<br/><br/>\n",
    "<br/><br/>\n",
    "## Dictionary\n",
    "\n",
    "<br/><br/>\n"
   ]
  },
  {
   "cell_type": "code",
   "execution_count": 11,
   "id": "583ef4f3",
   "metadata": {},
   "outputs": [],
   "source": [
    "thisDict = {\n",
    "    'brand':'Ford',\n",
    "    'model':'Mustang',\n",
    "    'year':'1964'}"
   ]
  },
  {
   "cell_type": "code",
   "execution_count": 12,
   "id": "061a40f0",
   "metadata": {},
   "outputs": [
    {
     "name": "stdout",
     "output_type": "stream",
     "text": [
      "Mustang\n"
     ]
    }
   ],
   "source": [
    "print(thisDict['model'])"
   ]
  },
  {
   "cell_type": "code",
   "execution_count": 13,
   "id": "02e98bf4",
   "metadata": {},
   "outputs": [
    {
     "ename": "KeyError",
     "evalue": "1",
     "output_type": "error",
     "traceback": [
      "\u001b[0;31m---------------------------------------------------------------------------\u001b[0m",
      "\u001b[0;31mKeyError\u001b[0m                                  Traceback (most recent call last)",
      "Input \u001b[0;32mIn [13]\u001b[0m, in \u001b[0;36m<cell line: 1>\u001b[0;34m()\u001b[0m\n\u001b[0;32m----> 1\u001b[0m \u001b[38;5;28mprint\u001b[39m(\u001b[43mthisDict\u001b[49m\u001b[43m[\u001b[49m\u001b[38;5;241;43m1\u001b[39;49m\u001b[43m]\u001b[49m)\n",
      "\u001b[0;31mKeyError\u001b[0m: 1"
     ]
    }
   ],
   "source": [
    "print(thisDict[1])"
   ]
  },
  {
   "cell_type": "code",
   "execution_count": 14,
   "id": "bfdf1723",
   "metadata": {},
   "outputs": [],
   "source": [
    "thisDict['year'] = 2021"
   ]
  },
  {
   "cell_type": "code",
   "execution_count": 15,
   "id": "89d93bdd",
   "metadata": {},
   "outputs": [
    {
     "name": "stdout",
     "output_type": "stream",
     "text": [
      "brand\n",
      "model\n",
      "year\n"
     ]
    }
   ],
   "source": [
    "for x in thisDict:\n",
    "    print(x)"
   ]
  },
  {
   "cell_type": "code",
   "execution_count": 16,
   "id": "da3c3a94",
   "metadata": {},
   "outputs": [
    {
     "name": "stdout",
     "output_type": "stream",
     "text": [
      "{'brand': 'Ford', 'model': 'Mustang', 'year': 2021}\n"
     ]
    }
   ],
   "source": [
    "print(thisDict)"
   ]
  },
  {
   "cell_type": "code",
   "execution_count": 17,
   "id": "e03687b0",
   "metadata": {},
   "outputs": [
    {
     "name": "stdout",
     "output_type": "stream",
     "text": [
      "Ford\n",
      "Mustang\n",
      "2021\n"
     ]
    }
   ],
   "source": [
    "for x in thisDict:\n",
    "    print(thisDict[x])"
   ]
  },
  {
   "cell_type": "code",
   "execution_count": 18,
   "id": "598660f4",
   "metadata": {},
   "outputs": [
    {
     "name": "stdout",
     "output_type": "stream",
     "text": [
      "Ford\n",
      "Mustang\n",
      "2021\n"
     ]
    }
   ],
   "source": [
    "for x in thisDict.values():\n",
    "    print(x)"
   ]
  },
  {
   "cell_type": "code",
   "execution_count": 19,
   "id": "d6c6e4d0",
   "metadata": {},
   "outputs": [
    {
     "name": "stdout",
     "output_type": "stream",
     "text": [
      "dict_values(['Ford', 'Mustang', 2021])\n"
     ]
    }
   ],
   "source": [
    "print(thisDict.values())"
   ]
  },
  {
   "cell_type": "code",
   "execution_count": 20,
   "id": "aede0dd9",
   "metadata": {},
   "outputs": [
    {
     "name": "stdout",
     "output_type": "stream",
     "text": [
      "dict_keys(['brand', 'model', 'year'])\n"
     ]
    }
   ],
   "source": [
    "print(thisDict.keys())"
   ]
  },
  {
   "cell_type": "code",
   "execution_count": 21,
   "id": "8d7bfc9b",
   "metadata": {},
   "outputs": [
    {
     "name": "stdout",
     "output_type": "stream",
     "text": [
      "brand Ford\n",
      "model Mustang\n",
      "year 2021\n"
     ]
    }
   ],
   "source": [
    "for x, y in thisDict.items():\n",
    "    print(x,y)"
   ]
  },
  {
   "cell_type": "code",
   "execution_count": 22,
   "id": "3c523fb5",
   "metadata": {},
   "outputs": [
    {
     "name": "stdout",
     "output_type": "stream",
     "text": [
      "dict_items([('brand', 'Ford'), ('model', 'Mustang'), ('year', 2021)])\n"
     ]
    }
   ],
   "source": [
    "print(thisDict.items())"
   ]
  },
  {
   "cell_type": "code",
   "execution_count": 23,
   "id": "6604762a",
   "metadata": {},
   "outputs": [
    {
     "name": "stdout",
     "output_type": "stream",
     "text": [
      "[('brand', 'Ford'), ('model', 'Mustang'), ('year', 2021)]\n"
     ]
    }
   ],
   "source": [
    "print(list(thisDict.items()))"
   ]
  },
  {
   "cell_type": "code",
   "execution_count": 24,
   "id": "0d22c3cd",
   "metadata": {},
   "outputs": [
    {
     "data": {
      "text/plain": [
       "'Ford'"
      ]
     },
     "execution_count": 24,
     "metadata": {},
     "output_type": "execute_result"
    }
   ],
   "source": [
    "items = list(thisDict.items())\n",
    "items[0][1]"
   ]
  },
  {
   "cell_type": "markdown",
   "id": "ab57b3d3",
   "metadata": {},
   "source": [
    "<br/><br/>\n",
    "Adding fields:"
   ]
  },
  {
   "cell_type": "code",
   "execution_count": 25,
   "id": "bb4eee07",
   "metadata": {},
   "outputs": [],
   "source": [
    "thisDict['colour'] = 'red'"
   ]
  },
  {
   "cell_type": "code",
   "execution_count": 26,
   "id": "22a41039",
   "metadata": {},
   "outputs": [
    {
     "name": "stdout",
     "output_type": "stream",
     "text": [
      "brand Ford\n",
      "model Mustang\n",
      "year 2021\n",
      "colour red\n"
     ]
    }
   ],
   "source": [
    "for x, y in thisDict.items():\n",
    "    print(x, y)"
   ]
  },
  {
   "cell_type": "markdown",
   "id": "7b4ce5a8",
   "metadata": {},
   "source": [
    "<br/><br/>\n",
    "Removing fields:"
   ]
  },
  {
   "cell_type": "code",
   "execution_count": 27,
   "id": "4f81c05d",
   "metadata": {},
   "outputs": [
    {
     "data": {
      "text/plain": [
       "'Mustang'"
      ]
     },
     "execution_count": 27,
     "metadata": {},
     "output_type": "execute_result"
    }
   ],
   "source": [
    "thisDict.pop('model')"
   ]
  },
  {
   "cell_type": "code",
   "execution_count": 28,
   "id": "e9250073",
   "metadata": {
    "scrolled": true
   },
   "outputs": [
    {
     "name": "stdout",
     "output_type": "stream",
     "text": [
      "brand Ford\n",
      "year 2021\n",
      "colour red\n"
     ]
    }
   ],
   "source": [
    "for x, y in thisDict.items():\n",
    "    print(x, y)"
   ]
  },
  {
   "cell_type": "markdown",
   "id": "954910f5",
   "metadata": {},
   "source": [
    "---\n",
    "<br/><br/>\n",
    "<br/><br/>\n",
    "## Functions\n",
    "\n",
    "<br/><br/>\n",
    "\n",
    "```python\n",
    "def myFunction(arg1, arg2):\n",
    "    someStatements\n",
    "    ...\n",
    "    return someValue\n",
    "```\n",
    "\n",
    "```myFunction``` : Name of the function\n",
    "\n",
    "```arg1, arg2``` : list of argument names\n",
    "\n",
    "```someStatements ...``` : What is done when the function is called\n",
    "\n",
    "```someValue``` : What's returned at the end of the function _(return statement Not Mandatory)_"
   ]
  },
  {
   "cell_type": "code",
   "execution_count": 29,
   "id": "ad1b6bbb",
   "metadata": {},
   "outputs": [],
   "source": [
    "def printFibonacci(upTo):\n",
    "    n1 = 0\n",
    "    n2 = 1\n",
    "\n",
    "    while n1<upTo:\n",
    "        print(n1)\n",
    "        m = n1 + n2\n",
    "        n1 = n2\n",
    "        n2 = m"
   ]
  },
  {
   "cell_type": "code",
   "execution_count": 32,
   "id": "af8f0e71",
   "metadata": {
    "scrolled": true
   },
   "outputs": [
    {
     "name": "stdout",
     "output_type": "stream",
     "text": [
      "0\n",
      "1\n",
      "1\n",
      "2\n",
      "3\n",
      "5\n",
      "8\n",
      "13\n",
      "21\n",
      "34\n",
      "55\n",
      "89\n",
      "144\n",
      "233\n"
     ]
    }
   ],
   "source": [
    "printFibonacci(300)"
   ]
  },
  {
   "cell_type": "markdown",
   "id": "75a3969c",
   "metadata": {},
   "source": [
    "---\n",
    "Use a function to retrieve a certain output depending on a given variable:"
   ]
  },
  {
   "cell_type": "code",
   "execution_count": 33,
   "id": "b0ba2af5",
   "metadata": {},
   "outputs": [],
   "source": [
    "def getFibonacciAbove(number):\n",
    "    n1 = 0\n",
    "    n2 = 1\n",
    "\n",
    "    while n1<number:\n",
    "        m = n1 + n2\n",
    "        n1 = n2\n",
    "        n2 = m\n",
    "    return n1"
   ]
  },
  {
   "cell_type": "code",
   "execution_count": 34,
   "id": "2dd4321f",
   "metadata": {
    "scrolled": true
   },
   "outputs": [
    {
     "name": "stdout",
     "output_type": "stream",
     "text": [
      "55\n"
     ]
    }
   ],
   "source": [
    "nf = getFibonacciAbove(40)\n",
    "print(nf)"
   ]
  },
  {
   "cell_type": "markdown",
   "id": "9933d21a",
   "metadata": {},
   "source": [
    "---\n",
    "<br/><br/>\n",
    "<br/><br/>\n",
    "## Algorithm of Euclid\n",
    "\n",
    "One of the oldest algorithms. It was named after the ancient Greek mathematician Euclid, who described it in around 300 BC. \n",
    "\n",
    "It's an algorithm to find the greatest common divisor (GCD) of two integers. \n",
    "\n",
    "---------\n",
    "\n",
    "It starts with a lemma that:\n",
    "\n",
    "Given 2 natural numbers ($\\mathbb{N}$, positive integers) $n$ and $d$, then there are non-negative whole numbers $q$ and $r$ so that\n",
    "\n",
    "$n = qd+r$\n",
    "\n",
    "where $r$ is smaller than $d$\n"
   ]
  },
  {
   "cell_type": "code",
   "execution_count": 60,
   "id": "17d2563e",
   "metadata": {},
   "outputs": [
    {
     "name": "stdout",
     "output_type": "stream",
     "text": [
      "q: 1\n",
      "r: 38\n",
      "qd+r: 78\n"
     ]
    }
   ],
   "source": [
    "n = 78\n",
    "d = 40\n",
    "\n",
    "q = int(n/d)\n",
    "r = n-q*d\n",
    "\n",
    "print('q: '+str(q))\n",
    "print('r: '+str(r))\n",
    "print('qd+r: '+str(q*d+r))\n"
   ]
  },
  {
   "cell_type": "markdown",
   "id": "e317b675",
   "metadata": {},
   "source": [
    "Another way to find $r$ is through the modulo operator ```%```:"
   ]
  },
  {
   "cell_type": "code",
   "execution_count": 61,
   "id": "519ab201",
   "metadata": {},
   "outputs": [
    {
     "data": {
      "text/plain": [
       "38"
      ]
     },
     "execution_count": 61,
     "metadata": {},
     "output_type": "execute_result"
    }
   ],
   "source": [
    "n%d"
   ]
  },
  {
   "cell_type": "markdown",
   "id": "161ae603",
   "metadata": {},
   "source": [
    "Now given $m,n \\in \\mathbb{N}$ and $m>n$ (otherwise swap them around)\n",
    "\n",
    "Then we know that there exist $q,r \\in \\mathbb{Z+}$ so that $m=qn+r$\n",
    "\n",
    "<br/><br/>\n",
    "\n",
    "The crucial step in the algorithm is that following \n",
    "\n",
    "$r = m-qn$ \n",
    "\n",
    "any $d$ for which $d|m$ and $d|n$ then also $d|r$\n",
    "\n",
    "so any $GCD(m,n)$ is equal to $GCD(n,r)$ \n",
    "\n",
    "\n",
    "<br/><br/>\n",
    "\n",
    "So if we can find $GCD(n,r)$ we're done. This is easier since $n,r$ are smaller than $m,n$.\n",
    "\n",
    "There are then two options:\n",
    "\n",
    "- $r=0$ in which case $GCD(n,r)=GCD(n,0)=n$ so $GCD(m,n) = n$\n",
    "    \n",
    "- or $r>0$ in which case we repeat the step to get $q_1, r_1$\n",
    "\n",
    "For instance:\n",
    "\n",
    "$102 = 1*84 + 18$\n",
    "\n",
    "$84 = 4*18 + 12$\n",
    "\n",
    "$18 = 1*12+6$\n",
    "\n",
    "$12 = 2*6+0$\n",
    "\n",
    "so $GCD(102,84) = 6$"
   ]
  },
  {
   "cell_type": "markdown",
   "id": "39850312",
   "metadata": {},
   "source": [
    "<img src=\"https://upload.wikimedia.org/wikipedia/commons/thumb/1/1c/Euclidean_algorithm_1071_462.gif/340px-Euclidean_algorithm_1071_462.gif\" alt=\"drawing\" width=\"200\"/><br/><br/>\n",
    "\n",
    "_Example on wikipedia:_\n",
    "\n",
    "The initial rectangle has dimensions 1071 by 462\n",
    "The smallest square is 21 by 21"
   ]
  },
  {
   "cell_type": "code",
   "execution_count": 64,
   "id": "3df45d4b",
   "metadata": {},
   "outputs": [],
   "source": [
    "def euclidGCD(n,r):\n",
    "    while r != 0:\n",
    "        t = r\n",
    "        r = n%r\n",
    "        n = t\n",
    "    return n"
   ]
  },
  {
   "cell_type": "code",
   "execution_count": 65,
   "id": "792ee89d",
   "metadata": {},
   "outputs": [
    {
     "name": "stdout",
     "output_type": "stream",
     "text": [
      "1071\n",
      "462\n"
     ]
    },
    {
     "data": {
      "text/plain": [
       "21"
      ]
     },
     "execution_count": 65,
     "metadata": {},
     "output_type": "execute_result"
    }
   ],
   "source": [
    "number1 = int(input())\n",
    "number2 = int(input())\n",
    "a = max(number1, number2)\n",
    "b = min(number1, number2)\n",
    "euclidGCD(a,b)"
   ]
  },
  {
   "cell_type": "code",
   "execution_count": null,
   "id": "87ad4722",
   "metadata": {},
   "outputs": [],
   "source": []
  }
 ],
 "metadata": {
  "kernelspec": {
   "display_name": "Python 3 (ipykernel)",
   "language": "python",
   "name": "python3"
  },
  "language_info": {
   "codemirror_mode": {
    "name": "ipython",
    "version": 3
   },
   "file_extension": ".py",
   "mimetype": "text/x-python",
   "name": "python",
   "nbconvert_exporter": "python",
   "pygments_lexer": "ipython3",
   "version": "3.8.13"
  }
 },
 "nbformat": 4,
 "nbformat_minor": 5
}
