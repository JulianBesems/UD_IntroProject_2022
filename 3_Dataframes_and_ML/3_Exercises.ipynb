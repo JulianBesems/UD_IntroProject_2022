{
 "cells": [
  {
   "cell_type": "markdown",
   "id": "1caec30a",
   "metadata": {},
   "source": [
    "## Exercise session 3\n",
    "\n",
    "For this exercise you have to find a database of your own that you find interesting, and investigate it using the pandas library. \n",
    "\n",
    "A good starting point to look for databases is __Kaggle__:\n",
    "\n",
    "https://www.kaggle.com/datasets\n",
    "\n",
    "Of course feel free to look for any other datasets from other sources. \n",
    "\n",
    "The dataset should at least have 2000 rows. And more than 4 columns \n",
    "\n",
    "Your assignment is to analyse the data, and document your findings in a jupyter notebook. Also try to visualise key aspects of your analysis using matplotlib. \n",
    "\n",
    "As a starting point the folder contains some datasets to experiment with as well. \n",
    "\n",
    "Pay attention to:\n",
    "- filter out missing information\n",
    "- look for outliers\n",
    "- if you have a dataset with no numerical data, try to create your own based on its contents (frequency of occurence for example)"
   ]
  },
  {
   "cell_type": "code",
   "execution_count": null,
   "id": "d5a708b8",
   "metadata": {},
   "outputs": [],
   "source": []
  }
 ],
 "metadata": {
  "kernelspec": {
   "display_name": "Python 3 (ipykernel)",
   "language": "python",
   "name": "python3"
  },
  "language_info": {
   "codemirror_mode": {
    "name": "ipython",
    "version": 3
   },
   "file_extension": ".py",
   "mimetype": "text/x-python",
   "name": "python",
   "nbconvert_exporter": "python",
   "pygments_lexer": "ipython3",
   "version": "3.8.13"
  }
 },
 "nbformat": 4,
 "nbformat_minor": 5
}
