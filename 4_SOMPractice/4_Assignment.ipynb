{
 "cells": [
  {
   "cell_type": "markdown",
   "id": "14f838a4",
   "metadata": {},
   "source": [
    "## Assignment 4\n",
    "\n",
    "This is assignment needs to be handed in on teams by midnight on Tuesday 18-10-2022.\n",
    "\n",
    "The documents to hand in are:\n",
    "- A jupyter notebook you used to execute the assignment. Including any files such as .csv files which you've accessed in the notebook.\n",
    "- A pdf document of maximum 3 pages A4 Landscape (We will view it on screen so that's why we're sticking to landscape), in which you explain your process, the nature of the data you analysed, visualisations of the results, and the conclusions you were able to draw from this. \n",
    "\n",
    "#### The Assignment\n",
    "\n",
    "You will have to find a dataset of your choice, and train a SOM on this dataset. Following this you will demonstrate you understand the nature of the SOM technology, and also the results it produces. Feel free to use any additional analysis methods to enrich your analysis. \n"
   ]
  },
  {
   "cell_type": "code",
   "execution_count": null,
   "id": "8a3c9f0d",
   "metadata": {},
   "outputs": [],
   "source": []
  }
 ],
 "metadata": {
  "kernelspec": {
   "display_name": "Python 3 (ipykernel)",
   "language": "python",
   "name": "python3"
  },
  "language_info": {
   "codemirror_mode": {
    "name": "ipython",
    "version": 3
   },
   "file_extension": ".py",
   "mimetype": "text/x-python",
   "name": "python",
   "nbconvert_exporter": "python",
   "pygments_lexer": "ipython3",
   "version": "3.8.13"
  }
 },
 "nbformat": 4,
 "nbformat_minor": 5
}
